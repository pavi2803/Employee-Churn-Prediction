{
 "cells": [
  {
   "cell_type": "code",
   "execution_count": 6,
   "metadata": {
    "papermill": {
     "duration": 0.099237,
     "end_time": "2021-04-15T16:49:27.224369",
     "exception": false,
     "start_time": "2021-04-15T16:49:27.125132",
     "status": "completed"
    },
    "tags": []
   },
   "outputs": [],
   "source": [
    "import numpy as np # linear algebra\n",
    "import pandas as pd # data processing, CSV file I/O (e.g. pd.read_csv)\n",
    "import seaborn as sns\n",
    "import matplotlib.pyplot as plt\n",
    "\n",
    "from sklearn.model_selection import train_test_split, StratifiedKFold, GridSearchCV\n",
    "from sklearn.linear_model import LogisticRegression\n",
    "from sklearn.svm import SVC\n",
    "import missingno as msno\n",
    "from sklearn.preprocessing import LabelEncoder\n",
    "from sklearn.ensemble import RandomForestClassifier, VotingClassifier\n",
    "from sklearn.neighbors import KNeighborsClassifier\n",
    "from scipy.stats import norm, skew, boxcox\n",
    "from sklearn.preprocessing import RobustScaler, StandardScaler\n",
    "from catboost import CatBoostClassifier, Pool\n",
    "from sklearn.tree import DecisionTreeClassifier\n",
    "from sklearn.metrics import accuracy_score, mean_squared_error, confusion_matrix, plot_confusion_matrix, auc\n",
    "from xgboost import XGBClassifier\n",
    "from sklearn.preprocessing import RobustScaler, StandardScaler\n"
   ]
  },
  {
   "cell_type": "markdown",
   "metadata": {
    "papermill": {
     "duration": 0.099451,
     "end_time": "2021-04-15T16:49:27.422686",
     "exception": false,
     "start_time": "2021-04-15T16:49:27.323235",
     "status": "completed"
    },
    "tags": []
   },
   "source": [
    "# Importing Dataset"
   ]
  },
  {
   "cell_type": "code",
   "execution_count": 2,
   "id": "handy-procedure",
   "metadata": {
    "_cell_guid": "b1076dfc-b9ad-4769-8c92-a6c4dae69d19",
    "_kg_hide-input": true,
    "_uuid": "8f2839f25d086af736a60e9eeb907d3b93b6e0e5",
    "execution": {
     "iopub.execute_input": "2021-04-15T16:49:27.633860Z",
     "iopub.status.busy": "2021-04-15T16:49:27.632927Z",
     "iopub.status.idle": "2021-04-15T16:49:29.729968Z",
     "shell.execute_reply": "2021-04-15T16:49:29.728816Z"
    },
    "jupyter": {
     "source_hidden": true
    },
    "papermill": {
     "duration": 2.206146,
     "end_time": "2021-04-15T16:49:29.730159",
     "exception": false,
     "start_time": "2021-04-15T16:49:27.524013",
     "status": "completed"
    },
    "tags": []
   },
   "outputs": [],
   "source": [
    "\n",
    "train_data = pd.read_csv(\"C:/Users/Pavithra/Documents/DATASETS/Job Change/aug_train.csv\")\n",
    "test_data = pd.read_csv(\"C:/Users/Pavithra/Documents/DATASETS/Job Change/aug_test.csv\")\n",
    "enrollee_id = test_data[\"enrollee_id\"]\n"
   ]
  },
  {
   "cell_type": "code",
   "execution_count": 3,
   "metadata": {
    "papermill": {
     "duration": 0.101115,
     "end_time": "2021-04-15T16:49:29.934988",
     "exception": false,
     "start_time": "2021-04-15T16:49:29.833873",
     "status": "completed"
    },
    "tags": []
   },
   "outputs": [
    {
     "name": "stdout",
     "output_type": "stream",
     "text": [
      " \t Data Columns : \n",
      " \n",
      "  Index(['enrollee_id', 'city', 'city_development_index', 'gender',\n",
      "       'relevent_experience', 'enrolled_university', 'education_level',\n",
      "       'major_discipline', 'experience', 'company_size', 'company_type',\n",
      "       'last_new_job', 'training_hours', 'target'],\n",
      "      dtype='object')\n"
     ]
    }
   ],
   "source": [
    "print(\" \\t Data Columns : \\n \\n \",train_data.columns)"
   ]
  },
  {
   "cell_type": "code",
   "execution_count": 4,
   "id": "ambient-italy",
   "metadata": {
    "execution": {
     "iopub.execute_input": "2021-04-15T16:49:30.144801Z",
     "iopub.status.busy": "2021-04-15T16:49:30.144116Z",
     "iopub.status.idle": "2021-04-15T16:49:30.254263Z",
     "shell.execute_reply": "2021-04-15T16:49:30.253543Z"
    },
    "papermill": {
     "duration": 0.218464,
     "end_time": "2021-04-15T16:49:30.254416",
     "exception": false,
     "start_time": "2021-04-15T16:49:30.035952",
     "status": "completed"
    },
    "tags": []
   },
   "outputs": [
    {
     "data": {
      "text/html": [
       "<div>\n",
       "<style scoped>\n",
       "    .dataframe tbody tr th:only-of-type {\n",
       "        vertical-align: middle;\n",
       "    }\n",
       "\n",
       "    .dataframe tbody tr th {\n",
       "        vertical-align: top;\n",
       "    }\n",
       "\n",
       "    .dataframe thead th {\n",
       "        text-align: right;\n",
       "    }\n",
       "</style>\n",
       "<table border=\"1\" class=\"dataframe\">\n",
       "  <thead>\n",
       "    <tr style=\"text-align: right;\">\n",
       "      <th></th>\n",
       "      <th>enrollee_id</th>\n",
       "      <th>city</th>\n",
       "      <th>city_development_index</th>\n",
       "      <th>gender</th>\n",
       "      <th>relevent_experience</th>\n",
       "      <th>enrolled_university</th>\n",
       "      <th>education_level</th>\n",
       "      <th>major_discipline</th>\n",
       "      <th>experience</th>\n",
       "      <th>company_size</th>\n",
       "      <th>company_type</th>\n",
       "      <th>last_new_job</th>\n",
       "      <th>training_hours</th>\n",
       "      <th>target</th>\n",
       "    </tr>\n",
       "  </thead>\n",
       "  <tbody>\n",
       "    <tr>\n",
       "      <th>0</th>\n",
       "      <td>8949</td>\n",
       "      <td>city_103</td>\n",
       "      <td>0.920</td>\n",
       "      <td>Male</td>\n",
       "      <td>Has relevent experience</td>\n",
       "      <td>no_enrollment</td>\n",
       "      <td>Graduate</td>\n",
       "      <td>STEM</td>\n",
       "      <td>&gt;20</td>\n",
       "      <td>NaN</td>\n",
       "      <td>NaN</td>\n",
       "      <td>1</td>\n",
       "      <td>36</td>\n",
       "      <td>1.0</td>\n",
       "    </tr>\n",
       "    <tr>\n",
       "      <th>1</th>\n",
       "      <td>29725</td>\n",
       "      <td>city_40</td>\n",
       "      <td>0.776</td>\n",
       "      <td>Male</td>\n",
       "      <td>No relevent experience</td>\n",
       "      <td>no_enrollment</td>\n",
       "      <td>Graduate</td>\n",
       "      <td>STEM</td>\n",
       "      <td>15</td>\n",
       "      <td>50-99</td>\n",
       "      <td>Pvt Ltd</td>\n",
       "      <td>&gt;4</td>\n",
       "      <td>47</td>\n",
       "      <td>0.0</td>\n",
       "    </tr>\n",
       "    <tr>\n",
       "      <th>2</th>\n",
       "      <td>11561</td>\n",
       "      <td>city_21</td>\n",
       "      <td>0.624</td>\n",
       "      <td>NaN</td>\n",
       "      <td>No relevent experience</td>\n",
       "      <td>Full time course</td>\n",
       "      <td>Graduate</td>\n",
       "      <td>STEM</td>\n",
       "      <td>5</td>\n",
       "      <td>NaN</td>\n",
       "      <td>NaN</td>\n",
       "      <td>never</td>\n",
       "      <td>83</td>\n",
       "      <td>0.0</td>\n",
       "    </tr>\n",
       "    <tr>\n",
       "      <th>3</th>\n",
       "      <td>33241</td>\n",
       "      <td>city_115</td>\n",
       "      <td>0.789</td>\n",
       "      <td>NaN</td>\n",
       "      <td>No relevent experience</td>\n",
       "      <td>NaN</td>\n",
       "      <td>Graduate</td>\n",
       "      <td>Business Degree</td>\n",
       "      <td>&lt;1</td>\n",
       "      <td>NaN</td>\n",
       "      <td>Pvt Ltd</td>\n",
       "      <td>never</td>\n",
       "      <td>52</td>\n",
       "      <td>1.0</td>\n",
       "    </tr>\n",
       "    <tr>\n",
       "      <th>4</th>\n",
       "      <td>666</td>\n",
       "      <td>city_162</td>\n",
       "      <td>0.767</td>\n",
       "      <td>Male</td>\n",
       "      <td>Has relevent experience</td>\n",
       "      <td>no_enrollment</td>\n",
       "      <td>Masters</td>\n",
       "      <td>STEM</td>\n",
       "      <td>&gt;20</td>\n",
       "      <td>50-99</td>\n",
       "      <td>Funded Startup</td>\n",
       "      <td>4</td>\n",
       "      <td>8</td>\n",
       "      <td>0.0</td>\n",
       "    </tr>\n",
       "  </tbody>\n",
       "</table>\n",
       "</div>"
      ],
      "text/plain": [
       "   enrollee_id      city  city_development_index gender  \\\n",
       "0         8949  city_103                   0.920   Male   \n",
       "1        29725   city_40                   0.776   Male   \n",
       "2        11561   city_21                   0.624    NaN   \n",
       "3        33241  city_115                   0.789    NaN   \n",
       "4          666  city_162                   0.767   Male   \n",
       "\n",
       "       relevent_experience enrolled_university education_level  \\\n",
       "0  Has relevent experience       no_enrollment        Graduate   \n",
       "1   No relevent experience       no_enrollment        Graduate   \n",
       "2   No relevent experience    Full time course        Graduate   \n",
       "3   No relevent experience                 NaN        Graduate   \n",
       "4  Has relevent experience       no_enrollment         Masters   \n",
       "\n",
       "  major_discipline experience company_size    company_type last_new_job  \\\n",
       "0             STEM        >20          NaN             NaN            1   \n",
       "1             STEM         15        50-99         Pvt Ltd           >4   \n",
       "2             STEM          5          NaN             NaN        never   \n",
       "3  Business Degree         <1          NaN         Pvt Ltd        never   \n",
       "4             STEM        >20        50-99  Funded Startup            4   \n",
       "\n",
       "   training_hours  target  \n",
       "0              36     1.0  \n",
       "1              47     0.0  \n",
       "2              83     0.0  \n",
       "3              52     1.0  \n",
       "4               8     0.0  "
      ]
     },
     "execution_count": 4,
     "metadata": {},
     "output_type": "execute_result"
    }
   ],
   "source": [
    "train_data.head()"
   ]
  },
  {
   "cell_type": "code",
   "execution_count": null,
   "id": "stable-lyric",
   "metadata": {
    "execution": {
     "iopub.execute_input": "2021-04-15T16:49:30.458485Z",
     "iopub.status.busy": "2021-04-15T16:49:30.457738Z",
     "iopub.status.idle": "2021-04-15T16:49:30.462506Z",
     "shell.execute_reply": "2021-04-15T16:49:30.461941Z"
    },
    "papermill": {
     "duration": 0.109669,
     "end_time": "2021-04-15T16:49:30.462678",
     "exception": false,
     "start_time": "2021-04-15T16:49:30.353009",
     "status": "completed"
    },
    "tags": []
   },
   "outputs": [],
   "source": []
  },
  {
   "cell_type": "code",
   "execution_count": 5,
   "id": "functional-williams",
   "metadata": {
    "execution": {
     "iopub.execute_input": "2021-04-15T16:49:30.669707Z",
     "iopub.status.busy": "2021-04-15T16:49:30.668783Z",
     "iopub.status.idle": "2021-04-15T16:49:30.696337Z",
     "shell.execute_reply": "2021-04-15T16:49:30.696926Z"
    },
    "papermill": {
     "duration": 0.133825,
     "end_time": "2021-04-15T16:49:30.697114",
     "exception": false,
     "start_time": "2021-04-15T16:49:30.563289",
     "status": "completed"
    },
    "tags": []
   },
   "outputs": [
    {
     "data": {
      "text/html": [
       "<div>\n",
       "<style scoped>\n",
       "    .dataframe tbody tr th:only-of-type {\n",
       "        vertical-align: middle;\n",
       "    }\n",
       "\n",
       "    .dataframe tbody tr th {\n",
       "        vertical-align: top;\n",
       "    }\n",
       "\n",
       "    .dataframe thead th {\n",
       "        text-align: right;\n",
       "    }\n",
       "</style>\n",
       "<table border=\"1\" class=\"dataframe\">\n",
       "  <thead>\n",
       "    <tr style=\"text-align: right;\">\n",
       "      <th></th>\n",
       "      <th>enrollee_id</th>\n",
       "      <th>city_development_index</th>\n",
       "      <th>training_hours</th>\n",
       "      <th>target</th>\n",
       "    </tr>\n",
       "  </thead>\n",
       "  <tbody>\n",
       "    <tr>\n",
       "      <th>count</th>\n",
       "      <td>19158.000000</td>\n",
       "      <td>19158.000000</td>\n",
       "      <td>19158.000000</td>\n",
       "      <td>19158.000000</td>\n",
       "    </tr>\n",
       "    <tr>\n",
       "      <th>mean</th>\n",
       "      <td>16875.358179</td>\n",
       "      <td>0.828848</td>\n",
       "      <td>65.366896</td>\n",
       "      <td>0.249348</td>\n",
       "    </tr>\n",
       "    <tr>\n",
       "      <th>std</th>\n",
       "      <td>9616.292592</td>\n",
       "      <td>0.123362</td>\n",
       "      <td>60.058462</td>\n",
       "      <td>0.432647</td>\n",
       "    </tr>\n",
       "    <tr>\n",
       "      <th>min</th>\n",
       "      <td>1.000000</td>\n",
       "      <td>0.448000</td>\n",
       "      <td>1.000000</td>\n",
       "      <td>0.000000</td>\n",
       "    </tr>\n",
       "    <tr>\n",
       "      <th>25%</th>\n",
       "      <td>8554.250000</td>\n",
       "      <td>0.740000</td>\n",
       "      <td>23.000000</td>\n",
       "      <td>0.000000</td>\n",
       "    </tr>\n",
       "    <tr>\n",
       "      <th>50%</th>\n",
       "      <td>16982.500000</td>\n",
       "      <td>0.903000</td>\n",
       "      <td>47.000000</td>\n",
       "      <td>0.000000</td>\n",
       "    </tr>\n",
       "    <tr>\n",
       "      <th>75%</th>\n",
       "      <td>25169.750000</td>\n",
       "      <td>0.920000</td>\n",
       "      <td>88.000000</td>\n",
       "      <td>0.000000</td>\n",
       "    </tr>\n",
       "    <tr>\n",
       "      <th>max</th>\n",
       "      <td>33380.000000</td>\n",
       "      <td>0.949000</td>\n",
       "      <td>336.000000</td>\n",
       "      <td>1.000000</td>\n",
       "    </tr>\n",
       "  </tbody>\n",
       "</table>\n",
       "</div>"
      ],
      "text/plain": [
       "        enrollee_id  city_development_index  training_hours        target\n",
       "count  19158.000000            19158.000000    19158.000000  19158.000000\n",
       "mean   16875.358179                0.828848       65.366896      0.249348\n",
       "std     9616.292592                0.123362       60.058462      0.432647\n",
       "min        1.000000                0.448000        1.000000      0.000000\n",
       "25%     8554.250000                0.740000       23.000000      0.000000\n",
       "50%    16982.500000                0.903000       47.000000      0.000000\n",
       "75%    25169.750000                0.920000       88.000000      0.000000\n",
       "max    33380.000000                0.949000      336.000000      1.000000"
      ]
     },
     "execution_count": 5,
     "metadata": {},
     "output_type": "execute_result"
    }
   ],
   "source": [
    "train_data.describe()"
   ]
  },
  {
   "cell_type": "code",
   "execution_count": 6,
   "metadata": {
    "papermill": {
     "duration": 0.100073,
     "end_time": "2021-04-15T16:49:30.898359",
     "exception": false,
     "start_time": "2021-04-15T16:49:30.798286",
     "status": "completed"
    },
    "tags": []
   },
   "outputs": [],
   "source": [
    "# ABOUT THE FEATURES"
   ]
  },
  {
   "cell_type": "markdown",
   "metadata": {
    "execution": {
     "iopub.execute_input": "2021-04-15T16:49:31.105286Z",
     "iopub.status.busy": "2021-04-15T16:49:31.101624Z",
     "iopub.status.idle": "2021-04-15T16:49:31.130178Z",
     "shell.execute_reply": "2021-04-15T16:49:31.129467Z"
    },
    "papermill": {
     "duration": 0.133301,
     "end_time": "2021-04-15T16:49:31.130316",
     "exception": false,
     "start_time": "2021-04-15T16:49:30.997015",
     "status": "completed"
    },
    "tags": []
   },
   "source": [
    "<ol>    \n",
    "    <li style = \"color:#004D40;font-weight:bold\" > <p style = \"color:black;font-weight:400\" > <strong> enrollee_id : </strong> Unique ID for enrollee </p> </li>  \n",
    "    <li style = \"color:#004D40;font-weight:bold\" > <p style = \"color:black;font-weight:400\" > <strong> city : </strong> City code </p> </li>\n",
    "    <li style = \"color:#004D40;font-weight:bold\" > <p style = \"color:black;font-weight:400\" > <strong> city_development_index : </strong> Developement index of the city (scaled) </p> </li>  \n",
    "    <li style = \"color:#004D40;font-weight:bold\" > <p style = \"color:black;font-weight:400\" > <strong> gender : </strong> Registered person gender (M/F) </p> </li>\n",
    "    <li style = \"color:#004D40;font-weight:bold\" > <p style = \"color:black;font-weight:400\" > <strong> relevent_experience : </strong> Relevent experience </p> </li>  \n",
    "    <li style = \"color:#004D40;font-weight:bold\" > <p style = \"color:black;font-weight:400\" > <strong> enrolled_university  : </strong> Type of university of the enrolee </p> </li>\n",
    "    <li style = \"color:#004D40;font-weight:bold\" > <p style = \"color:black;font-weight:400\" > <strong> education_level : </strong> edu level </p> </li>  \n",
    "    <li style = \"color:#004D40;font-weight:bold\" > <p style = \"color:black;font-weight:400\" > <strong> major_discipline : </strong> edu discipline of enrollee </p> </li>\n",
    "    <li style = \"color:#004D40;font-weight:bold\" > <p style = \"color:black;font-weight:400\" > <strong> experience : </strong>Total experience in years </p> </li>\n",
    "    <li style = \"color:#004D40;font-weight:bold\" > <p style = \"color:black;font-weight:400\" > <strong> company_size : </strong> No of employees in current employer's company </p> </li>\n",
    "    <li style = \"color:#004D40;font-weight:bold\" > <p style = \"color:black;font-weight:400\" > <strong> company_type : </strong> Type of current employer </p> </li>\n",
    "    <li style = \"color:#004D40;font-weight:bold\" > <p style = \"color:black;font-weight:400\" > <strong> last_new_job : </strong> Difference in years between previous job and current job </p> </li>\n",
    "    <li style = \"color:#004D40;font-weight:bold\" > <p style = \"color:black;font-weight:400\" > <strong> training_hours : </strong> training hours completed </p> </li>\n",
    "    <li style = \"color:#004D40;font-weight:bold\" > <p style = \"color:black;font-weight:400\" > <strong> target : </strong> 0 – Not looking for job change, 1 – Looking for a job change </p> </li>\n",
    "</ol>"
   ]
  },
  {
   "cell_type": "code",
   "execution_count": 7,
   "metadata": {
    "papermill": {
     "duration": 0.098904,
     "end_time": "2021-04-15T16:49:31.330193",
     "exception": false,
     "start_time": "2021-04-15T16:49:31.231289",
     "status": "completed"
    },
    "tags": []
   },
   "outputs": [
    {
     "name": "stdout",
     "output_type": "stream",
     "text": [
      "Train Data INFO \n",
      "\n",
      "<class 'pandas.core.frame.DataFrame'>\n",
      "RangeIndex: 19158 entries, 0 to 19157\n",
      "Data columns (total 14 columns):\n",
      " #   Column                  Non-Null Count  Dtype  \n",
      "---  ------                  --------------  -----  \n",
      " 0   enrollee_id             19158 non-null  int64  \n",
      " 1   city                    19158 non-null  object \n",
      " 2   city_development_index  19158 non-null  float64\n",
      " 3   gender                  14650 non-null  object \n",
      " 4   relevent_experience     19158 non-null  object \n",
      " 5   enrolled_university     18772 non-null  object \n",
      " 6   education_level         18698 non-null  object \n",
      " 7   major_discipline        16345 non-null  object \n",
      " 8   experience              19093 non-null  object \n",
      " 9   company_size            13220 non-null  object \n",
      " 10  company_type            13018 non-null  object \n",
      " 11  last_new_job            18735 non-null  object \n",
      " 12  training_hours          19158 non-null  int64  \n",
      " 13  target                  19158 non-null  float64\n",
      "dtypes: float64(2), int64(2), object(10)\n",
      "memory usage: 2.0+ MB\n"
     ]
    }
   ],
   "source": [
    "print(\"Train Data INFO \\n\")\n",
    "train_data.info()"
   ]
  },
  {
   "cell_type": "markdown",
   "id": "synthetic-electric",
   "metadata": {
    "papermill": {
     "duration": 0.104837,
     "end_time": "2021-04-15T16:49:31.535965",
     "exception": false,
     "start_time": "2021-04-15T16:49:31.431128",
     "status": "completed"
    },
    "tags": []
   },
   "source": []
  },
  {
   "cell_type": "code",
   "execution_count": 8,
   "id": "intimate-benchmark",
   "metadata": {
    "execution": {
     "iopub.execute_input": "2021-04-15T16:49:31.762620Z",
     "iopub.status.busy": "2021-04-15T16:49:31.761614Z",
     "iopub.status.idle": "2021-04-15T16:49:31.781204Z",
     "shell.execute_reply": "2021-04-15T16:49:31.780268Z"
    },
    "papermill": {
     "duration": 0.144372,
     "end_time": "2021-04-15T16:49:31.781438",
     "exception": false,
     "start_time": "2021-04-15T16:49:31.637066",
     "status": "completed"
    },
    "tags": []
   },
   "outputs": [
    {
     "name": "stdout",
     "output_type": "stream",
     "text": [
      "city_103    4355\n",
      "city_21     2702\n",
      "city_16     1533\n",
      "city_114    1336\n",
      "city_160     845\n",
      "            ... \n",
      "city_121       3\n",
      "city_129       3\n",
      "city_111       3\n",
      "city_171       1\n",
      "city_140       1\n",
      "Name: city, Length: 123, dtype: int64 \n",
      "\n",
      "No of null values : 0 \n",
      "\n"
     ]
    }
   ],
   "source": [
    "#city\n",
    "print(\"{} \\n\".format(train_data[\"city\"].value_counts()))\n",
    "print(\"No of null values : {} \\n\".format(train_data[\"city\"].isnull().sum()))"
   ]
  },
  {
   "cell_type": "code",
   "execution_count": null,
   "metadata": {
    "papermill": {
     "duration": 0.102207,
     "end_time": "2021-04-15T16:49:31.987964",
     "exception": false,
     "start_time": "2021-04-15T16:49:31.885757",
     "status": "completed"
    },
    "tags": []
   },
   "outputs": [],
   "source": []
  },
  {
   "cell_type": "code",
   "execution_count": null,
   "id": "contained-trainer",
   "metadata": {
    "execution": {
     "iopub.execute_input": "2021-04-15T16:49:32.197098Z",
     "iopub.status.busy": "2021-04-15T16:49:32.196291Z",
     "iopub.status.idle": "2021-04-15T16:49:32.211216Z",
     "shell.execute_reply": "2021-04-15T16:49:32.211864Z"
    },
    "papermill": {
     "duration": 0.121661,
     "end_time": "2021-04-15T16:49:32.212036",
     "exception": false,
     "start_time": "2021-04-15T16:49:32.090375",
     "status": "completed"
    },
    "tags": []
   },
   "outputs": [],
   "source": []
  },
  {
   "cell_type": "code",
   "execution_count": 9,
   "id": "opposed-external",
   "metadata": {
    "execution": {
     "iopub.execute_input": "2021-04-15T16:49:32.447568Z",
     "iopub.status.busy": "2021-04-15T16:49:32.439799Z",
     "iopub.status.idle": "2021-04-15T16:49:32.619376Z",
     "shell.execute_reply": "2021-04-15T16:49:32.619881Z"
    },
    "papermill": {
     "duration": 0.302147,
     "end_time": "2021-04-15T16:49:32.620094",
     "exception": false,
     "start_time": "2021-04-15T16:49:32.317947",
     "status": "completed"
    },
    "tags": []
   },
   "outputs": [
    {
     "data": {
      "image/png": "[encoded data removed]",
      "text/plain": [
       "<Figure size 648x216 with 1 Axes>"
      ]
     },
     "metadata": {
      "needs_background": "light"
     },
     "output_type": "display_data"
    },
    {
     "name": "stdout",
     "output_type": "stream",
     "text": [
      "0.920    5200\n",
      "0.624    2702\n",
      "0.910    1533\n",
      "0.926    1336\n",
      "0.698     683\n",
      "         ... \n",
      "0.824       4\n",
      "0.807       4\n",
      "0.625       3\n",
      "0.781       3\n",
      "0.664       1\n",
      "Name: city_development_index, Length: 93, dtype: int64 \n",
      "\n",
      "null value number :\n",
      "\n"
     ]
    }
   ],
   "source": [
    "#city_development_index\n",
    "plt.figure(figsize=(9,3))\n",
    "plt.hist(train_data[\"city_development_index\"], color=\"purple\")\n",
    "plt.ylabel(\"Frequency\")\n",
    "plt.show()\n",
    "\n",
    "print(\"{} \\n\".format(train_data[\"city_development_index\"].value_counts()))\n",
    "print(\"null value number :\\n\".format(train_data[\"city_development_index\"].isnull().sum()))"
   ]
  },
  {
   "cell_type": "code",
   "execution_count": 10,
   "id": "cloudy-walter",
   "metadata": {
    "execution": {
     "iopub.execute_input": "2021-04-15T16:49:32.878722Z",
     "iopub.status.busy": "2021-04-15T16:49:32.837486Z",
     "iopub.status.idle": "2021-04-15T16:49:33.065881Z",
     "shell.execute_reply": "2021-04-15T16:49:33.066404Z"
    },
    "papermill": {
     "duration": 0.342001,
     "end_time": "2021-04-15T16:49:33.066614",
     "exception": false,
     "start_time": "2021-04-15T16:49:32.724613",
     "status": "completed"
    },
    "tags": []
   },
   "outputs": [
    {
     "data": {
      "image/png": "[encoded data removed]",
      "text/plain": [
       "<Figure size 648x216 with 1 Axes>"
      ]
     },
     "metadata": {
      "needs_background": "light"
     },
     "output_type": "display_data"
    },
    {
     "name": "stdout",
     "output_type": "stream",
     "text": [
      "Male      13221\n",
      "Female     1238\n",
      "Other       191\n",
      "Name: gender, dtype: int64\n",
      "null values are: 4508 \n",
      "\n"
     ]
    }
   ],
   "source": [
    "#gender \n",
    "gender = train_data[\"gender\"].value_counts()\n",
    "plt.figure(figsize=(9,3))\n",
    "sns.countplot(x=train_data[\"gender\"], hue = \"target\", data = train_data)\n",
    "plt.title(\"gender\", color = \"darkred\")\n",
    "plt.show()\n",
    "print(gender)\n",
    "print(\"null values are: {} \\n\".format(train_data[\"gender\"].isnull().sum()))"
   ]
  },
  {
   "cell_type": "code",
   "execution_count": null,
   "metadata": {
    "papermill": {
     "duration": 0.10316,
     "end_time": "2021-04-15T16:49:33.275132",
     "exception": false,
     "start_time": "2021-04-15T16:49:33.171972",
     "status": "completed"
    },
    "tags": []
   },
   "outputs": [],
   "source": []
  },
  {
   "cell_type": "code",
   "execution_count": 11,
   "id": "worthy-affair",
   "metadata": {
    "execution": {
     "iopub.execute_input": "2021-04-15T16:49:33.504220Z",
     "iopub.status.busy": "2021-04-15T16:49:33.494124Z",
     "iopub.status.idle": "2021-04-15T16:49:33.680346Z",
     "shell.execute_reply": "2021-04-15T16:49:33.680806Z"
    },
    "papermill": {
     "duration": 0.300582,
     "end_time": "2021-04-15T16:49:33.680987",
     "exception": false,
     "start_time": "2021-04-15T16:49:33.380405",
     "status": "completed"
    },
    "tags": []
   },
   "outputs": [
    {
     "data": {
      "image/png": "[encoded data removed]",
      "text/plain": [
       "<Figure size 432x576 with 1 Axes>"
      ]
     },
     "metadata": {},
     "output_type": "display_data"
    },
    {
     "name": "stdout",
     "output_type": "stream",
     "text": [
      "Has relevent experience    13792\n",
      "No relevent experience      5366\n",
      "Name: relevent_experience, dtype: int64\n",
      "null value number -- > 0 \n",
      "\n"
     ]
    }
   ],
   "source": [
    "#relevent_experience\n",
    "experience = train_data[\"relevent_experience\"].value_counts()\n",
    "data_index = experience.index\n",
    "data_values = experience.values\n",
    "\n",
    "plt.figure(figsize = (6,8))\n",
    "plt.pie(data_values, labels=data_index, autopct='%1.2f%%')\n",
    "plt.title('Relevent Experience',color = 'darkred',fontsize = 15)\n",
    "plt.legend()\n",
    "plt.show()\n",
    "\n",
    "print(experience)\n",
    "print(\"null value number -- > {} \\n\".format(train_data[\"relevent_experience\"].isnull().sum()))"
   ]
  },
  {
   "cell_type": "code",
   "execution_count": null,
   "metadata": {
    "papermill": {
     "duration": 0.106118,
     "end_time": "2021-04-15T16:49:33.893975",
     "exception": false,
     "start_time": "2021-04-15T16:49:33.787857",
     "status": "completed"
    },
    "tags": []
   },
   "outputs": [],
   "source": []
  },
  {
   "cell_type": "code",
   "execution_count": 12,
   "id": "finite-provider",
   "metadata": {
    "execution": {
     "iopub.execute_input": "2021-04-15T16:49:34.155551Z",
     "iopub.status.busy": "2021-04-15T16:49:34.154134Z",
     "iopub.status.idle": "2021-04-15T16:49:34.280775Z",
     "shell.execute_reply": "2021-04-15T16:49:34.280213Z"
    },
    "papermill": {
     "duration": 0.2765,
     "end_time": "2021-04-15T16:49:34.280924",
     "exception": false,
     "start_time": "2021-04-15T16:49:34.004424",
     "status": "completed"
    },
    "tags": []
   },
   "outputs": [
    {
     "data": {
      "image/png": "[encoded data removed]",
      "text/plain": [
       "<Figure size 432x288 with 1 Axes>"
      ]
     },
     "metadata": {
      "needs_background": "light"
     },
     "output_type": "display_data"
    },
    {
     "name": "stdout",
     "output_type": "stream",
     "text": [
      "no_enrollment       13817\n",
      "Full time course     3757\n",
      "Part time course     1198\n",
      "Name: enrolled_university, dtype: int64\n",
      "null value number -- > 386 \n",
      "\n"
     ]
    }
   ],
   "source": [
    "#enrolled_university \n",
    "university = train_data[\"enrolled_university\"].value_counts()\n",
    "\n",
    "ax= sns.barplot(x=university.index, y=university.values)\n",
    "plt.xlabel(' Type of university of the enrolee', size = 15, color = \"green\") \n",
    "plt.ylabel('Value', size = 15) \n",
    "plt.title('Enrolled University', color = \"darkred\")\n",
    "plt.show()\n",
    "\n",
    "print(university)\n",
    "print(\"null value number -- > {} \\n\".format(train_data[\"enrolled_university\"].isnull().sum()))"
   ]
  },
  {
   "cell_type": "code",
   "execution_count": 13,
   "id": "electric-invasion",
   "metadata": {
    "execution": {
     "iopub.execute_input": "2021-04-15T16:49:34.546837Z",
     "iopub.status.busy": "2021-04-15T16:49:34.545997Z",
     "iopub.status.idle": "2021-04-15T16:49:34.888909Z",
     "shell.execute_reply": "2021-04-15T16:49:34.888343Z"
    },
    "papermill": {
     "duration": 0.500618,
     "end_time": "2021-04-15T16:49:34.889161",
     "exception": false,
     "start_time": "2021-04-15T16:49:34.388543",
     "status": "completed"
    },
    "tags": []
   },
   "outputs": [
    {
     "data": {
      "image/png": "[encoded data removed]",
      "text/plain": [
       "<Figure size 1008x432 with 2 Axes>"
      ]
     },
     "metadata": {
      "needs_background": "light"
     },
     "output_type": "display_data"
    },
    {
     "name": "stdout",
     "output_type": "stream",
     "text": [
      "Graduate          11598\n",
      "Masters            4361\n",
      "High School        2017\n",
      "Phd                 414\n",
      "Primary School      308\n",
      "Name: education_level, dtype: int64\n",
      "null value number -- > 460 \n",
      "\n"
     ]
    }
   ],
   "source": [
    "#education_level\n",
    "colors = ['#558B2F','#E65100','#FFE4E1','#A52A2A','black']\n",
    "edu_level = train_data[\"education_level\"].value_counts()\n",
    "\n",
    "plt.figure(figsize=(14,6))\n",
    "plt.subplot(1,2,1)\n",
    "ax= sns.barplot(x=edu_level.index, y=edu_level.values)\n",
    "plt.xlabel('Edu Level', size = 15, color = \"green\") \n",
    "plt.xticks(rotation = 120)\n",
    "plt.ylabel('Value', size = 15) \n",
    "plt.title('Edu Level', color = \"darkred\")\n",
    "\n",
    "plt.subplot(1,2,2)\n",
    "circle = plt.Circle((0,0),0.2,color = \"white\")\n",
    "plt.pie(edu_level.values, labels = edu_level.index, colors = colors)\n",
    "p = plt.gcf()\n",
    "p.gca().add_artist(circle) \n",
    "plt.title(\"Edu Level\")\n",
    "plt.legend()\n",
    "plt.show()\n",
    "\n",
    "\n",
    "print(edu_level)\n",
    "print(\"null value number -- > {} \\n\".format(train_data[\"education_level\"].isnull().sum()))"
   ]
  },
  {
   "cell_type": "code",
   "execution_count": null,
   "metadata": {
    "papermill": {
     "duration": 0.112333,
     "end_time": "2021-04-15T16:49:35.113278",
     "exception": false,
     "start_time": "2021-04-15T16:49:35.000945",
     "status": "completed"
    },
    "tags": []
   },
   "outputs": [],
   "source": []
  },
  {
   "cell_type": "code",
   "execution_count": 14,
   "id": "sealed-bahrain",
   "metadata": {
    "execution": {
     "iopub.execute_input": "2021-04-15T16:49:35.364861Z",
     "iopub.status.busy": "2021-04-15T16:49:35.363823Z",
     "iopub.status.idle": "2021-04-15T16:49:35.658222Z",
     "shell.execute_reply": "2021-04-15T16:49:35.657140Z"
    },
    "papermill": {
     "duration": 0.436363,
     "end_time": "2021-04-15T16:49:35.658439",
     "exception": false,
     "start_time": "2021-04-15T16:49:35.222076",
     "status": "completed"
    },
    "tags": []
   },
   "outputs": [
    {
     "data": {
      "image/png": "[encoded data removed]",
      "text/plain": [
       "<Figure size 648x216 with 1 Axes>"
      ]
     },
     "metadata": {
      "needs_background": "light"
     },
     "output_type": "display_data"
    },
    {
     "name": "stdout",
     "output_type": "stream",
     "text": [
      "STEM               14492\n",
      "Humanities           669\n",
      "Other                381\n",
      "Business Degree      327\n",
      "Arts                 253\n",
      "No Major             223\n",
      "Name: major_discipline, dtype: int64\n",
      "null value number :2813 \n",
      "\n"
     ]
    }
   ],
   "source": [
    "# major_discipline\n",
    "mj_discipline = train_data[\"major_discipline\"].value_counts()\n",
    "\n",
    "plt.figure(figsize=(9,3))\n",
    "sns.countplot(x=train_data[\"major_discipline\"])\n",
    "plt.title(\"major discipline\", color = \"darkred\")\n",
    "plt.show()\n",
    "\n",
    "print(mj_discipline)\n",
    "print(\"null value number :{} \\n\".format(train_data[\"major_discipline\"].isnull().sum()))"
   ]
  },
  {
   "cell_type": "code",
   "execution_count": null,
   "metadata": {
    "papermill": {
     "duration": 0.132254,
     "end_time": "2021-04-15T16:49:35.920928",
     "exception": false,
     "start_time": "2021-04-15T16:49:35.788674",
     "status": "completed"
    },
    "tags": []
   },
   "outputs": [],
   "source": []
  },
  {
   "cell_type": "code",
   "execution_count": 15,
   "id": "continental-termination",
   "metadata": {
    "execution": {
     "iopub.execute_input": "2021-04-15T16:49:36.189807Z",
     "iopub.status.busy": "2021-04-15T16:49:36.188954Z",
     "iopub.status.idle": "2021-04-15T16:49:36.193911Z",
     "shell.execute_reply": "2021-04-15T16:49:36.193255Z"
    },
    "papermill": {
     "duration": 0.143677,
     "end_time": "2021-04-15T16:49:36.194054",
     "exception": false,
     "start_time": "2021-04-15T16:49:36.050377",
     "status": "completed"
    },
    "tags": []
   },
   "outputs": [
    {
     "name": "stdout",
     "output_type": "stream",
     "text": [
      ">20    3286\n",
      "5      1430\n",
      "4      1403\n",
      "3      1354\n",
      "6      1216\n",
      "2      1127\n",
      "7      1028\n",
      "10      985\n",
      "9       980\n",
      "8       802\n",
      "15      686\n",
      "11      664\n",
      "14      586\n",
      "1       549\n",
      "<1      522\n",
      "16      508\n",
      "12      494\n",
      "13      399\n",
      "17      342\n",
      "19      304\n",
      "18      280\n",
      "20      148\n",
      "Name: experience, dtype: int64 \n",
      "\n",
      "null value number -- > 65 \n",
      "\n"
     ]
    }
   ],
   "source": [
    "#experience \n",
    "print(\"{} \\n\".format(train_data[\"experience\"].value_counts()))\n",
    "print(\"null value number -- > {} \\n\".format(train_data[\"experience\"].isnull().sum()))"
   ]
  },
  {
   "cell_type": "code",
   "execution_count": 16,
   "id": "cleared-southeast",
   "metadata": {
    "execution": {
     "iopub.execute_input": "2021-04-15T16:49:36.465205Z",
     "iopub.status.busy": "2021-04-15T16:49:36.462593Z",
     "iopub.status.idle": "2021-04-15T16:49:36.617996Z",
     "shell.execute_reply": "2021-04-15T16:49:36.617381Z"
    },
    "papermill": {
     "duration": 0.312847,
     "end_time": "2021-04-15T16:49:36.618146",
     "exception": false,
     "start_time": "2021-04-15T16:49:36.305299",
     "status": "completed"
    },
    "tags": []
   },
   "outputs": [
    {
     "data": {
      "image/png": "[encoded data removed]",
      "text/plain": [
       "<Figure size 432x288 with 1 Axes>"
      ]
     },
     "metadata": {
      "needs_background": "light"
     },
     "output_type": "display_data"
    },
    {
     "name": "stdout",
     "output_type": "stream",
     "text": [
      "50-99        3083\n",
      "100-500      2571\n",
      "10000+       2019\n",
      "10/49        1471\n",
      "1000-4999    1328\n",
      "<10          1308\n",
      "500-999       877\n",
      "5000-9999     563\n",
      "Name: company_size, dtype: int64\n",
      "null value number -- > 5938 \n",
      "\n"
     ]
    }
   ],
   "source": [
    "#company_size\n",
    "company_size = train_data[\"company_size\"].value_counts()\n",
    "\n",
    "ax= sns.barplot(x=company_size.index, y=company_size.values)\n",
    "plt.ylabel('Value', size = 15) \n",
    "plt.xticks(rotation = 50)\n",
    "plt.title('company_size', color = \"darkred\")\n",
    "plt.show()\n",
    "\n",
    "print(company_size)\n",
    "print(\"null value number -- > {} \\n\".format(train_data[\"company_size\"].isnull().sum()))"
   ]
  },
  {
   "cell_type": "code",
   "execution_count": null,
   "metadata": {
    "papermill": {
     "duration": 0.114474,
     "end_time": "2021-04-15T16:49:36.845677",
     "exception": false,
     "start_time": "2021-04-15T16:49:36.731203",
     "status": "completed"
    },
    "tags": []
   },
   "outputs": [],
   "source": []
  },
  {
   "cell_type": "code",
   "execution_count": 17,
   "id": "logical-chick",
   "metadata": {
    "execution": {
     "iopub.execute_input": "2021-04-15T16:49:37.107329Z",
     "iopub.status.busy": "2021-04-15T16:49:37.098231Z",
     "iopub.status.idle": "2021-04-15T16:49:37.342297Z",
     "shell.execute_reply": "2021-04-15T16:49:37.342956Z"
    },
    "papermill": {
     "duration": 0.383127,
     "end_time": "2021-04-15T16:49:37.343134",
     "exception": false,
     "start_time": "2021-04-15T16:49:36.960007",
     "status": "completed"
    },
    "tags": []
   },
   "outputs": [
    {
     "data": {
      "image/png": "[encoded data removed]",
      "text/plain": [
       "<Figure size 648x216 with 1 Axes>"
      ]
     },
     "metadata": {
      "needs_background": "light"
     },
     "output_type": "display_data"
    },
    {
     "name": "stdout",
     "output_type": "stream",
     "text": [
      "Pvt Ltd                9817\n",
      "Funded Startup         1001\n",
      "Public Sector           955\n",
      "Early Stage Startup     603\n",
      "NGO                     521\n",
      "Other                   121\n",
      "Name: company_type, dtype: int64\n",
      "null value number -- > 6140 \n",
      "\n"
     ]
    }
   ],
   "source": [
    "#company_type\n",
    "company_type = train_data[\"company_type\"].value_counts()\n",
    "\n",
    "plt.figure(figsize=(9,3))\n",
    "sns.countplot(x=train_data[\"company_type\"], hue = \"target\", data = train_data)\n",
    "\n",
    "plt.xticks(rotation = 50)\n",
    "plt.title(\"company type\", color = \"darkred\")\n",
    "plt.show()\n",
    "\n",
    "print(company_type)\n",
    "print(\"null value number -- > {} \\n\".format(train_data[\"company_type\"].isnull().sum()))\n"
   ]
  },
  {
   "cell_type": "code",
   "execution_count": 18,
   "id": "important-motivation",
   "metadata": {
    "execution": {
     "iopub.execute_input": "2021-04-15T16:49:37.594227Z",
     "iopub.status.busy": "2021-04-15T16:49:37.593478Z",
     "iopub.status.idle": "2021-04-15T16:49:37.760927Z",
     "shell.execute_reply": "2021-04-15T16:49:37.759301Z"
    },
    "papermill": {
     "duration": 0.300551,
     "end_time": "2021-04-15T16:49:37.761147",
     "exception": false,
     "start_time": "2021-04-15T16:49:37.460596",
     "status": "completed"
    },
    "tags": []
   },
   "outputs": [
    {
     "data": {
      "image/png": "[encoded data removed]",
      "text/plain": [
       "<Figure size 432x288 with 1 Axes>"
      ]
     },
     "metadata": {
      "needs_background": "light"
     },
     "output_type": "display_data"
    },
    {
     "name": "stdout",
     "output_type": "stream",
     "text": [
      "1        8040\n",
      ">4       3290\n",
      "2        2900\n",
      "never    2452\n",
      "4        1029\n",
      "3        1024\n",
      "Name: last_new_job, dtype: int64\n",
      "null value number -- > 423 \n",
      "\n"
     ]
    }
   ],
   "source": [
    "# last_new_job \n",
    "last_new = train_data[\"last_new_job\"].value_counts()\n",
    "\n",
    "ax= sns.barplot(x=last_new.index, y=last_new.values)\n",
    "plt.ylabel('Value', size = 15) \n",
    "plt.xticks(rotation = 50)\n",
    "plt.title('last-new job', color = \"darkred\")\n",
    "plt.show()\n",
    "\n",
    "print(last_new)\n",
    "print(\"null value number -- > {} \\n\".format(train_data[\"last_new_job\"].isnull().sum()))"
   ]
  },
  {
   "cell_type": "code",
   "execution_count": null,
   "metadata": {
    "papermill": {
     "duration": 0.120003,
     "end_time": "2021-04-15T16:49:38.006409",
     "exception": false,
     "start_time": "2021-04-15T16:49:37.886406",
     "status": "completed"
    },
    "tags": []
   },
   "outputs": [],
   "source": []
  },
  {
   "cell_type": "code",
   "execution_count": 19,
   "id": "nonprofit-trustee",
   "metadata": {
    "execution": {
     "iopub.execute_input": "2021-04-15T16:49:38.282233Z",
     "iopub.status.busy": "2021-04-15T16:49:38.277896Z",
     "iopub.status.idle": "2021-04-15T16:49:38.435434Z",
     "shell.execute_reply": "2021-04-15T16:49:38.434657Z"
    },
    "papermill": {
     "duration": 0.303985,
     "end_time": "2021-04-15T16:49:38.435656",
     "exception": false,
     "start_time": "2021-04-15T16:49:38.131671",
     "status": "completed"
    },
    "tags": []
   },
   "outputs": [
    {
     "data": {
      "image/png": "[encoded data removed]",
      "text/plain": [
       "<Figure size 648x216 with 1 Axes>"
      ]
     },
     "metadata": {
      "needs_background": "light"
     },
     "output_type": "display_data"
    },
    {
     "name": "stdout",
     "output_type": "stream",
     "text": [
      "28     329\n",
      "12     292\n",
      "18     291\n",
      "22     282\n",
      "50     279\n",
      "      ... \n",
      "266      6\n",
      "286      5\n",
      "272      5\n",
      "234      5\n",
      "238      4\n",
      "Name: training_hours, Length: 241, dtype: int64 \n",
      "\n",
      "null value number -- > 0 \n",
      "\n"
     ]
    }
   ],
   "source": [
    "#training_hours \n",
    "plt.figure(figsize=(9,3))\n",
    "plt.hist(train_data[\"training_hours\"], color=\"lightblue\")\n",
    "plt.ylabel(\"Frequency\")\n",
    "plt.show()\n",
    "\n",
    "print(\"{} \\n\".format(train_data[\"training_hours\"].value_counts()))\n",
    "print(\"null value number -- > {} \\n\".format(train_data[\"training_hours\"].isnull().sum()))"
   ]
  },
  {
   "cell_type": "code",
   "execution_count": 20,
   "metadata": {
    "papermill": {
     "duration": 0.122118,
     "end_time": "2021-04-15T16:49:38.679103",
     "exception": false,
     "start_time": "2021-04-15T16:49:38.556985",
     "status": "completed"
    },
    "tags": []
   },
   "outputs": [],
   "source": [
    "#Data Analysis"
   ]
  },
  {
   "cell_type": "code",
   "execution_count": 21,
   "id": "finished-polish",
   "metadata": {
    "execution": {
     "iopub.execute_input": "2021-04-15T16:49:38.932749Z",
     "iopub.status.busy": "2021-04-15T16:49:38.931931Z",
     "iopub.status.idle": "2021-04-15T16:49:38.945459Z",
     "shell.execute_reply": "2021-04-15T16:49:38.946151Z"
    },
    "papermill": {
     "duration": 0.149294,
     "end_time": "2021-04-15T16:49:38.946352",
     "exception": false,
     "start_time": "2021-04-15T16:49:38.797058",
     "status": "completed"
    },
    "tags": []
   },
   "outputs": [
    {
     "data": {
      "text/html": [
       "<div>\n",
       "<style scoped>\n",
       "    .dataframe tbody tr th:only-of-type {\n",
       "        vertical-align: middle;\n",
       "    }\n",
       "\n",
       "    .dataframe tbody tr th {\n",
       "        vertical-align: top;\n",
       "    }\n",
       "\n",
       "    .dataframe thead th {\n",
       "        text-align: right;\n",
       "    }\n",
       "</style>\n",
       "<table border=\"1\" class=\"dataframe\">\n",
       "  <thead>\n",
       "    <tr style=\"text-align: right;\">\n",
       "      <th></th>\n",
       "      <th>last_new_job</th>\n",
       "      <th>target</th>\n",
       "    </tr>\n",
       "  </thead>\n",
       "  <tbody>\n",
       "    <tr>\n",
       "      <th>5</th>\n",
       "      <td>never</td>\n",
       "      <td>0.301387</td>\n",
       "    </tr>\n",
       "    <tr>\n",
       "      <th>0</th>\n",
       "      <td>1</td>\n",
       "      <td>0.264303</td>\n",
       "    </tr>\n",
       "    <tr>\n",
       "      <th>1</th>\n",
       "      <td>2</td>\n",
       "      <td>0.241379</td>\n",
       "    </tr>\n",
       "    <tr>\n",
       "      <th>2</th>\n",
       "      <td>3</td>\n",
       "      <td>0.225586</td>\n",
       "    </tr>\n",
       "    <tr>\n",
       "      <th>3</th>\n",
       "      <td>4</td>\n",
       "      <td>0.221574</td>\n",
       "    </tr>\n",
       "    <tr>\n",
       "      <th>4</th>\n",
       "      <td>&gt;4</td>\n",
       "      <td>0.182371</td>\n",
       "    </tr>\n",
       "  </tbody>\n",
       "</table>\n",
       "</div>"
      ],
      "text/plain": [
       "  last_new_job    target\n",
       "5        never  0.301387\n",
       "0            1  0.264303\n",
       "1            2  0.241379\n",
       "2            3  0.225586\n",
       "3            4  0.221574\n",
       "4           >4  0.182371"
      ]
     },
     "execution_count": 21,
     "metadata": {},
     "output_type": "execute_result"
    }
   ],
   "source": [
    "# last_new_job - target\n",
    "train_data[[\"last_new_job\",\"target\"]].groupby([\"last_new_job\"], as_index = False).mean().sort_values(by = \"target\",ascending = False)"
   ]
  },
  {
   "cell_type": "code",
   "execution_count": 22,
   "id": "conceptual-moderator",
   "metadata": {
    "execution": {
     "iopub.execute_input": "2021-04-15T16:49:39.223940Z",
     "iopub.status.busy": "2021-04-15T16:49:39.223200Z",
     "iopub.status.idle": "2021-04-15T16:49:39.235400Z",
     "shell.execute_reply": "2021-04-15T16:49:39.236021Z"
    },
    "papermill": {
     "duration": 0.164574,
     "end_time": "2021-04-15T16:49:39.236208",
     "exception": false,
     "start_time": "2021-04-15T16:49:39.071634",
     "status": "completed"
    },
    "tags": []
   },
   "outputs": [
    {
     "data": {
      "text/html": [
       "<div>\n",
       "<style scoped>\n",
       "    .dataframe tbody tr th:only-of-type {\n",
       "        vertical-align: middle;\n",
       "    }\n",
       "\n",
       "    .dataframe tbody tr th {\n",
       "        vertical-align: top;\n",
       "    }\n",
       "\n",
       "    .dataframe thead th {\n",
       "        text-align: right;\n",
       "    }\n",
       "</style>\n",
       "<table border=\"1\" class=\"dataframe\">\n",
       "  <thead>\n",
       "    <tr style=\"text-align: right;\">\n",
       "      <th></th>\n",
       "      <th>company_type</th>\n",
       "      <th>target</th>\n",
       "    </tr>\n",
       "  </thead>\n",
       "  <tbody>\n",
       "    <tr>\n",
       "      <th>3</th>\n",
       "      <td>Other</td>\n",
       "      <td>0.239669</td>\n",
       "    </tr>\n",
       "    <tr>\n",
       "      <th>0</th>\n",
       "      <td>Early Stage Startup</td>\n",
       "      <td>0.235489</td>\n",
       "    </tr>\n",
       "    <tr>\n",
       "      <th>4</th>\n",
       "      <td>Public Sector</td>\n",
       "      <td>0.219895</td>\n",
       "    </tr>\n",
       "    <tr>\n",
       "      <th>2</th>\n",
       "      <td>NGO</td>\n",
       "      <td>0.186180</td>\n",
       "    </tr>\n",
       "    <tr>\n",
       "      <th>5</th>\n",
       "      <td>Pvt Ltd</td>\n",
       "      <td>0.180809</td>\n",
       "    </tr>\n",
       "    <tr>\n",
       "      <th>1</th>\n",
       "      <td>Funded Startup</td>\n",
       "      <td>0.139860</td>\n",
       "    </tr>\n",
       "  </tbody>\n",
       "</table>\n",
       "</div>"
      ],
      "text/plain": [
       "          company_type    target\n",
       "3                Other  0.239669\n",
       "0  Early Stage Startup  0.235489\n",
       "4        Public Sector  0.219895\n",
       "2                  NGO  0.186180\n",
       "5              Pvt Ltd  0.180809\n",
       "1       Funded Startup  0.139860"
      ]
     },
     "execution_count": 22,
     "metadata": {},
     "output_type": "execute_result"
    }
   ],
   "source": [
    "# company_type -target\n",
    "train_data[[\"company_type\",\"target\"]].groupby(\n",
    "    [\"company_type\"], as_index = False).mean().sort_values(by = \"target\",ascending = False)"
   ]
  },
  {
   "cell_type": "code",
   "execution_count": 23,
   "id": "persistent-brake",
   "metadata": {
    "execution": {
     "iopub.execute_input": "2021-04-15T16:49:39.490107Z",
     "iopub.status.busy": "2021-04-15T16:49:39.489291Z",
     "iopub.status.idle": "2021-04-15T16:49:39.508419Z",
     "shell.execute_reply": "2021-04-15T16:49:39.507731Z"
    },
    "papermill": {
     "duration": 0.145667,
     "end_time": "2021-04-15T16:49:39.508585",
     "exception": false,
     "start_time": "2021-04-15T16:49:39.362918",
     "status": "completed"
    },
    "tags": []
   },
   "outputs": [
    {
     "data": {
      "text/html": [
       "<div>\n",
       "<style scoped>\n",
       "    .dataframe tbody tr th:only-of-type {\n",
       "        vertical-align: middle;\n",
       "    }\n",
       "\n",
       "    .dataframe tbody tr th {\n",
       "        vertical-align: top;\n",
       "    }\n",
       "\n",
       "    .dataframe thead th {\n",
       "        text-align: right;\n",
       "    }\n",
       "</style>\n",
       "<table border=\"1\" class=\"dataframe\">\n",
       "  <thead>\n",
       "    <tr style=\"text-align: right;\">\n",
       "      <th></th>\n",
       "      <th>gender</th>\n",
       "      <th>target</th>\n",
       "    </tr>\n",
       "  </thead>\n",
       "  <tbody>\n",
       "    <tr>\n",
       "      <th>0</th>\n",
       "      <td>Female</td>\n",
       "      <td>0.263328</td>\n",
       "    </tr>\n",
       "    <tr>\n",
       "      <th>2</th>\n",
       "      <td>Other</td>\n",
       "      <td>0.261780</td>\n",
       "    </tr>\n",
       "    <tr>\n",
       "      <th>1</th>\n",
       "      <td>Male</td>\n",
       "      <td>0.227819</td>\n",
       "    </tr>\n",
       "  </tbody>\n",
       "</table>\n",
       "</div>"
      ],
      "text/plain": [
       "   gender    target\n",
       "0  Female  0.263328\n",
       "2   Other  0.261780\n",
       "1    Male  0.227819"
      ]
     },
     "execution_count": 23,
     "metadata": {},
     "output_type": "execute_result"
    }
   ],
   "source": [
    "# gender -target\n",
    "train_data[[\"gender\",\"target\"]].groupby(\n",
    "    [\"gender\"], as_index = False).mean().sort_values(by = \"target\",ascending = False)"
   ]
  },
  {
   "cell_type": "code",
   "execution_count": 24,
   "id": "stainless-development",
   "metadata": {
    "execution": {
     "iopub.execute_input": "2021-04-15T16:49:39.762628Z",
     "iopub.status.busy": "2021-04-15T16:49:39.761920Z",
     "iopub.status.idle": "2021-04-15T16:49:39.779987Z",
     "shell.execute_reply": "2021-04-15T16:49:39.779249Z"
    },
    "papermill": {
     "duration": 0.142851,
     "end_time": "2021-04-15T16:49:39.780134",
     "exception": false,
     "start_time": "2021-04-15T16:49:39.637283",
     "status": "completed"
    },
    "tags": []
   },
   "outputs": [
    {
     "data": {
      "text/html": [
       "<div>\n",
       "<style scoped>\n",
       "    .dataframe tbody tr th:only-of-type {\n",
       "        vertical-align: middle;\n",
       "    }\n",
       "\n",
       "    .dataframe tbody tr th {\n",
       "        vertical-align: top;\n",
       "    }\n",
       "\n",
       "    .dataframe thead th {\n",
       "        text-align: right;\n",
       "    }\n",
       "</style>\n",
       "<table border=\"1\" class=\"dataframe\">\n",
       "  <thead>\n",
       "    <tr style=\"text-align: right;\">\n",
       "      <th></th>\n",
       "      <th>relevent_experience</th>\n",
       "      <th>target</th>\n",
       "    </tr>\n",
       "  </thead>\n",
       "  <tbody>\n",
       "    <tr>\n",
       "      <th>1</th>\n",
       "      <td>No relevent experience</td>\n",
       "      <td>0.338427</td>\n",
       "    </tr>\n",
       "    <tr>\n",
       "      <th>0</th>\n",
       "      <td>Has relevent experience</td>\n",
       "      <td>0.214690</td>\n",
       "    </tr>\n",
       "  </tbody>\n",
       "</table>\n",
       "</div>"
      ],
      "text/plain": [
       "       relevent_experience    target\n",
       "1   No relevent experience  0.338427\n",
       "0  Has relevent experience  0.214690"
      ]
     },
     "execution_count": 24,
     "metadata": {},
     "output_type": "execute_result"
    }
   ],
   "source": [
    "#relevent_experience -target\n",
    "train_data[[\"relevent_experience\",\"target\"]].groupby(\n",
    "    [\"relevent_experience\"], as_index = False).mean().sort_values(by = \"target\",ascending = False)"
   ]
  },
  {
   "cell_type": "code",
   "execution_count": 25,
   "id": "objective-weather",
   "metadata": {
    "execution": {
     "iopub.execute_input": "2021-04-15T16:49:40.050932Z",
     "iopub.status.busy": "2021-04-15T16:49:40.045700Z",
     "iopub.status.idle": "2021-04-15T16:49:40.065554Z",
     "shell.execute_reply": "2021-04-15T16:49:40.064713Z"
    },
    "papermill": {
     "duration": 0.155634,
     "end_time": "2021-04-15T16:49:40.065706",
     "exception": false,
     "start_time": "2021-04-15T16:49:39.910072",
     "status": "completed"
    },
    "tags": []
   },
   "outputs": [
    {
     "data": {
      "text/html": [
       "<div>\n",
       "<style scoped>\n",
       "    .dataframe tbody tr th:only-of-type {\n",
       "        vertical-align: middle;\n",
       "    }\n",
       "\n",
       "    .dataframe tbody tr th {\n",
       "        vertical-align: top;\n",
       "    }\n",
       "\n",
       "    .dataframe thead th {\n",
       "        text-align: right;\n",
       "    }\n",
       "</style>\n",
       "<table border=\"1\" class=\"dataframe\">\n",
       "  <thead>\n",
       "    <tr style=\"text-align: right;\">\n",
       "      <th></th>\n",
       "      <th>enrolled_university</th>\n",
       "      <th>target</th>\n",
       "    </tr>\n",
       "  </thead>\n",
       "  <tbody>\n",
       "    <tr>\n",
       "      <th>0</th>\n",
       "      <td>Full time course</td>\n",
       "      <td>0.380889</td>\n",
       "    </tr>\n",
       "    <tr>\n",
       "      <th>1</th>\n",
       "      <td>Part time course</td>\n",
       "      <td>0.252087</td>\n",
       "    </tr>\n",
       "    <tr>\n",
       "      <th>2</th>\n",
       "      <td>no_enrollment</td>\n",
       "      <td>0.211406</td>\n",
       "    </tr>\n",
       "  </tbody>\n",
       "</table>\n",
       "</div>"
      ],
      "text/plain": [
       "  enrolled_university    target\n",
       "0    Full time course  0.380889\n",
       "1    Part time course  0.252087\n",
       "2       no_enrollment  0.211406"
      ]
     },
     "execution_count": 25,
     "metadata": {},
     "output_type": "execute_result"
    }
   ],
   "source": [
    "#enrolled_university -target\n",
    "train_data[[\"enrolled_university\",\"target\"]].groupby(\n",
    "    [\"enrolled_university\"], as_index = False).mean().sort_values(by = \"target\",ascending = False)"
   ]
  },
  {
   "cell_type": "code",
   "execution_count": 26,
   "id": "increased-library",
   "metadata": {
    "execution": {
     "iopub.execute_input": "2021-04-15T16:49:40.330063Z",
     "iopub.status.busy": "2021-04-15T16:49:40.317255Z",
     "iopub.status.idle": "2021-04-15T16:49:40.336981Z",
     "shell.execute_reply": "2021-04-15T16:49:40.336395Z"
    },
    "papermill": {
     "duration": 0.146169,
     "end_time": "2021-04-15T16:49:40.337140",
     "exception": false,
     "start_time": "2021-04-15T16:49:40.190971",
     "status": "completed"
    },
    "tags": []
   },
   "outputs": [
    {
     "data": {
      "text/html": [
       "<div>\n",
       "<style scoped>\n",
       "    .dataframe tbody tr th:only-of-type {\n",
       "        vertical-align: middle;\n",
       "    }\n",
       "\n",
       "    .dataframe tbody tr th {\n",
       "        vertical-align: top;\n",
       "    }\n",
       "\n",
       "    .dataframe thead th {\n",
       "        text-align: right;\n",
       "    }\n",
       "</style>\n",
       "<table border=\"1\" class=\"dataframe\">\n",
       "  <thead>\n",
       "    <tr style=\"text-align: right;\">\n",
       "      <th></th>\n",
       "      <th>education_level</th>\n",
       "      <th>target</th>\n",
       "    </tr>\n",
       "  </thead>\n",
       "  <tbody>\n",
       "    <tr>\n",
       "      <th>0</th>\n",
       "      <td>Graduate</td>\n",
       "      <td>0.279790</td>\n",
       "    </tr>\n",
       "    <tr>\n",
       "      <th>2</th>\n",
       "      <td>Masters</td>\n",
       "      <td>0.214400</td>\n",
       "    </tr>\n",
       "    <tr>\n",
       "      <th>1</th>\n",
       "      <td>High School</td>\n",
       "      <td>0.195340</td>\n",
       "    </tr>\n",
       "    <tr>\n",
       "      <th>3</th>\n",
       "      <td>Phd</td>\n",
       "      <td>0.140097</td>\n",
       "    </tr>\n",
       "    <tr>\n",
       "      <th>4</th>\n",
       "      <td>Primary School</td>\n",
       "      <td>0.133117</td>\n",
       "    </tr>\n",
       "  </tbody>\n",
       "</table>\n",
       "</div>"
      ],
      "text/plain": [
       "  education_level    target\n",
       "0        Graduate  0.279790\n",
       "2         Masters  0.214400\n",
       "1     High School  0.195340\n",
       "3             Phd  0.140097\n",
       "4  Primary School  0.133117"
      ]
     },
     "execution_count": 26,
     "metadata": {},
     "output_type": "execute_result"
    }
   ],
   "source": [
    "#education_level -target\n",
    "train_data[[\"education_level\",\"target\"]].groupby(\n",
    "    [\"education_level\"], as_index = False).mean().sort_values(by = \"target\",ascending = False)"
   ]
  },
  {
   "cell_type": "code",
   "execution_count": 27,
   "id": "widespread-substitute",
   "metadata": {
    "execution": {
     "iopub.execute_input": "2021-04-15T16:49:40.596088Z",
     "iopub.status.busy": "2021-04-15T16:49:40.595377Z",
     "iopub.status.idle": "2021-04-15T16:49:40.606272Z",
     "shell.execute_reply": "2021-04-15T16:49:40.606784Z"
    },
    "papermill": {
     "duration": 0.145961,
     "end_time": "2021-04-15T16:49:40.606975",
     "exception": false,
     "start_time": "2021-04-15T16:49:40.461014",
     "status": "completed"
    },
    "tags": []
   },
   "outputs": [
    {
     "data": {
      "text/html": [
       "<div>\n",
       "<style scoped>\n",
       "    .dataframe tbody tr th:only-of-type {\n",
       "        vertical-align: middle;\n",
       "    }\n",
       "\n",
       "    .dataframe tbody tr th {\n",
       "        vertical-align: top;\n",
       "    }\n",
       "\n",
       "    .dataframe thead th {\n",
       "        text-align: right;\n",
       "    }\n",
       "</style>\n",
       "<table border=\"1\" class=\"dataframe\">\n",
       "  <thead>\n",
       "    <tr style=\"text-align: right;\">\n",
       "      <th></th>\n",
       "      <th>major_discipline</th>\n",
       "      <th>target</th>\n",
       "    </tr>\n",
       "  </thead>\n",
       "  <tbody>\n",
       "    <tr>\n",
       "      <th>4</th>\n",
       "      <td>Other</td>\n",
       "      <td>0.267717</td>\n",
       "    </tr>\n",
       "    <tr>\n",
       "      <th>1</th>\n",
       "      <td>Business Degree</td>\n",
       "      <td>0.262997</td>\n",
       "    </tr>\n",
       "    <tr>\n",
       "      <th>5</th>\n",
       "      <td>STEM</td>\n",
       "      <td>0.261593</td>\n",
       "    </tr>\n",
       "    <tr>\n",
       "      <th>3</th>\n",
       "      <td>No Major</td>\n",
       "      <td>0.246637</td>\n",
       "    </tr>\n",
       "    <tr>\n",
       "      <th>2</th>\n",
       "      <td>Humanities</td>\n",
       "      <td>0.210762</td>\n",
       "    </tr>\n",
       "    <tr>\n",
       "      <th>0</th>\n",
       "      <td>Arts</td>\n",
       "      <td>0.209486</td>\n",
       "    </tr>\n",
       "  </tbody>\n",
       "</table>\n",
       "</div>"
      ],
      "text/plain": [
       "  major_discipline    target\n",
       "4            Other  0.267717\n",
       "1  Business Degree  0.262997\n",
       "5             STEM  0.261593\n",
       "3         No Major  0.246637\n",
       "2       Humanities  0.210762\n",
       "0             Arts  0.209486"
      ]
     },
     "execution_count": 27,
     "metadata": {},
     "output_type": "execute_result"
    }
   ],
   "source": [
    "#major_discipline\n",
    "train_data[[\"major_discipline\",\"target\"]].groupby(\n",
    "    [\"major_discipline\"], as_index = False).mean().sort_values(by = \"target\",ascending = False)\n"
   ]
  },
  {
   "cell_type": "code",
   "execution_count": 28,
   "metadata": {
    "papermill": {
     "duration": 0.120402,
     "end_time": "2021-04-15T16:49:40.850918",
     "exception": false,
     "start_time": "2021-04-15T16:49:40.730516",
     "status": "completed"
    },
    "tags": []
   },
   "outputs": [],
   "source": [
    "# Finding the Missing Values "
   ]
  },
  {
   "cell_type": "code",
   "execution_count": null,
   "metadata": {
    "papermill": {
     "duration": 0.123775,
     "end_time": "2021-04-15T16:49:41.102315",
     "exception": false,
     "start_time": "2021-04-15T16:49:40.978540",
     "status": "completed"
    },
    "tags": []
   },
   "outputs": [],
   "source": []
  },
  {
   "cell_type": "code",
   "execution_count": 29,
   "id": "complimentary-power",
   "metadata": {
    "execution": {
     "iopub.execute_input": "2021-04-15T16:49:41.351235Z",
     "iopub.status.busy": "2021-04-15T16:49:41.350520Z",
     "iopub.status.idle": "2021-04-15T16:49:41.366344Z",
     "shell.execute_reply": "2021-04-15T16:49:41.366942Z"
    },
    "papermill": {
     "duration": 0.142424,
     "end_time": "2021-04-15T16:49:41.367133",
     "exception": false,
     "start_time": "2021-04-15T16:49:41.224709",
     "status": "completed"
    },
    "tags": []
   },
   "outputs": [],
   "source": [
    "train_data_len = len(train_data)\n",
    "train_data = pd.concat([train_data,test_data],axis = 0).reset_index(drop = True)"
   ]
  },
  {
   "cell_type": "code",
   "execution_count": 30,
   "id": "faced-cuisine",
   "metadata": {
    "execution": {
     "iopub.execute_input": "2021-04-15T16:49:41.617020Z",
     "iopub.status.busy": "2021-04-15T16:49:41.616272Z",
     "iopub.status.idle": "2021-04-15T16:49:41.636605Z",
     "shell.execute_reply": "2021-04-15T16:49:41.635847Z"
    },
    "papermill": {
     "duration": 0.145523,
     "end_time": "2021-04-15T16:49:41.636754",
     "exception": false,
     "start_time": "2021-04-15T16:49:41.491231",
     "status": "completed"
    },
    "tags": []
   },
   "outputs": [
    {
     "data": {
      "text/html": [
       "<div>\n",
       "<style scoped>\n",
       "    .dataframe tbody tr th:only-of-type {\n",
       "        vertical-align: middle;\n",
       "    }\n",
       "\n",
       "    .dataframe tbody tr th {\n",
       "        vertical-align: top;\n",
       "    }\n",
       "\n",
       "    .dataframe thead th {\n",
       "        text-align: right;\n",
       "    }\n",
       "</style>\n",
       "<table border=\"1\" class=\"dataframe\">\n",
       "  <thead>\n",
       "    <tr style=\"text-align: right;\">\n",
       "      <th></th>\n",
       "      <th>enrollee_id</th>\n",
       "      <th>city</th>\n",
       "      <th>city_development_index</th>\n",
       "      <th>gender</th>\n",
       "      <th>relevent_experience</th>\n",
       "      <th>enrolled_university</th>\n",
       "      <th>education_level</th>\n",
       "      <th>major_discipline</th>\n",
       "      <th>experience</th>\n",
       "      <th>company_size</th>\n",
       "      <th>company_type</th>\n",
       "      <th>last_new_job</th>\n",
       "      <th>training_hours</th>\n",
       "      <th>target</th>\n",
       "    </tr>\n",
       "  </thead>\n",
       "  <tbody>\n",
       "    <tr>\n",
       "      <th>0</th>\n",
       "      <td>8949</td>\n",
       "      <td>city_103</td>\n",
       "      <td>0.920</td>\n",
       "      <td>Male</td>\n",
       "      <td>Has relevent experience</td>\n",
       "      <td>no_enrollment</td>\n",
       "      <td>Graduate</td>\n",
       "      <td>STEM</td>\n",
       "      <td>&gt;20</td>\n",
       "      <td>NaN</td>\n",
       "      <td>NaN</td>\n",
       "      <td>1</td>\n",
       "      <td>36</td>\n",
       "      <td>1.0</td>\n",
       "    </tr>\n",
       "    <tr>\n",
       "      <th>1</th>\n",
       "      <td>29725</td>\n",
       "      <td>city_40</td>\n",
       "      <td>0.776</td>\n",
       "      <td>Male</td>\n",
       "      <td>No relevent experience</td>\n",
       "      <td>no_enrollment</td>\n",
       "      <td>Graduate</td>\n",
       "      <td>STEM</td>\n",
       "      <td>15</td>\n",
       "      <td>50-99</td>\n",
       "      <td>Pvt Ltd</td>\n",
       "      <td>&gt;4</td>\n",
       "      <td>47</td>\n",
       "      <td>0.0</td>\n",
       "    </tr>\n",
       "    <tr>\n",
       "      <th>2</th>\n",
       "      <td>11561</td>\n",
       "      <td>city_21</td>\n",
       "      <td>0.624</td>\n",
       "      <td>NaN</td>\n",
       "      <td>No relevent experience</td>\n",
       "      <td>Full time course</td>\n",
       "      <td>Graduate</td>\n",
       "      <td>STEM</td>\n",
       "      <td>5</td>\n",
       "      <td>NaN</td>\n",
       "      <td>NaN</td>\n",
       "      <td>never</td>\n",
       "      <td>83</td>\n",
       "      <td>0.0</td>\n",
       "    </tr>\n",
       "    <tr>\n",
       "      <th>3</th>\n",
       "      <td>33241</td>\n",
       "      <td>city_115</td>\n",
       "      <td>0.789</td>\n",
       "      <td>NaN</td>\n",
       "      <td>No relevent experience</td>\n",
       "      <td>NaN</td>\n",
       "      <td>Graduate</td>\n",
       "      <td>Business Degree</td>\n",
       "      <td>&lt;1</td>\n",
       "      <td>NaN</td>\n",
       "      <td>Pvt Ltd</td>\n",
       "      <td>never</td>\n",
       "      <td>52</td>\n",
       "      <td>1.0</td>\n",
       "    </tr>\n",
       "    <tr>\n",
       "      <th>4</th>\n",
       "      <td>666</td>\n",
       "      <td>city_162</td>\n",
       "      <td>0.767</td>\n",
       "      <td>Male</td>\n",
       "      <td>Has relevent experience</td>\n",
       "      <td>no_enrollment</td>\n",
       "      <td>Masters</td>\n",
       "      <td>STEM</td>\n",
       "      <td>&gt;20</td>\n",
       "      <td>50-99</td>\n",
       "      <td>Funded Startup</td>\n",
       "      <td>4</td>\n",
       "      <td>8</td>\n",
       "      <td>0.0</td>\n",
       "    </tr>\n",
       "  </tbody>\n",
       "</table>\n",
       "</div>"
      ],
      "text/plain": [
       "   enrollee_id      city  city_development_index gender  \\\n",
       "0         8949  city_103                   0.920   Male   \n",
       "1        29725   city_40                   0.776   Male   \n",
       "2        11561   city_21                   0.624    NaN   \n",
       "3        33241  city_115                   0.789    NaN   \n",
       "4          666  city_162                   0.767   Male   \n",
       "\n",
       "       relevent_experience enrolled_university education_level  \\\n",
       "0  Has relevent experience       no_enrollment        Graduate   \n",
       "1   No relevent experience       no_enrollment        Graduate   \n",
       "2   No relevent experience    Full time course        Graduate   \n",
       "3   No relevent experience                 NaN        Graduate   \n",
       "4  Has relevent experience       no_enrollment         Masters   \n",
       "\n",
       "  major_discipline experience company_size    company_type last_new_job  \\\n",
       "0             STEM        >20          NaN             NaN            1   \n",
       "1             STEM         15        50-99         Pvt Ltd           >4   \n",
       "2             STEM          5          NaN             NaN        never   \n",
       "3  Business Degree         <1          NaN         Pvt Ltd        never   \n",
       "4             STEM        >20        50-99  Funded Startup            4   \n",
       "\n",
       "   training_hours  target  \n",
       "0              36     1.0  \n",
       "1              47     0.0  \n",
       "2              83     0.0  \n",
       "3              52     1.0  \n",
       "4               8     0.0  "
      ]
     },
     "execution_count": 30,
     "metadata": {},
     "output_type": "execute_result"
    }
   ],
   "source": [
    "train_data.head()"
   ]
  },
  {
   "cell_type": "code",
   "execution_count": 31,
   "id": "trained-terrain",
   "metadata": {
    "execution": {
     "iopub.execute_input": "2021-04-15T16:49:41.910255Z",
     "iopub.status.busy": "2021-04-15T16:49:41.909472Z",
     "iopub.status.idle": "2021-04-15T16:49:41.918022Z",
     "shell.execute_reply": "2021-04-15T16:49:41.918694Z"
    },
    "papermill": {
     "duration": 0.156865,
     "end_time": "2021-04-15T16:49:41.918873",
     "exception": false,
     "start_time": "2021-04-15T16:49:41.762008",
     "status": "completed"
    },
    "tags": []
   },
   "outputs": [
    {
     "name": "stdout",
     "output_type": "stream",
     "text": [
      " \t Columns with null :  Index(['gender', 'enrolled_university', 'education_level', 'major_discipline',\n",
      "       'experience', 'company_size', 'company_type', 'last_new_job', 'target'],\n",
      "      dtype='object')\n"
     ]
    }
   ],
   "source": [
    "print(\" \\t Columns with null : \",train_data.columns[train_data.isnull().any()])"
   ]
  },
  {
   "cell_type": "code",
   "execution_count": 32,
   "id": "beginning-punishment",
   "metadata": {
    "execution": {
     "iopub.execute_input": "2021-04-15T16:49:42.198592Z",
     "iopub.status.busy": "2021-04-15T16:49:42.197782Z",
     "iopub.status.idle": "2021-04-15T16:49:42.207258Z",
     "shell.execute_reply": "2021-04-15T16:49:42.206386Z"
    },
    "papermill": {
     "duration": 0.161728,
     "end_time": "2021-04-15T16:49:42.207484",
     "exception": false,
     "start_time": "2021-04-15T16:49:42.045756",
     "status": "completed"
    },
    "tags": []
   },
   "outputs": [
    {
     "name": "stdout",
     "output_type": "stream",
     "text": [
      "how many nulls are there ?\n",
      " \n",
      "  enrollee_id                  0\n",
      "city                         0\n",
      "city_development_index       0\n",
      "gender                    5016\n",
      "relevent_experience          0\n",
      "enrolled_university        417\n",
      "education_level            512\n",
      "major_discipline          3125\n",
      "experience                  70\n",
      "company_size              6560\n",
      "company_type              6774\n",
      "last_new_job               463\n",
      "training_hours               0\n",
      "target                    2129\n",
      "dtype: int64\n"
     ]
    }
   ],
   "source": [
    "print(\"how many nulls are there ?\\n \\n \",train_data.isnull().sum())"
   ]
  },
  {
   "cell_type": "code",
   "execution_count": null,
   "metadata": {
    "papermill": {
     "duration": 0.123952,
     "end_time": "2021-04-15T16:49:42.456796",
     "exception": false,
     "start_time": "2021-04-15T16:49:42.332844",
     "status": "completed"
    },
    "tags": []
   },
   "outputs": [],
   "source": []
  },
  {
   "cell_type": "code",
   "execution_count": 33,
   "id": "hired-madness",
   "metadata": {
    "_kg_hide-input": true,
    "execution": {
     "iopub.execute_input": "2021-04-15T16:49:42.724486Z",
     "iopub.status.busy": "2021-04-15T16:49:42.723352Z",
     "iopub.status.idle": "2021-04-15T16:49:42.725900Z",
     "shell.execute_reply": "2021-04-15T16:49:42.726340Z"
    },
    "papermill": {
     "duration": 0.143636,
     "end_time": "2021-04-15T16:49:42.726541",
     "exception": false,
     "start_time": "2021-04-15T16:49:42.582905",
     "status": "completed"
    },
    "tags": []
   },
   "outputs": [],
   "source": [
    "def missing_values_table(df):\n",
    "        mis_val = df.isnull().sum()\n",
    "        \n",
    "        mis_val_percent = 100 * df.isnull().sum() / len(df)\n",
    "        mis_val_table = pd.concat([mis_val, mis_val_percent], axis=1)\n",
    "        \n",
    "        mis_val_table_ren_columns = mis_val_table.rename(\n",
    "        columns = {0 : 'Missing Values', 1 : '% of Total Values'})\n",
    "        \n",
    "        mis_val_table_ren_columns = mis_val_table_ren_columns[\n",
    "            mis_val_table_ren_columns.iloc[:,1] != 0].sort_values(\n",
    "        '% of Total Values', ascending=False).round(1)\n",
    "        \n",
    "        print (\"Your selected dataframe has \" + str(df.shape[1]) + \" columns.\\n\"      \n",
    "            \"There are \" + str(mis_val_table_ren_columns.shape[0]) +\n",
    "              \" columns that have missing values.\")\n",
    "        \n",
    "        return mis_val_table_ren_columns"
   ]
  },
  {
   "cell_type": "code",
   "execution_count": 34,
   "id": "proprietary-jamaica",
   "metadata": {
    "execution": {
     "iopub.execute_input": "2021-04-15T16:49:42.983075Z",
     "iopub.status.busy": "2021-04-15T16:49:42.981736Z",
     "iopub.status.idle": "2021-04-15T16:49:43.050076Z",
     "shell.execute_reply": "2021-04-15T16:49:43.049086Z"
    },
    "papermill": {
     "duration": 0.201988,
     "end_time": "2021-04-15T16:49:43.050280",
     "exception": false,
     "start_time": "2021-04-15T16:49:42.848292",
     "status": "completed"
    },
    "tags": []
   },
   "outputs": [
    {
     "name": "stdout",
     "output_type": "stream",
     "text": [
      "Your selected dataframe has 14 columns.\n",
      "There are 9 columns that have missing values.\n"
     ]
    },
    {
     "data": {
      "text/html": [
       "<div>\n",
       "<style scoped>\n",
       "    .dataframe tbody tr th:only-of-type {\n",
       "        vertical-align: middle;\n",
       "    }\n",
       "\n",
       "    .dataframe tbody tr th {\n",
       "        vertical-align: top;\n",
       "    }\n",
       "\n",
       "    .dataframe thead th {\n",
       "        text-align: right;\n",
       "    }\n",
       "</style>\n",
       "<table border=\"1\" class=\"dataframe\">\n",
       "  <thead>\n",
       "    <tr style=\"text-align: right;\">\n",
       "      <th></th>\n",
       "      <th>Missing Values</th>\n",
       "      <th>% of Total Values</th>\n",
       "    </tr>\n",
       "  </thead>\n",
       "  <tbody>\n",
       "    <tr>\n",
       "      <th>company_type</th>\n",
       "      <td>6774</td>\n",
       "      <td>31.8</td>\n",
       "    </tr>\n",
       "    <tr>\n",
       "      <th>company_size</th>\n",
       "      <td>6560</td>\n",
       "      <td>30.8</td>\n",
       "    </tr>\n",
       "    <tr>\n",
       "      <th>gender</th>\n",
       "      <td>5016</td>\n",
       "      <td>23.6</td>\n",
       "    </tr>\n",
       "    <tr>\n",
       "      <th>major_discipline</th>\n",
       "      <td>3125</td>\n",
       "      <td>14.7</td>\n",
       "    </tr>\n",
       "    <tr>\n",
       "      <th>target</th>\n",
       "      <td>2129</td>\n",
       "      <td>10.0</td>\n",
       "    </tr>\n",
       "    <tr>\n",
       "      <th>education_level</th>\n",
       "      <td>512</td>\n",
       "      <td>2.4</td>\n",
       "    </tr>\n",
       "    <tr>\n",
       "      <th>last_new_job</th>\n",
       "      <td>463</td>\n",
       "      <td>2.2</td>\n",
       "    </tr>\n",
       "    <tr>\n",
       "      <th>enrolled_university</th>\n",
       "      <td>417</td>\n",
       "      <td>2.0</td>\n",
       "    </tr>\n",
       "    <tr>\n",
       "      <th>experience</th>\n",
       "      <td>70</td>\n",
       "      <td>0.3</td>\n",
       "    </tr>\n",
       "  </tbody>\n",
       "</table>\n",
       "</div>"
      ],
      "text/plain": [
       "                     Missing Values  % of Total Values\n",
       "company_type                   6774               31.8\n",
       "company_size                   6560               30.8\n",
       "gender                         5016               23.6\n",
       "major_discipline               3125               14.7\n",
       "target                         2129               10.0\n",
       "education_level                 512                2.4\n",
       "last_new_job                    463                2.2\n",
       "enrolled_university             417                2.0\n",
       "experience                       70                0.3"
      ]
     },
     "execution_count": 34,
     "metadata": {},
     "output_type": "execute_result"
    }
   ],
   "source": [
    "train_missing= missing_values_table(train_data)\n",
    "train_missing"
   ]
  },
  {
   "cell_type": "code",
   "execution_count": null,
   "metadata": {
    "papermill": {
     "duration": 0.125797,
     "end_time": "2021-04-15T16:49:43.305936",
     "exception": false,
     "start_time": "2021-04-15T16:49:43.180139",
     "status": "completed"
    },
    "tags": []
   },
   "outputs": [],
   "source": []
  },
  {
   "cell_type": "code",
   "execution_count": 35,
   "id": "green-japan",
   "metadata": {
    "execution": {
     "iopub.execute_input": "2021-04-15T16:49:43.566859Z",
     "iopub.status.busy": "2021-04-15T16:49:43.565681Z",
     "iopub.status.idle": "2021-04-15T16:49:44.751908Z",
     "shell.execute_reply": "2021-04-15T16:49:44.751220Z"
    },
    "papermill": {
     "duration": 1.31908,
     "end_time": "2021-04-15T16:49:44.752072",
     "exception": false,
     "start_time": "2021-04-15T16:49:43.432992",
     "status": "completed"
    },
    "tags": []
   },
   "outputs": [
    {
     "data": {
      "text/plain": [
       "<AxesSubplot:>"
      ]
     },
     "execution_count": 35,
     "metadata": {},
     "output_type": "execute_result"
    },
    {
     "data": {
      "image/png": "[encoded data removed]",
      "text/plain": [
       "<Figure size 1728x720 with 3 Axes>"
      ]
     },
     "metadata": {
      "needs_background": "light"
     },
     "output_type": "display_data"
    }
   ],
   "source": [
    "msno.bar(train_data, color = \"red\")"
   ]
  },
  {
   "cell_type": "code",
   "execution_count": null,
   "id": "weird-phenomenon",
   "metadata": {
    "execution": {
     "iopub.execute_input": "2021-04-15T16:49:45.047044Z",
     "iopub.status.busy": "2021-04-15T16:49:45.046270Z",
     "iopub.status.idle": "2021-04-15T16:49:45.730939Z",
     "shell.execute_reply": "2021-04-15T16:49:45.731554Z"
    },
    "papermill": {
     "duration": 0.844881,
     "end_time": "2021-04-15T16:49:45.731735",
     "exception": false,
     "start_time": "2021-04-15T16:49:44.886854",
     "status": "completed"
    },
    "tags": []
   },
   "outputs": [],
   "source": []
  },
  {
   "cell_type": "code",
   "execution_count": null,
   "metadata": {
    "papermill": {
     "duration": 0.137556,
     "end_time": "2021-04-15T16:49:46.003006",
     "exception": false,
     "start_time": "2021-04-15T16:49:45.865450",
     "status": "completed"
    },
    "tags": []
   },
   "outputs": [],
   "source": []
  },
  {
   "cell_type": "code",
   "execution_count": 36,
   "id": "entertaining-karaoke",
   "metadata": {
    "execution": {
     "iopub.execute_input": "2021-04-15T16:49:46.284503Z",
     "iopub.status.busy": "2021-04-15T16:49:46.283827Z",
     "iopub.status.idle": "2021-04-15T16:49:46.964059Z",
     "shell.execute_reply": "2021-04-15T16:49:46.963207Z"
    },
    "papermill": {
     "duration": 0.819661,
     "end_time": "2021-04-15T16:49:46.964223",
     "exception": false,
     "start_time": "2021-04-15T16:49:46.144562",
     "status": "completed"
    },
    "tags": []
   },
   "outputs": [
    {
     "data": {
      "text/plain": [
       "<AxesSubplot:>"
      ]
     },
     "execution_count": 36,
     "metadata": {},
     "output_type": "execute_result"
    },
    {
     "data": {
      "image/png": "[encoded data removed]",
      "text/plain": [
       "<Figure size 1440x864 with 2 Axes>"
      ]
     },
     "metadata": {
      "needs_background": "light"
     },
     "output_type": "display_data"
    }
   ],
   "source": [
    "msno.heatmap(train_data)"
   ]
  },
  {
   "cell_type": "code",
   "execution_count": null,
   "id": "basic-greece",
   "metadata": {
    "execution": {
     "iopub.execute_input": "2021-04-15T16:49:47.239395Z",
     "iopub.status.busy": "2021-04-15T16:49:47.238437Z",
     "iopub.status.idle": "2021-04-15T16:49:47.697626Z",
     "shell.execute_reply": "2021-04-15T16:49:47.698134Z"
    },
    "papermill": {
     "duration": 0.596944,
     "end_time": "2021-04-15T16:49:47.698320",
     "exception": false,
     "start_time": "2021-04-15T16:49:47.101376",
     "status": "completed"
    },
    "tags": []
   },
   "outputs": [],
   "source": []
  },
  {
   "cell_type": "code",
   "execution_count": null,
   "metadata": {
    "papermill": {
     "duration": 0.144296,
     "end_time": "2021-04-15T16:49:47.984921",
     "exception": false,
     "start_time": "2021-04-15T16:49:47.840625",
     "status": "completed"
    },
    "tags": []
   },
   "outputs": [],
   "source": []
  },
  {
   "cell_type": "code",
   "execution_count": 37,
   "metadata": {
    "papermill": {
     "duration": 0.141685,
     "end_time": "2021-04-15T16:49:48.267704",
     "exception": false,
     "start_time": "2021-04-15T16:49:48.126019",
     "status": "completed"
    },
    "tags": []
   },
   "outputs": [],
   "source": [
    "#Filling out the missing values"
   ]
  },
  {
   "cell_type": "code",
   "execution_count": 38,
   "id": "british-samoa",
   "metadata": {
    "execution": {
     "iopub.execute_input": "2021-04-15T16:49:48.561893Z",
     "iopub.status.busy": "2021-04-15T16:49:48.560982Z",
     "iopub.status.idle": "2021-04-15T16:49:48.591107Z",
     "shell.execute_reply": "2021-04-15T16:49:48.590360Z"
    },
    "papermill": {
     "duration": 0.183937,
     "end_time": "2021-04-15T16:49:48.591254",
     "exception": false,
     "start_time": "2021-04-15T16:49:48.407317",
     "status": "completed"
    },
    "tags": []
   },
   "outputs": [],
   "source": [
    "train_data.dropna(subset=[\"experience\"], inplace=True)\n",
    "train_data.dropna(subset=[\"enrolled_university\"], inplace=True)\n",
    "train_data.dropna(subset=[\"last_new_job\"], inplace=True)\n",
    "train_data.dropna(subset=[\"education_level\"], inplace=True)"
   ]
  },
  {
   "cell_type": "code",
   "execution_count": null,
   "metadata": {
    "papermill": {
     "duration": 0.142207,
     "end_time": "2021-04-15T16:49:48.874450",
     "exception": false,
     "start_time": "2021-04-15T16:49:48.732243",
     "status": "completed"
    },
    "tags": []
   },
   "outputs": [],
   "source": []
  },
  {
   "cell_type": "code",
   "execution_count": 39,
   "id": "logical-scottish",
   "metadata": {
    "execution": {
     "iopub.execute_input": "2021-04-15T16:49:49.193992Z",
     "iopub.status.busy": "2021-04-15T16:49:49.192879Z",
     "iopub.status.idle": "2021-04-15T16:49:49.236162Z",
     "shell.execute_reply": "2021-04-15T16:49:49.235585Z"
    },
    "papermill": {
     "duration": 0.216859,
     "end_time": "2021-04-15T16:49:49.236308",
     "exception": false,
     "start_time": "2021-04-15T16:49:49.019449",
     "status": "completed"
    },
    "tags": []
   },
   "outputs": [
    {
     "name": "stdout",
     "output_type": "stream",
     "text": [
      "Your selected dataframe has 14 columns.\n",
      "There are 5 columns that have missing values.\n"
     ]
    },
    {
     "data": {
      "text/html": [
       "<div>\n",
       "<style scoped>\n",
       "    .dataframe tbody tr th:only-of-type {\n",
       "        vertical-align: middle;\n",
       "    }\n",
       "\n",
       "    .dataframe tbody tr th {\n",
       "        vertical-align: top;\n",
       "    }\n",
       "\n",
       "    .dataframe thead th {\n",
       "        text-align: right;\n",
       "    }\n",
       "</style>\n",
       "<table border=\"1\" class=\"dataframe\">\n",
       "  <thead>\n",
       "    <tr style=\"text-align: right;\">\n",
       "      <th></th>\n",
       "      <th>Missing Values</th>\n",
       "      <th>% of Total Values</th>\n",
       "    </tr>\n",
       "  </thead>\n",
       "  <tbody>\n",
       "    <tr>\n",
       "      <th>company_type</th>\n",
       "      <td>6055</td>\n",
       "      <td>30.2</td>\n",
       "    </tr>\n",
       "    <tr>\n",
       "      <th>company_size</th>\n",
       "      <td>5887</td>\n",
       "      <td>29.4</td>\n",
       "    </tr>\n",
       "    <tr>\n",
       "      <th>gender</th>\n",
       "      <td>4306</td>\n",
       "      <td>21.5</td>\n",
       "    </tr>\n",
       "    <tr>\n",
       "      <th>major_discipline</th>\n",
       "      <td>2471</td>\n",
       "      <td>12.3</td>\n",
       "    </tr>\n",
       "    <tr>\n",
       "      <th>target</th>\n",
       "      <td>2018</td>\n",
       "      <td>10.1</td>\n",
       "    </tr>\n",
       "  </tbody>\n",
       "</table>\n",
       "</div>"
      ],
      "text/plain": [
       "                  Missing Values  % of Total Values\n",
       "company_type                6055               30.2\n",
       "company_size                5887               29.4\n",
       "gender                      4306               21.5\n",
       "major_discipline            2471               12.3\n",
       "target                      2018               10.1"
      ]
     },
     "execution_count": 39,
     "metadata": {},
     "output_type": "execute_result"
    }
   ],
   "source": [
    "train_missing1= missing_values_table(train_data)\n",
    "train_missing1"
   ]
  },
  {
   "cell_type": "code",
   "execution_count": null,
   "metadata": {
    "papermill": {
     "duration": 0.143933,
     "end_time": "2021-04-15T16:49:49.525482",
     "exception": false,
     "start_time": "2021-04-15T16:49:49.381549",
     "status": "completed"
    },
    "tags": []
   },
   "outputs": [],
   "source": []
  },
  {
   "cell_type": "code",
   "execution_count": 40,
   "id": "ordinary-jenny",
   "metadata": {
    "execution": {
     "iopub.execute_input": "2021-04-15T16:49:49.833028Z",
     "iopub.status.busy": "2021-04-15T16:49:49.832253Z",
     "iopub.status.idle": "2021-04-15T16:49:49.838261Z",
     "shell.execute_reply": "2021-04-15T16:49:49.837299Z"
    },
    "papermill": {
     "duration": 0.165102,
     "end_time": "2021-04-15T16:49:49.838611",
     "exception": false,
     "start_time": "2021-04-15T16:49:49.673509",
     "status": "completed"
    },
    "tags": []
   },
   "outputs": [
    {
     "name": "stdout",
     "output_type": "stream",
     "text": [
      "NULL experience -->  0\n",
      "NULL enrolled_university -->  0\n",
      "NULL last_new_job -->  0\n",
      "NULL education_level -->  0\n"
     ]
    }
   ],
   "source": [
    "print(\"NULL experience --> \",train_data[\"experience\"].isnull().sum())\n",
    "print(\"NULL enrolled_university --> \",train_data[\"enrolled_university\"].isnull().sum())\n",
    "print(\"NULL last_new_job --> \",train_data[\"last_new_job\"].isnull().sum())\n",
    "print(\"NULL education_level --> \",train_data[\"education_level\"].isnull().sum())\n",
    "                        "
   ]
  },
  {
   "cell_type": "code",
   "execution_count": 41,
   "id": "delayed-turkey",
   "metadata": {
    "execution": {
     "iopub.execute_input": "2021-04-15T16:49:50.169405Z",
     "iopub.status.busy": "2021-04-15T16:49:50.168403Z",
     "iopub.status.idle": "2021-04-15T16:49:50.173969Z",
     "shell.execute_reply": "2021-04-15T16:49:50.173154Z"
    },
    "papermill": {
     "duration": 0.19057,
     "end_time": "2021-04-15T16:49:50.174137",
     "exception": false,
     "start_time": "2021-04-15T16:49:49.983567",
     "status": "completed"
    },
    "tags": []
   },
   "outputs": [
    {
     "name": "stdout",
     "output_type": "stream",
     "text": [
      "most repetitive -->  STEM\n"
     ]
    }
   ],
   "source": [
    "#major_discipline\n",
    "print(\"most repetitive --> \",train_data[\"major_discipline\"].value_counts().index[0])\n",
    "train_data[\"major_discipline\"].fillna( method ='ffill', limit = 3, inplace = True)"
   ]
  },
  {
   "cell_type": "code",
   "execution_count": 42,
   "id": "yellow-zimbabwe",
   "metadata": {
    "execution": {
     "iopub.execute_input": "2021-04-15T16:49:50.473769Z",
     "iopub.status.busy": "2021-04-15T16:49:50.472926Z",
     "iopub.status.idle": "2021-04-15T16:49:50.485309Z",
     "shell.execute_reply": "2021-04-15T16:49:50.484566Z"
    },
    "papermill": {
     "duration": 0.166035,
     "end_time": "2021-04-15T16:49:50.485460",
     "exception": false,
     "start_time": "2021-04-15T16:49:50.319425",
     "status": "completed"
    },
    "tags": []
   },
   "outputs": [
    {
     "name": "stdout",
     "output_type": "stream",
     "text": [
      "NULL major_discipline -->  0\n"
     ]
    }
   ],
   "source": [
    "train_data.dropna(subset=[\"major_discipline\"], inplace=True)\n",
    "print(\"NULL major_discipline --> \",train_data[\"major_discipline\"].isnull().sum())"
   ]
  },
  {
   "cell_type": "code",
   "execution_count": null,
   "metadata": {
    "papermill": {
     "duration": 0.145004,
     "end_time": "2021-04-15T16:49:50.778395",
     "exception": false,
     "start_time": "2021-04-15T16:49:50.633391",
     "status": "completed"
    },
    "tags": []
   },
   "outputs": [],
   "source": []
  },
  {
   "cell_type": "code",
   "execution_count": 43,
   "id": "tight-plumbing",
   "metadata": {
    "execution": {
     "iopub.execute_input": "2021-04-15T16:49:51.090017Z",
     "iopub.status.busy": "2021-04-15T16:49:51.088950Z",
     "iopub.status.idle": "2021-04-15T16:49:51.094193Z",
     "shell.execute_reply": "2021-04-15T16:49:51.092845Z"
    },
    "papermill": {
     "duration": 0.165029,
     "end_time": "2021-04-15T16:49:51.094375",
     "exception": false,
     "start_time": "2021-04-15T16:49:50.929346",
     "status": "completed"
    },
    "tags": []
   },
   "outputs": [],
   "source": [
    "#company_size\n",
    "train_data[\"company_size\"].fillna( method ='ffill', limit = 2, inplace = True)"
   ]
  },
  {
   "cell_type": "code",
   "execution_count": 44,
   "id": "moderate-variation",
   "metadata": {
    "execution": {
     "iopub.execute_input": "2021-04-15T16:49:51.386011Z",
     "iopub.status.busy": "2021-04-15T16:49:51.384919Z",
     "iopub.status.idle": "2021-04-15T16:49:51.398130Z",
     "shell.execute_reply": "2021-04-15T16:49:51.397557Z"
    },
    "papermill": {
     "duration": 0.16279,
     "end_time": "2021-04-15T16:49:51.398274",
     "exception": false,
     "start_time": "2021-04-15T16:49:51.235484",
     "status": "completed"
    },
    "tags": []
   },
   "outputs": [
    {
     "name": "stdout",
     "output_type": "stream",
     "text": [
      "NULL company_size -->  0\n"
     ]
    }
   ],
   "source": [
    "train_data.dropna(subset=[\"company_size\"], inplace=True)\n",
    "print(\"NULL company_size --> \",train_data[\"company_size\"].isnull().sum())"
   ]
  },
  {
   "cell_type": "code",
   "execution_count": 45,
   "id": "enhanced-emerald",
   "metadata": {
    "execution": {
     "iopub.execute_input": "2021-04-15T16:49:51.699852Z",
     "iopub.status.busy": "2021-04-15T16:49:51.699103Z",
     "iopub.status.idle": "2021-04-15T16:49:51.703850Z",
     "shell.execute_reply": "2021-04-15T16:49:51.704371Z"
    },
    "papermill": {
     "duration": 0.157362,
     "end_time": "2021-04-15T16:49:51.704718",
     "exception": false,
     "start_time": "2021-04-15T16:49:51.547356",
     "status": "completed"
    },
    "tags": []
   },
   "outputs": [],
   "source": [
    "#company_type\n",
    "train_data[\"company_type\"].fillna( method ='ffill', limit = 2, inplace = True)"
   ]
  },
  {
   "cell_type": "code",
   "execution_count": 46,
   "id": "inner-bulgaria",
   "metadata": {
    "execution": {
     "iopub.execute_input": "2021-04-15T16:49:52.007835Z",
     "iopub.status.busy": "2021-04-15T16:49:52.007055Z",
     "iopub.status.idle": "2021-04-15T16:49:52.024433Z",
     "shell.execute_reply": "2021-04-15T16:49:52.025058Z"
    },
    "papermill": {
     "duration": 0.172458,
     "end_time": "2021-04-15T16:49:52.025247",
     "exception": false,
     "start_time": "2021-04-15T16:49:51.852789",
     "status": "completed"
    },
    "tags": []
   },
   "outputs": [
    {
     "name": "stdout",
     "output_type": "stream",
     "text": [
      "NULL company_type -->  0\n"
     ]
    }
   ],
   "source": [
    "train_data.dropna(subset=[\"company_type\"], inplace=True)\n",
    "print(\"NULL company_type --> \",train_data[\"company_type\"].isnull().sum())"
   ]
  },
  {
   "cell_type": "code",
   "execution_count": 47,
   "id": "decreased-accountability",
   "metadata": {
    "execution": {
     "iopub.execute_input": "2021-04-15T16:49:52.316699Z",
     "iopub.status.busy": "2021-04-15T16:49:52.315986Z",
     "iopub.status.idle": "2021-04-15T16:49:52.322724Z",
     "shell.execute_reply": "2021-04-15T16:49:52.323265Z"
    },
    "papermill": {
     "duration": 0.154169,
     "end_time": "2021-04-15T16:49:52.323561",
     "exception": false,
     "start_time": "2021-04-15T16:49:52.169392",
     "status": "completed"
    },
    "tags": []
   },
   "outputs": [],
   "source": [
    "#gender\n",
    "train_data[\"gender\"].fillna( method ='ffill', limit = 2, inplace = True)"
   ]
  },
  {
   "cell_type": "code",
   "execution_count": 48,
   "id": "prime-crawford",
   "metadata": {
    "execution": {
     "iopub.execute_input": "2021-04-15T16:49:52.610005Z",
     "iopub.status.busy": "2021-04-15T16:49:52.609270Z",
     "iopub.status.idle": "2021-04-15T16:49:52.626511Z",
     "shell.execute_reply": "2021-04-15T16:49:52.625509Z"
    },
    "papermill": {
     "duration": 0.163068,
     "end_time": "2021-04-15T16:49:52.626750",
     "exception": false,
     "start_time": "2021-04-15T16:49:52.463682",
     "status": "completed"
    },
    "tags": []
   },
   "outputs": [
    {
     "name": "stdout",
     "output_type": "stream",
     "text": [
      "NULL gender -->  0\n"
     ]
    }
   ],
   "source": [
    "train_data.dropna(subset=[\"gender\"], inplace=True)\n",
    "print(\"NULL gender --> \",train_data[\"gender\"].isnull().sum())"
   ]
  },
  {
   "cell_type": "code",
   "execution_count": null,
   "metadata": {
    "papermill": {
     "duration": 0.14472,
     "end_time": "2021-04-15T16:49:52.913125",
     "exception": false,
     "start_time": "2021-04-15T16:49:52.768405",
     "status": "completed"
    },
    "tags": []
   },
   "outputs": [],
   "source": []
  },
  {
   "cell_type": "code",
   "execution_count": null,
   "metadata": {
    "papermill": {
     "duration": 0.148068,
     "end_time": "2021-04-15T16:49:53.205756",
     "exception": false,
     "start_time": "2021-04-15T16:49:53.057688",
     "status": "completed"
    },
    "tags": []
   },
   "outputs": [],
   "source": []
  },
  {
   "cell_type": "code",
   "execution_count": 49,
   "id": "subsequent-louis",
   "metadata": {
    "execution": {
     "iopub.execute_input": "2021-04-15T16:49:53.513640Z",
     "iopub.status.busy": "2021-04-15T16:49:53.512881Z",
     "iopub.status.idle": "2021-04-15T16:49:53.518194Z",
     "shell.execute_reply": "2021-04-15T16:49:53.518699Z"
    },
    "papermill": {
     "duration": 0.170956,
     "end_time": "2021-04-15T16:49:53.518905",
     "exception": false,
     "start_time": "2021-04-15T16:49:53.347949",
     "status": "completed"
    },
    "tags": []
   },
   "outputs": [],
   "source": [
    "#gender\n",
    "# male = 0 , female = 1, other = 2\n",
    "train_data[\"gender\"] = [ 0 if gender == \"Male\"\n",
    "                        else 1 if gender == \"Female\"\n",
    "                        else 2 for gender in train_data[\"gender\"]]"
   ]
  },
  {
   "cell_type": "code",
   "execution_count": 50,
   "id": "steady-journey",
   "metadata": {
    "execution": {
     "iopub.execute_input": "2021-04-15T16:49:53.817884Z",
     "iopub.status.busy": "2021-04-15T16:49:53.817191Z",
     "iopub.status.idle": "2021-04-15T16:49:53.958584Z",
     "shell.execute_reply": "2021-04-15T16:49:53.957935Z"
    },
    "papermill": {
     "duration": 0.289643,
     "end_time": "2021-04-15T16:49:53.958734",
     "exception": false,
     "start_time": "2021-04-15T16:49:53.669091",
     "status": "completed"
    },
    "tags": []
   },
   "outputs": [
    {
     "data": {
      "image/png": "[encoded data removed]",
      "text/plain": [
       "<Figure size 432x288 with 1 Axes>"
      ]
     },
     "metadata": {
      "needs_background": "light"
     },
     "output_type": "display_data"
    }
   ],
   "source": [
    "sns.countplot(x=\"gender\", data = train_data)\n",
    "plt.xticks(rotation = 60)\n",
    "plt.show()"
   ]
  },
  {
   "cell_type": "code",
   "execution_count": null,
   "id": "passive-monthly",
   "metadata": {
    "execution": {
     "iopub.execute_input": "2021-04-15T16:49:54.268640Z",
     "iopub.status.busy": "2021-04-15T16:49:54.267427Z",
     "iopub.status.idle": "2021-04-15T16:49:54.784080Z",
     "shell.execute_reply": "2021-04-15T16:49:54.784618Z"
    },
    "papermill": {
     "duration": 0.677118,
     "end_time": "2021-04-15T16:49:54.784814",
     "exception": false,
     "start_time": "2021-04-15T16:49:54.107696",
     "status": "completed"
    },
    "tags": []
   },
   "outputs": [],
   "source": []
  },
  {
   "cell_type": "code",
   "execution_count": 51,
   "id": "organizational-criminal",
   "metadata": {
    "execution": {
     "iopub.execute_input": "2021-04-15T16:49:55.094966Z",
     "iopub.status.busy": "2021-04-15T16:49:55.093840Z",
     "iopub.status.idle": "2021-04-15T16:49:55.099866Z",
     "shell.execute_reply": "2021-04-15T16:49:55.099172Z"
    },
    "papermill": {
     "duration": 0.169539,
     "end_time": "2021-04-15T16:49:55.100011",
     "exception": false,
     "start_time": "2021-04-15T16:49:54.930472",
     "status": "completed"
    },
    "tags": []
   },
   "outputs": [],
   "source": [
    "#relevent_experience\n",
    "# Has relevent experience = 0 , No relevent experience = 1\n",
    "train_data[\"relevent_experience\"] = [ 0 if i == \"Has relevent experience\"\n",
    "                                    else 1 for i in train_data[\"relevent_experience\"]]\n"
   ]
  },
  {
   "cell_type": "code",
   "execution_count": 52,
   "id": "fresh-seeker",
   "metadata": {
    "execution": {
     "iopub.execute_input": "2021-04-15T16:49:55.398980Z",
     "iopub.status.busy": "2021-04-15T16:49:55.397940Z",
     "iopub.status.idle": "2021-04-15T16:49:55.523069Z",
     "shell.execute_reply": "2021-04-15T16:49:55.522363Z"
    },
    "papermill": {
     "duration": 0.275934,
     "end_time": "2021-04-15T16:49:55.523207",
     "exception": false,
     "start_time": "2021-04-15T16:49:55.247273",
     "status": "completed"
    },
    "tags": []
   },
   "outputs": [
    {
     "data": {
      "image/png": "[encoded data removed]",
      "text/plain": [
       "<Figure size 432x288 with 1 Axes>"
      ]
     },
     "metadata": {
      "needs_background": "light"
     },
     "output_type": "display_data"
    }
   ],
   "source": [
    "sns.countplot(x=\"relevent_experience\", data = train_data)\n",
    "plt.xticks(rotation = 60)\n",
    "plt.show()"
   ]
  },
  {
   "cell_type": "code",
   "execution_count": 53,
   "id": "occupied-outreach",
   "metadata": {
    "execution": {
     "iopub.execute_input": "2021-04-15T16:49:55.814215Z",
     "iopub.status.busy": "2021-04-15T16:49:55.813516Z",
     "iopub.status.idle": "2021-04-15T16:49:56.420250Z",
     "shell.execute_reply": "2021-04-15T16:49:56.420804Z"
    },
    "papermill": {
     "duration": 0.754131,
     "end_time": "2021-04-15T16:49:56.420984",
     "exception": false,
     "start_time": "2021-04-15T16:49:55.666853",
     "status": "completed"
    },
    "tags": []
   },
   "outputs": [
    {
     "data": {
      "image/png": "[encoded data removed]",
      "text/plain": [
       "<Figure size 360x360 with 1 Axes>"
      ]
     },
     "metadata": {
      "needs_background": "light"
     },
     "output_type": "display_data"
    }
   ],
   "source": [
    "g = sns.catplot(x = \"relevent_experience\", y = \"target\", data = train_data, kind = \"bar\")\n",
    "g.set_ylabels(\"TARGET\")\n",
    "plt.show()"
   ]
  },
  {
   "cell_type": "code",
   "execution_count": 54,
   "id": "patient-interest",
   "metadata": {
    "execution": {
     "iopub.execute_input": "2021-04-15T16:49:56.716713Z",
     "iopub.status.busy": "2021-04-15T16:49:56.715876Z",
     "iopub.status.idle": "2021-04-15T16:49:56.735497Z",
     "shell.execute_reply": "2021-04-15T16:49:56.736058Z"
    },
    "papermill": {
     "duration": 0.164495,
     "end_time": "2021-04-15T16:49:56.736230",
     "exception": false,
     "start_time": "2021-04-15T16:49:56.571735",
     "status": "completed"
    },
    "tags": []
   },
   "outputs": [],
   "source": [
    "#enrolled_university \n",
    "# no_enrollment = 0 , Full time course = 1, Part time course = 2\n",
    "\n",
    "train_data[\"enrolled_university\"] = [ 0 if i == \"no_enrollment\"\n",
    "                                    else 1 if i == \"Full time course\"\n",
    "                                    else 2 for i in train_data[\"enrolled_university\"]]"
   ]
  },
  {
   "cell_type": "code",
   "execution_count": 55,
   "id": "coated-microwave",
   "metadata": {
    "execution": {
     "iopub.execute_input": "2021-04-15T16:49:57.035183Z",
     "iopub.status.busy": "2021-04-15T16:49:57.034289Z",
     "iopub.status.idle": "2021-04-15T16:49:57.165980Z",
     "shell.execute_reply": "2021-04-15T16:49:57.166729Z"
    },
    "papermill": {
     "duration": 0.28509,
     "end_time": "2021-04-15T16:49:57.166930",
     "exception": false,
     "start_time": "2021-04-15T16:49:56.881840",
     "status": "completed"
    },
    "tags": []
   },
   "outputs": [
    {
     "data": {
      "image/png": "[encoded data removed]",
      "text/plain": [
       "<Figure size 432x288 with 1 Axes>"
      ]
     },
     "metadata": {
      "needs_background": "light"
     },
     "output_type": "display_data"
    }
   ],
   "source": [
    "sns.countplot(x=\"enrolled_university\", data = train_data)\n",
    "plt.xticks(rotation = 60)\n",
    "plt.show()"
   ]
  },
  {
   "cell_type": "code",
   "execution_count": 56,
   "id": "breathing-panama",
   "metadata": {
    "execution": {
     "iopub.execute_input": "2021-04-15T16:49:57.464761Z",
     "iopub.status.busy": "2021-04-15T16:49:57.464074Z",
     "iopub.status.idle": "2021-04-15T16:49:57.960905Z",
     "shell.execute_reply": "2021-04-15T16:49:57.961512Z"
    },
    "papermill": {
     "duration": 0.650017,
     "end_time": "2021-04-15T16:49:57.961740",
     "exception": false,
     "start_time": "2021-04-15T16:49:57.311723",
     "status": "completed"
    },
    "tags": []
   },
   "outputs": [
    {
     "data": {
      "image/png": "[encoded data removed]",
      "text/plain": [
       "<Figure size 360x360 with 1 Axes>"
      ]
     },
     "metadata": {
      "needs_background": "light"
     },
     "output_type": "display_data"
    }
   ],
   "source": [
    "g = sns.catplot(x = \"enrolled_university\", y = \"target\", data = train_data, kind = \"bar\")\n",
    "g.set_ylabels(\"TARGET\")\n",
    "plt.show()"
   ]
  },
  {
   "cell_type": "code",
   "execution_count": 57,
   "id": "fixed-childhood",
   "metadata": {
    "execution": {
     "iopub.execute_input": "2021-04-15T16:49:58.278189Z",
     "iopub.status.busy": "2021-04-15T16:49:58.277419Z",
     "iopub.status.idle": "2021-04-15T16:49:58.297894Z",
     "shell.execute_reply": "2021-04-15T16:49:58.298513Z"
    },
    "papermill": {
     "duration": 0.179773,
     "end_time": "2021-04-15T16:49:58.298729",
     "exception": false,
     "start_time": "2021-04-15T16:49:58.118956",
     "status": "completed"
    },
    "tags": []
   },
   "outputs": [],
   "source": [
    "#education_level\n",
    "# Graduate = 0 , Masters = 1, High School = 2, Phd = 3, Primary School = 4 \n",
    "\n",
    "train_data[\"education_level\"] = [ 0 if i == \"Graduate\"\n",
    "                                    else 1 if i == \"Masters\"\n",
    "                                    else 2 if i == \"High School\"\n",
    "                                    else 3 if i == \"Phd\" \n",
    "                                    else 4 for i in train_data[\"education_level\"]]"
   ]
  },
  {
   "cell_type": "code",
   "execution_count": 58,
   "id": "modified-organic",
   "metadata": {
    "execution": {
     "iopub.execute_input": "2021-04-15T16:49:58.596570Z",
     "iopub.status.busy": "2021-04-15T16:49:58.595854Z",
     "iopub.status.idle": "2021-04-15T16:49:58.742472Z",
     "shell.execute_reply": "2021-04-15T16:49:58.743030Z"
    },
    "papermill": {
     "duration": 0.300699,
     "end_time": "2021-04-15T16:49:58.743208",
     "exception": false,
     "start_time": "2021-04-15T16:49:58.442509",
     "status": "completed"
    },
    "tags": []
   },
   "outputs": [
    {
     "data": {
      "image/png": "[encoded data removed]",
      "text/plain": [
       "<Figure size 432x288 with 1 Axes>"
      ]
     },
     "metadata": {
      "needs_background": "light"
     },
     "output_type": "display_data"
    }
   ],
   "source": [
    "sns.countplot(x=\"education_level\", data = train_data)\n",
    "plt.xticks(rotation = 60)\n",
    "plt.show()"
   ]
  },
  {
   "cell_type": "code",
   "execution_count": 59,
   "id": "devoted-shadow",
   "metadata": {
    "execution": {
     "iopub.execute_input": "2021-04-15T16:49:59.058314Z",
     "iopub.status.busy": "2021-04-15T16:49:59.057247Z",
     "iopub.status.idle": "2021-04-15T16:49:59.598293Z",
     "shell.execute_reply": "2021-04-15T16:49:59.598852Z"
    },
    "papermill": {
     "duration": 0.706355,
     "end_time": "2021-04-15T16:49:59.599038",
     "exception": false,
     "start_time": "2021-04-15T16:49:58.892683",
     "status": "completed"
    },
    "tags": []
   },
   "outputs": [
    {
     "data": {
      "image/png": "[encoded data removed]",
      "text/plain": [
       "<Figure size 360x360 with 1 Axes>"
      ]
     },
     "metadata": {
      "needs_background": "light"
     },
     "output_type": "display_data"
    }
   ],
   "source": [
    "g = sns.catplot(x = \"education_level\", y = \"target\", data = train_data, kind = \"bar\")\n",
    "g.set_ylabels(\"TARGET\")\n",
    "plt.show()"
   ]
  },
  {
   "cell_type": "code",
   "execution_count": 60,
   "id": "dental-liberty",
   "metadata": {
    "execution": {
     "iopub.execute_input": "2021-04-15T16:49:59.899927Z",
     "iopub.status.busy": "2021-04-15T16:49:59.899156Z",
     "iopub.status.idle": "2021-04-15T16:49:59.919035Z",
     "shell.execute_reply": "2021-04-15T16:49:59.919602Z"
    },
    "papermill": {
     "duration": 0.171037,
     "end_time": "2021-04-15T16:49:59.919784",
     "exception": false,
     "start_time": "2021-04-15T16:49:59.748747",
     "status": "completed"
    },
    "tags": []
   },
   "outputs": [],
   "source": [
    "#major_discipline \n",
    "# STEM  = 0 , Humanities = 1, Business Degree = 2, Arts = 3, No Major = 4, Other = 5 \n",
    "\n",
    "train_data[\"major_discipline\"] = [ 0 if i == \"STEM\"\n",
    "                                    else 1 if i == \"Humanities\"\n",
    "                                    else 2 if i == \"Business Degree\"\n",
    "                                    else 3 if i == \"Arts\" \n",
    "                                    else 4 if i == \"No Major\" \n",
    "                                    else 5 for i in train_data[\"major_discipline\"]]"
   ]
  },
  {
   "cell_type": "code",
   "execution_count": 61,
   "id": "spoken-oregon",
   "metadata": {
    "execution": {
     "iopub.execute_input": "2021-04-15T16:50:00.237785Z",
     "iopub.status.busy": "2021-04-15T16:50:00.237073Z",
     "iopub.status.idle": "2021-04-15T16:50:00.392936Z",
     "shell.execute_reply": "2021-04-15T16:50:00.393431Z"
    },
    "papermill": {
     "duration": 0.316107,
     "end_time": "2021-04-15T16:50:00.393651",
     "exception": false,
     "start_time": "2021-04-15T16:50:00.077544",
     "status": "completed"
    },
    "tags": []
   },
   "outputs": [
    {
     "data": {
      "image/png": "[encoded data removed]",
      "text/plain": [
       "<Figure size 432x288 with 1 Axes>"
      ]
     },
     "metadata": {
      "needs_background": "light"
     },
     "output_type": "display_data"
    }
   ],
   "source": [
    "sns.countplot(x=\"major_discipline\", data = train_data)\n",
    "plt.xticks(rotation = 60)\n",
    "plt.show()"
   ]
  },
  {
   "cell_type": "code",
   "execution_count": 62,
   "id": "changing-roads",
   "metadata": {
    "execution": {
     "iopub.execute_input": "2021-04-15T16:50:00.704820Z",
     "iopub.status.busy": "2021-04-15T16:50:00.704100Z",
     "iopub.status.idle": "2021-04-15T16:50:01.338421Z",
     "shell.execute_reply": "2021-04-15T16:50:01.338940Z"
    },
    "papermill": {
     "duration": 0.793699,
     "end_time": "2021-04-15T16:50:01.339131",
     "exception": false,
     "start_time": "2021-04-15T16:50:00.545432",
     "status": "completed"
    },
    "tags": []
   },
   "outputs": [
    {
     "data": {
      "image/png": "[encoded data removed]",
      "text/plain": [
       "<Figure size 360x360 with 1 Axes>"
      ]
     },
     "metadata": {
      "needs_background": "light"
     },
     "output_type": "display_data"
    }
   ],
   "source": [
    "g = sns.catplot(x = \"major_discipline\", y = \"target\", data = train_data, kind = \"bar\")\n",
    "g.set_ylabels(\"TARGET\")\n",
    "plt.show()"
   ]
  },
  {
   "cell_type": "code",
   "execution_count": 63,
   "id": "normal-commitment",
   "metadata": {
    "execution": {
     "iopub.execute_input": "2021-04-15T16:50:01.648454Z",
     "iopub.status.busy": "2021-04-15T16:50:01.647716Z",
     "iopub.status.idle": "2021-04-15T16:50:01.672759Z",
     "shell.execute_reply": "2021-04-15T16:50:01.673335Z"
    },
    "papermill": {
     "duration": 0.181106,
     "end_time": "2021-04-15T16:50:01.673545",
     "exception": false,
     "start_time": "2021-04-15T16:50:01.492439",
     "status": "completed"
    },
    "tags": []
   },
   "outputs": [],
   "source": [
    "#experience\n",
    "train_data[\"experience\"] = [ 0 if i == \"2\" or i == \"1\" or i == \"4\" or i == \"<1\" or i == \"3\"\n",
    "                                    else 1 if i == \"5>\" or i == \"11\" or i == \"7\" or i == \"10\" or i == \"6\" or i == \"9\" or i == \"8\" or i == \"20\"\n",
    "                                    else 2 for i in train_data[\"experience\"]]"
   ]
  },
  {
   "cell_type": "code",
   "execution_count": 64,
   "id": "improved-immigration",
   "metadata": {
    "execution": {
     "iopub.execute_input": "2021-04-15T16:50:01.982946Z",
     "iopub.status.busy": "2021-04-15T16:50:01.982169Z",
     "iopub.status.idle": "2021-04-15T16:50:02.101334Z",
     "shell.execute_reply": "2021-04-15T16:50:02.101907Z"
    },
    "papermill": {
     "duration": 0.277975,
     "end_time": "2021-04-15T16:50:02.102090",
     "exception": false,
     "start_time": "2021-04-15T16:50:01.824115",
     "status": "completed"
    },
    "tags": []
   },
   "outputs": [
    {
     "data": {
      "image/png": "[encoded data removed]",
      "text/plain": [
       "<Figure size 432x288 with 1 Axes>"
      ]
     },
     "metadata": {
      "needs_background": "light"
     },
     "output_type": "display_data"
    }
   ],
   "source": [
    "#experience\n",
    "sns.countplot(x=\"experience\", data = train_data)\n",
    "plt.xticks(rotation = 60)\n",
    "plt.show()"
   ]
  },
  {
   "cell_type": "code",
   "execution_count": 65,
   "id": "unnecessary-hometown",
   "metadata": {
    "execution": {
     "iopub.execute_input": "2021-04-15T16:50:02.415123Z",
     "iopub.status.busy": "2021-04-15T16:50:02.414382Z",
     "iopub.status.idle": "2021-04-15T16:50:02.880849Z",
     "shell.execute_reply": "2021-04-15T16:50:02.881822Z"
    },
    "papermill": {
     "duration": 0.62513,
     "end_time": "2021-04-15T16:50:02.882034",
     "exception": false,
     "start_time": "2021-04-15T16:50:02.256904",
     "status": "completed"
    },
    "tags": []
   },
   "outputs": [
    {
     "data": {
      "image/png": "[encoded data removed]",
      "text/plain": [
       "<Figure size 360x360 with 1 Axes>"
      ]
     },
     "metadata": {
      "needs_background": "light"
     },
     "output_type": "display_data"
    }
   ],
   "source": [
    "g = sns.catplot(x = \"experience\", y = \"target\", data = train_data, kind = \"bar\")\n",
    "g.set_ylabels(\"TARGET\")\n",
    "plt.show()"
   ]
  },
  {
   "cell_type": "code",
   "execution_count": 66,
   "id": "wired-louisville",
   "metadata": {
    "execution": {
     "iopub.execute_input": "2021-04-15T16:50:03.194315Z",
     "iopub.status.busy": "2021-04-15T16:50:03.193584Z",
     "iopub.status.idle": "2021-04-15T16:50:03.213466Z",
     "shell.execute_reply": "2021-04-15T16:50:03.214088Z"
    },
    "papermill": {
     "duration": 0.177091,
     "end_time": "2021-04-15T16:50:03.214273",
     "exception": false,
     "start_time": "2021-04-15T16:50:03.037182",
     "status": "completed"
    },
    "tags": []
   },
   "outputs": [],
   "source": [
    "#company_size\n",
    "train_data[\"company_size\"] = [ 0 if i == \"10/49\"\n",
    "                                    else 1 for i in train_data[\"company_size\"]]"
   ]
  },
  {
   "cell_type": "code",
   "execution_count": 67,
   "id": "miniature-charlotte",
   "metadata": {
    "execution": {
     "iopub.execute_input": "2021-04-15T16:50:03.576734Z",
     "iopub.status.busy": "2021-04-15T16:50:03.575867Z",
     "iopub.status.idle": "2021-04-15T16:50:03.703884Z",
     "shell.execute_reply": "2021-04-15T16:50:03.703168Z"
    },
    "papermill": {
     "duration": 0.282917,
     "end_time": "2021-04-15T16:50:03.704032",
     "exception": false,
     "start_time": "2021-04-15T16:50:03.421115",
     "status": "completed"
    },
    "tags": []
   },
   "outputs": [
    {
     "data": {
      "image/png": "[encoded data removed]",
      "text/plain": [
       "<Figure size 432x288 with 1 Axes>"
      ]
     },
     "metadata": {
      "needs_background": "light"
     },
     "output_type": "display_data"
    }
   ],
   "source": [
    "sns.countplot(x=\"company_size\", data = train_data)\n",
    "plt.xticks(rotation = 60)\n",
    "plt.show()"
   ]
  },
  {
   "cell_type": "code",
   "execution_count": 68,
   "id": "greatest-paragraph",
   "metadata": {
    "execution": {
     "iopub.execute_input": "2021-04-15T16:50:04.020754Z",
     "iopub.status.busy": "2021-04-15T16:50:04.019997Z",
     "iopub.status.idle": "2021-04-15T16:50:04.448824Z",
     "shell.execute_reply": "2021-04-15T16:50:04.448229Z"
    },
    "papermill": {
     "duration": 0.586021,
     "end_time": "2021-04-15T16:50:04.449012",
     "exception": false,
     "start_time": "2021-04-15T16:50:03.862991",
     "status": "completed"
    },
    "tags": []
   },
   "outputs": [
    {
     "data": {
      "image/png": "[encoded data removed]",
      "text/plain": [
       "<Figure size 360x360 with 1 Axes>"
      ]
     },
     "metadata": {
      "needs_background": "light"
     },
     "output_type": "display_data"
    }
   ],
   "source": [
    "g = sns.catplot(x = \"company_size\", y = \"target\", data = train_data, kind = \"bar\")\n",
    "g.set_xticklabels(rotation = 90)\n",
    "g.set_ylabels(\"TARGET\")\n",
    "plt.show()"
   ]
  },
  {
   "cell_type": "code",
   "execution_count": 69,
   "id": "supreme-singapore",
   "metadata": {
    "execution": {
     "iopub.execute_input": "2021-04-15T16:50:04.781615Z",
     "iopub.status.busy": "2021-04-15T16:50:04.780852Z",
     "iopub.status.idle": "2021-04-15T16:50:04.784331Z",
     "shell.execute_reply": "2021-04-15T16:50:04.784896Z"
    },
    "papermill": {
     "duration": 0.178249,
     "end_time": "2021-04-15T16:50:04.785086",
     "exception": false,
     "start_time": "2021-04-15T16:50:04.606837",
     "status": "completed"
    },
    "tags": []
   },
   "outputs": [],
   "source": [
    "#company_type\n",
    "# pvt ltd = 0, Funded Startup  = 1 , Public Sector  = 2, Early Stage Startup = 3, NGO = 4 , else 5 \n",
    "\n",
    "train_data[\"company_type\"] = [ 0 if i == \"Pvt Ltd\"\n",
    "                               else 1 if i == \"Funded Startup\"\n",
    "                               else 2 if i == \"Public Sector\"\n",
    "                               else 3 if i == \"Early Stage Startup\"\n",
    "                               else 4 if i == \"NGO\" \n",
    "                               else 5 for i in train_data[\"company_type\"]]"
   ]
  },
  {
   "cell_type": "code",
   "execution_count": 70,
   "id": "interim-geology",
   "metadata": {
    "execution": {
     "iopub.execute_input": "2021-04-15T16:50:05.100776Z",
     "iopub.status.busy": "2021-04-15T16:50:05.100082Z",
     "iopub.status.idle": "2021-04-15T16:50:05.250772Z",
     "shell.execute_reply": "2021-04-15T16:50:05.251424Z"
    },
    "papermill": {
     "duration": 0.311508,
     "end_time": "2021-04-15T16:50:05.251624",
     "exception": false,
     "start_time": "2021-04-15T16:50:04.940116",
     "status": "completed"
    },
    "tags": []
   },
   "outputs": [
    {
     "data": {
      "image/png": "[encoded data removed]",
      "text/plain": [
       "<Figure size 432x288 with 1 Axes>"
      ]
     },
     "metadata": {
      "needs_background": "light"
     },
     "output_type": "display_data"
    }
   ],
   "source": [
    "sns.countplot(x=\"company_type\", data = train_data)\n",
    "plt.xticks(rotation = 60)\n",
    "plt.show()"
   ]
  },
  {
   "cell_type": "code",
   "execution_count": 71,
   "id": "domestic-breakfast",
   "metadata": {
    "execution": {
     "iopub.execute_input": "2021-04-15T16:50:05.564834Z",
     "iopub.status.busy": "2021-04-15T16:50:05.564076Z",
     "iopub.status.idle": "2021-04-15T16:50:06.178912Z",
     "shell.execute_reply": "2021-04-15T16:50:06.178117Z"
    },
    "papermill": {
     "duration": 0.77348,
     "end_time": "2021-04-15T16:50:06.179081",
     "exception": false,
     "start_time": "2021-04-15T16:50:05.405601",
     "status": "completed"
    },
    "tags": []
   },
   "outputs": [
    {
     "data": {
      "image/png": "[encoded data removed]",
      "text/plain": [
       "<Figure size 360x360 with 1 Axes>"
      ]
     },
     "metadata": {
      "needs_background": "light"
     },
     "output_type": "display_data"
    }
   ],
   "source": [
    "g = sns.catplot(x = \"company_type\", y = \"target\", data = train_data, kind = \"bar\")\n",
    "g.set_xticklabels(rotation = 90)\n",
    "g.set_ylabels(\"TARGET\")\n",
    "plt.show()"
   ]
  },
  {
   "cell_type": "code",
   "execution_count": 72,
   "id": "completed-interference",
   "metadata": {
    "execution": {
     "iopub.execute_input": "2021-04-15T16:50:06.498334Z",
     "iopub.status.busy": "2021-04-15T16:50:06.497291Z",
     "iopub.status.idle": "2021-04-15T16:50:06.505191Z",
     "shell.execute_reply": "2021-04-15T16:50:06.504562Z"
    },
    "papermill": {
     "duration": 0.1672,
     "end_time": "2021-04-15T16:50:06.505345",
     "exception": false,
     "start_time": "2021-04-15T16:50:06.338145",
     "status": "completed"
    },
    "tags": []
   },
   "outputs": [
    {
     "data": {
      "text/plain": [
       "0    14566\n",
       "1     1469\n",
       "2     1390\n",
       "3      864\n",
       "4      721\n",
       "5      168\n",
       "Name: company_type, dtype: int64"
      ]
     },
     "execution_count": 72,
     "metadata": {},
     "output_type": "execute_result"
    }
   ],
   "source": [
    "train_data[\"company_type\"].value_counts()"
   ]
  },
  {
   "cell_type": "code",
   "execution_count": 73,
   "id": "afraid-pennsylvania",
   "metadata": {
    "execution": {
     "iopub.execute_input": "2021-04-15T16:50:06.840793Z",
     "iopub.status.busy": "2021-04-15T16:50:06.829020Z",
     "iopub.status.idle": "2021-04-15T16:50:06.843828Z",
     "shell.execute_reply": "2021-04-15T16:50:06.843001Z"
    },
    "papermill": {
     "duration": 0.182224,
     "end_time": "2021-04-15T16:50:06.843997",
     "exception": false,
     "start_time": "2021-04-15T16:50:06.661773",
     "status": "completed"
    },
    "tags": []
   },
   "outputs": [],
   "source": [
    "train_data[\"company_type\"] = [ 0 if i == 3 or i == 4\n",
    "                               else 1 if i == 2\n",
    "                               else 2 for i in train_data[\"company_type\"]]"
   ]
  },
  {
   "cell_type": "code",
   "execution_count": 74,
   "metadata": {
    "papermill": {
     "duration": 0.181949,
     "end_time": "2021-04-15T16:50:07.211332",
     "exception": false,
     "start_time": "2021-04-15T16:50:07.029383",
     "status": "completed"
    },
    "tags": []
   },
   "outputs": [
    {
     "data": {
      "text/plain": [
       "1           >4\n",
       "2        never\n",
       "4            4\n",
       "5            1\n",
       "6            1\n",
       "         ...  \n",
       "21279       >4\n",
       "21280    never\n",
       "21281    never\n",
       "21285        1\n",
       "21286        2\n",
       "Name: last_new_job, Length: 19178, dtype: object"
      ]
     },
     "execution_count": 74,
     "metadata": {},
     "output_type": "execute_result"
    }
   ],
   "source": [
    "train_data[\"last_new_job\"]"
   ]
  },
  {
   "cell_type": "code",
   "execution_count": 75,
   "id": "nearby-median",
   "metadata": {
    "execution": {
     "iopub.execute_input": "2021-04-15T16:50:07.559309Z",
     "iopub.status.busy": "2021-04-15T16:50:07.558201Z",
     "iopub.status.idle": "2021-04-15T16:50:07.587763Z",
     "shell.execute_reply": "2021-04-15T16:50:07.587113Z"
    },
    "papermill": {
     "duration": 0.199757,
     "end_time": "2021-04-15T16:50:07.587968",
     "exception": false,
     "start_time": "2021-04-15T16:50:07.388211",
     "status": "completed"
    },
    "tags": []
   },
   "outputs": [
    {
     "data": {
      "text/plain": [
       "1        5\n",
       "2        4\n",
       "4        3\n",
       "5        0\n",
       "6        0\n",
       "        ..\n",
       "21279    5\n",
       "21280    4\n",
       "21281    4\n",
       "21285    0\n",
       "21286    1\n",
       "Name: last_new_job, Length: 19178, dtype: int64"
      ]
     },
     "execution_count": 75,
     "metadata": {},
     "output_type": "execute_result"
    }
   ],
   "source": [
    "#last_new_job\n",
    "train_data[\"last_new_job\"] = [ 0 if i == \"1\"\n",
    "                               else 1 if i == \"2\"\n",
    "                               else 2 if i == \"3\"\n",
    "                               else 3 if i == \"4\"\n",
    "                               else 4 if i == \"never\" \n",
    "                               else 5 for i in train_data[\"last_new_job\"]]\n",
    "\n",
    "\n",
    "train_data[\"last_new_job\"]"
   ]
  },
  {
   "cell_type": "code",
   "execution_count": 76,
   "id": "precise-patent",
   "metadata": {
    "execution": {
     "iopub.execute_input": "2021-04-15T16:50:07.941227Z",
     "iopub.status.busy": "2021-04-15T16:50:07.940112Z",
     "iopub.status.idle": "2021-04-15T16:50:08.123645Z",
     "shell.execute_reply": "2021-04-15T16:50:08.125134Z"
    },
    "papermill": {
     "duration": 0.361101,
     "end_time": "2021-04-15T16:50:08.125384",
     "exception": false,
     "start_time": "2021-04-15T16:50:07.764283",
     "status": "completed"
    },
    "tags": []
   },
   "outputs": [
    {
     "data": {
      "image/png": "[encoded data removed]",
      "text/plain": [
       "<Figure size 432x288 with 1 Axes>"
      ]
     },
     "metadata": {
      "needs_background": "light"
     },
     "output_type": "display_data"
    }
   ],
   "source": [
    "sns.countplot(x=\"last_new_job\", data = train_data)\n",
    "plt.xticks(rotation = 60)\n",
    "plt.show()"
   ]
  },
  {
   "cell_type": "code",
   "execution_count": 77,
   "id": "spatial-adams",
   "metadata": {
    "execution": {
     "iopub.execute_input": "2021-04-15T16:50:08.482633Z",
     "iopub.status.busy": "2021-04-15T16:50:08.481813Z",
     "iopub.status.idle": "2021-04-15T16:50:09.153798Z",
     "shell.execute_reply": "2021-04-15T16:50:09.153037Z"
    },
    "papermill": {
     "duration": 0.848879,
     "end_time": "2021-04-15T16:50:09.153962",
     "exception": false,
     "start_time": "2021-04-15T16:50:08.305083",
     "status": "completed"
    },
    "tags": []
   },
   "outputs": [
    {
     "data": {
      "image/png": "[encoded data removed]",
      "text/plain": [
       "<Figure size 360x360 with 1 Axes>"
      ]
     },
     "metadata": {
      "needs_background": "light"
     },
     "output_type": "display_data"
    }
   ],
   "source": [
    "g = sns.catplot(x = \"last_new_job\", y = \"target\", data = train_data, kind = \"bar\")\n",
    "g.set_xticklabels(rotation = 90)\n",
    "g.set_ylabels(\"TARGET\")\n",
    "plt.show()"
   ]
  },
  {
   "cell_type": "code",
   "execution_count": 78,
   "id": "incorporated-inspiration",
   "metadata": {
    "execution": {
     "iopub.execute_input": "2021-04-15T16:50:09.527609Z",
     "iopub.status.busy": "2021-04-15T16:50:09.514068Z",
     "iopub.status.idle": "2021-04-15T16:50:09.530969Z",
     "shell.execute_reply": "2021-04-15T16:50:09.530273Z"
    },
    "papermill": {
     "duration": 0.207269,
     "end_time": "2021-04-15T16:50:09.531119",
     "exception": false,
     "start_time": "2021-04-15T16:50:09.323850",
     "status": "completed"
    },
    "tags": []
   },
   "outputs": [],
   "source": [
    "train_data[\"last_new_job\"] = [ 0 if i == 4\n",
    "                               else 1 if i == 5\n",
    "                               else 2 for i in train_data[\"last_new_job\"]]"
   ]
  },
  {
   "cell_type": "code",
   "execution_count": 79,
   "id": "crude-panama",
   "metadata": {
    "execution": {
     "iopub.execute_input": "2021-04-15T16:50:09.909805Z",
     "iopub.status.busy": "2021-04-15T16:50:09.909079Z",
     "iopub.status.idle": "2021-04-15T16:50:09.926378Z",
     "shell.execute_reply": "2021-04-15T16:50:09.925692Z"
    },
    "papermill": {
     "duration": 0.210768,
     "end_time": "2021-04-15T16:50:09.926595",
     "exception": false,
     "start_time": "2021-04-15T16:50:09.715827",
     "status": "completed"
    },
    "tags": []
   },
   "outputs": [
    {
     "data": {
      "text/html": [
       "<div>\n",
       "<style scoped>\n",
       "    .dataframe tbody tr th:only-of-type {\n",
       "        vertical-align: middle;\n",
       "    }\n",
       "\n",
       "    .dataframe tbody tr th {\n",
       "        vertical-align: top;\n",
       "    }\n",
       "\n",
       "    .dataframe thead th {\n",
       "        text-align: right;\n",
       "    }\n",
       "</style>\n",
       "<table border=\"1\" class=\"dataframe\">\n",
       "  <thead>\n",
       "    <tr style=\"text-align: right;\">\n",
       "      <th></th>\n",
       "      <th>enrollee_id</th>\n",
       "      <th>city</th>\n",
       "      <th>city_development_index</th>\n",
       "      <th>gender</th>\n",
       "      <th>relevent_experience</th>\n",
       "      <th>enrolled_university</th>\n",
       "      <th>education_level</th>\n",
       "      <th>major_discipline</th>\n",
       "      <th>experience</th>\n",
       "      <th>company_size</th>\n",
       "      <th>company_type</th>\n",
       "      <th>last_new_job</th>\n",
       "      <th>training_hours</th>\n",
       "      <th>target</th>\n",
       "    </tr>\n",
       "  </thead>\n",
       "  <tbody>\n",
       "    <tr>\n",
       "      <th>1</th>\n",
       "      <td>29725</td>\n",
       "      <td>city_40</td>\n",
       "      <td>0.776</td>\n",
       "      <td>0</td>\n",
       "      <td>1</td>\n",
       "      <td>0</td>\n",
       "      <td>0</td>\n",
       "      <td>0</td>\n",
       "      <td>2</td>\n",
       "      <td>1</td>\n",
       "      <td>2</td>\n",
       "      <td>1</td>\n",
       "      <td>47</td>\n",
       "      <td>0.0</td>\n",
       "    </tr>\n",
       "    <tr>\n",
       "      <th>2</th>\n",
       "      <td>11561</td>\n",
       "      <td>city_21</td>\n",
       "      <td>0.624</td>\n",
       "      <td>0</td>\n",
       "      <td>1</td>\n",
       "      <td>1</td>\n",
       "      <td>0</td>\n",
       "      <td>0</td>\n",
       "      <td>2</td>\n",
       "      <td>1</td>\n",
       "      <td>2</td>\n",
       "      <td>0</td>\n",
       "      <td>83</td>\n",
       "      <td>0.0</td>\n",
       "    </tr>\n",
       "    <tr>\n",
       "      <th>4</th>\n",
       "      <td>666</td>\n",
       "      <td>city_162</td>\n",
       "      <td>0.767</td>\n",
       "      <td>0</td>\n",
       "      <td>0</td>\n",
       "      <td>0</td>\n",
       "      <td>1</td>\n",
       "      <td>0</td>\n",
       "      <td>2</td>\n",
       "      <td>1</td>\n",
       "      <td>2</td>\n",
       "      <td>2</td>\n",
       "      <td>8</td>\n",
       "      <td>0.0</td>\n",
       "    </tr>\n",
       "    <tr>\n",
       "      <th>5</th>\n",
       "      <td>21651</td>\n",
       "      <td>city_176</td>\n",
       "      <td>0.764</td>\n",
       "      <td>0</td>\n",
       "      <td>0</td>\n",
       "      <td>2</td>\n",
       "      <td>0</td>\n",
       "      <td>0</td>\n",
       "      <td>1</td>\n",
       "      <td>1</td>\n",
       "      <td>2</td>\n",
       "      <td>2</td>\n",
       "      <td>24</td>\n",
       "      <td>1.0</td>\n",
       "    </tr>\n",
       "    <tr>\n",
       "      <th>6</th>\n",
       "      <td>28806</td>\n",
       "      <td>city_160</td>\n",
       "      <td>0.920</td>\n",
       "      <td>0</td>\n",
       "      <td>0</td>\n",
       "      <td>0</td>\n",
       "      <td>2</td>\n",
       "      <td>0</td>\n",
       "      <td>2</td>\n",
       "      <td>1</td>\n",
       "      <td>2</td>\n",
       "      <td>2</td>\n",
       "      <td>24</td>\n",
       "      <td>0.0</td>\n",
       "    </tr>\n",
       "  </tbody>\n",
       "</table>\n",
       "</div>"
      ],
      "text/plain": [
       "   enrollee_id      city  city_development_index  gender  relevent_experience  \\\n",
       "1        29725   city_40                   0.776       0                    1   \n",
       "2        11561   city_21                   0.624       0                    1   \n",
       "4          666  city_162                   0.767       0                    0   \n",
       "5        21651  city_176                   0.764       0                    0   \n",
       "6        28806  city_160                   0.920       0                    0   \n",
       "\n",
       "   enrolled_university  education_level  major_discipline  experience  \\\n",
       "1                    0                0                 0           2   \n",
       "2                    1                0                 0           2   \n",
       "4                    0                1                 0           2   \n",
       "5                    2                0                 0           1   \n",
       "6                    0                2                 0           2   \n",
       "\n",
       "   company_size  company_type  last_new_job  training_hours  target  \n",
       "1             1             2             1              47     0.0  \n",
       "2             1             2             0              83     0.0  \n",
       "4             1             2             2               8     0.0  \n",
       "5             1             2             2              24     1.0  \n",
       "6             1             2             2              24     0.0  "
      ]
     },
     "execution_count": 79,
     "metadata": {},
     "output_type": "execute_result"
    }
   ],
   "source": [
    "train_data.head()"
   ]
  },
  {
   "cell_type": "code",
   "execution_count": 80,
   "id": "natural-debut",
   "metadata": {
    "execution": {
     "iopub.execute_input": "2021-04-15T16:50:10.334618Z",
     "iopub.status.busy": "2021-04-15T16:50:10.333716Z",
     "iopub.status.idle": "2021-04-15T16:50:10.336866Z",
     "shell.execute_reply": "2021-04-15T16:50:10.336174Z"
    },
    "papermill": {
     "duration": 0.201406,
     "end_time": "2021-04-15T16:50:10.337017",
     "exception": false,
     "start_time": "2021-04-15T16:50:10.135611",
     "status": "completed"
    },
    "tags": []
   },
   "outputs": [],
   "source": [
    "#city\n",
    "le = LabelEncoder()\n",
    "train_data[\"city\"] = le.fit_transform(train_data[\"city\"])"
   ]
  },
  {
   "cell_type": "code",
   "execution_count": null,
   "metadata": {
    "papermill": {
     "duration": 0.186956,
     "end_time": "2021-04-15T16:50:10.697195",
     "exception": false,
     "start_time": "2021-04-15T16:50:10.510239",
     "status": "completed"
    },
    "tags": []
   },
   "outputs": [],
   "source": []
  },
  {
   "cell_type": "code",
   "execution_count": 81,
   "id": "decimal-convert",
   "metadata": {
    "execution": {
     "iopub.execute_input": "2021-04-15T16:50:11.089491Z",
     "iopub.status.busy": "2021-04-15T16:50:11.065886Z",
     "iopub.status.idle": "2021-04-15T16:50:11.607097Z",
     "shell.execute_reply": "2021-04-15T16:50:11.606211Z"
    },
    "papermill": {
     "duration": 0.724461,
     "end_time": "2021-04-15T16:50:11.607259",
     "exception": false,
     "start_time": "2021-04-15T16:50:10.882798",
     "status": "completed"
    },
    "tags": []
   },
   "outputs": [
    {
     "name": "stderr",
     "output_type": "stream",
     "text": [
      "C:\\Users\\Pavithra\\anaconda3\\envs\\myenv1\\lib\\site-packages\\seaborn\\distributions.py:2557: FutureWarning: `distplot` is a deprecated function and will be removed in a future version. Please adapt your code to use either `displot` (a figure-level function with similar flexibility) or `histplot` (an axes-level function for histograms).\n",
      "  warnings.warn(msg, FutureWarning)\n"
     ]
    },
    {
     "data": {
      "image/png": "[encoded data removed]",
      "text/plain": [
       "<Figure size 432x288 with 1 Axes>"
      ]
     },
     "metadata": {
      "needs_background": "light"
     },
     "output_type": "display_data"
    },
    {
     "name": "stdout",
     "output_type": "stream",
     "text": [
      "mu training_hours : 65.31629992699969, sigma training_hours : 60.1290749004222\n",
      "\n"
     ]
    }
   ],
   "source": [
    "# training_hours\n",
    "sns.distplot(train_data[\"training_hours\"], fit = norm)\n",
    "plt.show()\n",
    "(mu, sigma) = norm.fit(train_data[\"training_hours\"])\n",
    "print(\"mu {} : {}, sigma {} : {}\".format(\"training_hours\", mu, \"training_hours\", sigma))\n",
    "print()"
   ]
  },
  {
   "cell_type": "code",
   "execution_count": 82,
   "metadata": {
    "papermill": {
     "duration": 0.181652,
     "end_time": "2021-04-15T16:50:11.976639",
     "exception": false,
     "start_time": "2021-04-15T16:50:11.794987",
     "status": "completed"
    },
    "tags": []
   },
   "outputs": [],
   "source": [
    "#data is mostly in the right half, or is right skewed. Have to convert to normal form"
   ]
  },
  {
   "cell_type": "code",
   "execution_count": 83,
   "id": "reduced-donor",
   "metadata": {
    "execution": {
     "iopub.execute_input": "2021-04-15T16:50:12.368619Z",
     "iopub.status.busy": "2021-04-15T16:50:12.367565Z",
     "iopub.status.idle": "2021-04-15T16:50:12.414782Z",
     "shell.execute_reply": "2021-04-15T16:50:12.415347Z"
    },
    "papermill": {
     "duration": 0.237267,
     "end_time": "2021-04-15T16:50:12.415553",
     "exception": false,
     "start_time": "2021-04-15T16:50:12.178286",
     "status": "completed"
    },
    "tags": []
   },
   "outputs": [],
   "source": [
    "train_data[\"training_hours\"], lam = boxcox(train_data[\"training_hours\"])"
   ]
  },
  {
   "cell_type": "code",
   "execution_count": 84,
   "id": "ahead-consent",
   "metadata": {
    "execution": {
     "iopub.execute_input": "2021-04-15T16:50:12.795971Z",
     "iopub.status.busy": "2021-04-15T16:50:12.787598Z",
     "iopub.status.idle": "2021-04-15T16:50:13.265116Z",
     "shell.execute_reply": "2021-04-15T16:50:13.264376Z"
    },
    "papermill": {
     "duration": 0.673777,
     "end_time": "2021-04-15T16:50:13.265266",
     "exception": false,
     "start_time": "2021-04-15T16:50:12.591489",
     "status": "completed"
    },
    "tags": []
   },
   "outputs": [
    {
     "name": "stderr",
     "output_type": "stream",
     "text": [
      "C:\\Users\\Pavithra\\anaconda3\\envs\\myenv1\\lib\\site-packages\\seaborn\\distributions.py:2557: FutureWarning: `distplot` is a deprecated function and will be removed in a future version. Please adapt your code to use either `displot` (a figure-level function with similar flexibility) or `histplot` (an axes-level function for histograms).\n",
      "  warnings.warn(msg, FutureWarning)\n"
     ]
    },
    {
     "data": {
      "image/png": "[encoded data removed]",
      "text/plain": [
       "<Figure size 432x288 with 1 Axes>"
      ]
     },
     "metadata": {
      "needs_background": "light"
     },
     "output_type": "display_data"
    },
    {
     "name": "stdout",
     "output_type": "stream",
     "text": [
      "mu city_development_index : 0.8319748670351446, sigma city_development_index : 0.12204336633570376\n",
      "\n"
     ]
    }
   ],
   "source": [
    "# city_development_index\n",
    "sns.distplot(train_data[\"city_development_index\"], fit = norm)\n",
    "plt.show()\n",
    "(mu, sigma) = norm.fit(train_data[\"city_development_index\"])\n",
    "print(\"mu {} : {}, sigma {} : {}\".format(\"city_development_index\", mu, \"city_development_index\", sigma))\n",
    "print()"
   ]
  },
  {
   "cell_type": "code",
   "execution_count": 85,
   "id": "considered-dryer",
   "metadata": {
    "execution": {
     "iopub.execute_input": "2021-04-15T16:50:13.630138Z",
     "iopub.status.busy": "2021-04-15T16:50:13.629250Z",
     "iopub.status.idle": "2021-04-15T16:50:13.667386Z",
     "shell.execute_reply": "2021-04-15T16:50:13.666301Z"
    },
    "papermill": {
     "duration": 0.228213,
     "end_time": "2021-04-15T16:50:13.667695",
     "exception": false,
     "start_time": "2021-04-15T16:50:13.439482",
     "status": "completed"
    },
    "tags": []
   },
   "outputs": [],
   "source": [
    "train_data[\"city_development_index\"], lam = boxcox(train_data[\"city_development_index\"])"
   ]
  },
  {
   "cell_type": "code",
   "execution_count": null,
   "metadata": {
    "papermill": {
     "duration": 0.177273,
     "end_time": "2021-04-15T16:50:14.025930",
     "exception": false,
     "start_time": "2021-04-15T16:50:13.848657",
     "status": "completed"
    },
    "tags": []
   },
   "outputs": [],
   "source": []
  },
  {
   "cell_type": "code",
   "execution_count": 86,
   "id": "protected-tanzania",
   "metadata": {
    "execution": {
     "iopub.execute_input": "2021-04-15T16:50:14.391038Z",
     "iopub.status.busy": "2021-04-15T16:50:14.390320Z",
     "iopub.status.idle": "2021-04-15T16:50:14.396613Z",
     "shell.execute_reply": "2021-04-15T16:50:14.395788Z"
    },
    "papermill": {
     "duration": 0.189375,
     "end_time": "2021-04-15T16:50:14.396833",
     "exception": false,
     "start_time": "2021-04-15T16:50:14.207458",
     "status": "completed"
    },
    "tags": []
   },
   "outputs": [],
   "source": [
    "train_data = train_data.reset_index(drop=True)"
   ]
  },
  {
   "cell_type": "code",
   "execution_count": 87,
   "id": "contained-cocktail",
   "metadata": {
    "execution": {
     "iopub.execute_input": "2021-04-15T16:50:14.748967Z",
     "iopub.status.busy": "2021-04-15T16:50:14.748159Z",
     "iopub.status.idle": "2021-04-15T16:50:14.753323Z",
     "shell.execute_reply": "2021-04-15T16:50:14.752242Z"
    },
    "papermill": {
     "duration": 0.179474,
     "end_time": "2021-04-15T16:50:14.753780",
     "exception": false,
     "start_time": "2021-04-15T16:50:14.574306",
     "status": "completed"
    },
    "tags": []
   },
   "outputs": [
    {
     "name": "stderr",
     "output_type": "stream",
     "text": [
      "C:\\Users\\Pavithra\\anaconda3\\envs\\myenv1\\lib\\site-packages\\pandas\\core\\frame.py:4305: SettingWithCopyWarning: \n",
      "A value is trying to be set on a copy of a slice from a DataFrame\n",
      "\n",
      "See the caveats in the documentation: https://pandas.pydata.org/pandas-docs/stable/user_guide/indexing.html#returning-a-view-versus-a-copy\n",
      "  return super().drop(\n"
     ]
    }
   ],
   "source": [
    "test = train_data[17248:]\n",
    "test.drop(labels = [\"target\",\"enrollee_id\"],axis = 1, inplace = True)"
   ]
  },
  {
   "cell_type": "code",
   "execution_count": 88,
   "id": "suspended-nicholas",
   "metadata": {
    "execution": {
     "iopub.execute_input": "2021-04-15T16:50:15.111378Z",
     "iopub.status.busy": "2021-04-15T16:50:15.110630Z",
     "iopub.status.idle": "2021-04-15T16:50:15.116887Z",
     "shell.execute_reply": "2021-04-15T16:50:15.115731Z"
    },
    "papermill": {
     "duration": 0.193105,
     "end_time": "2021-04-15T16:50:15.117053",
     "exception": false,
     "start_time": "2021-04-15T16:50:14.923948",
     "status": "completed"
    },
    "tags": []
   },
   "outputs": [
    {
     "data": {
      "text/html": [
       "<div>\n",
       "<style scoped>\n",
       "    .dataframe tbody tr th:only-of-type {\n",
       "        vertical-align: middle;\n",
       "    }\n",
       "\n",
       "    .dataframe tbody tr th {\n",
       "        vertical-align: top;\n",
       "    }\n",
       "\n",
       "    .dataframe thead th {\n",
       "        text-align: right;\n",
       "    }\n",
       "</style>\n",
       "<table border=\"1\" class=\"dataframe\">\n",
       "  <thead>\n",
       "    <tr style=\"text-align: right;\">\n",
       "      <th></th>\n",
       "      <th>city</th>\n",
       "      <th>city_development_index</th>\n",
       "      <th>gender</th>\n",
       "      <th>relevent_experience</th>\n",
       "      <th>enrolled_university</th>\n",
       "      <th>education_level</th>\n",
       "      <th>major_discipline</th>\n",
       "      <th>experience</th>\n",
       "      <th>company_size</th>\n",
       "      <th>company_type</th>\n",
       "      <th>last_new_job</th>\n",
       "      <th>training_hours</th>\n",
       "    </tr>\n",
       "  </thead>\n",
       "  <tbody>\n",
       "    <tr>\n",
       "      <th>17248</th>\n",
       "      <td>78</td>\n",
       "      <td>-0.111066</td>\n",
       "      <td>0</td>\n",
       "      <td>0</td>\n",
       "      <td>1</td>\n",
       "      <td>0</td>\n",
       "      <td>0</td>\n",
       "      <td>1</td>\n",
       "      <td>1</td>\n",
       "      <td>2</td>\n",
       "      <td>2</td>\n",
       "      <td>3.997935</td>\n",
       "    </tr>\n",
       "    <tr>\n",
       "      <th>17249</th>\n",
       "      <td>5</td>\n",
       "      <td>-0.064949</td>\n",
       "      <td>1</td>\n",
       "      <td>0</td>\n",
       "      <td>0</td>\n",
       "      <td>0</td>\n",
       "      <td>0</td>\n",
       "      <td>2</td>\n",
       "      <td>1</td>\n",
       "      <td>2</td>\n",
       "      <td>2</td>\n",
       "      <td>6.970074</td>\n",
       "    </tr>\n",
       "    <tr>\n",
       "      <th>17250</th>\n",
       "      <td>64</td>\n",
       "      <td>-0.151316</td>\n",
       "      <td>0</td>\n",
       "      <td>1</td>\n",
       "      <td>0</td>\n",
       "      <td>2</td>\n",
       "      <td>0</td>\n",
       "      <td>0</td>\n",
       "      <td>1</td>\n",
       "      <td>2</td>\n",
       "      <td>0</td>\n",
       "      <td>3.446792</td>\n",
       "    </tr>\n",
       "    <tr>\n",
       "      <th>17251</th>\n",
       "      <td>26</td>\n",
       "      <td>-0.111066</td>\n",
       "      <td>0</td>\n",
       "      <td>0</td>\n",
       "      <td>0</td>\n",
       "      <td>1</td>\n",
       "      <td>0</td>\n",
       "      <td>1</td>\n",
       "      <td>0</td>\n",
       "      <td>2</td>\n",
       "      <td>2</td>\n",
       "      <td>5.098878</td>\n",
       "    </tr>\n",
       "    <tr>\n",
       "      <th>17252</th>\n",
       "      <td>5</td>\n",
       "      <td>-0.064949</td>\n",
       "      <td>0</td>\n",
       "      <td>0</td>\n",
       "      <td>0</td>\n",
       "      <td>0</td>\n",
       "      <td>0</td>\n",
       "      <td>2</td>\n",
       "      <td>1</td>\n",
       "      <td>2</td>\n",
       "      <td>1</td>\n",
       "      <td>6.310782</td>\n",
       "    </tr>\n",
       "  </tbody>\n",
       "</table>\n",
       "</div>"
      ],
      "text/plain": [
       "       city  city_development_index  gender  relevent_experience  \\\n",
       "17248    78               -0.111066       0                    0   \n",
       "17249     5               -0.064949       1                    0   \n",
       "17250    64               -0.151316       0                    1   \n",
       "17251    26               -0.111066       0                    0   \n",
       "17252     5               -0.064949       0                    0   \n",
       "\n",
       "       enrolled_university  education_level  major_discipline  experience  \\\n",
       "17248                    1                0                 0           1   \n",
       "17249                    0                0                 0           2   \n",
       "17250                    0                2                 0           0   \n",
       "17251                    0                1                 0           1   \n",
       "17252                    0                0                 0           2   \n",
       "\n",
       "       company_size  company_type  last_new_job  training_hours  \n",
       "17248             1             2             2        3.997935  \n",
       "17249             1             2             2        6.970074  \n",
       "17250             1             2             0        3.446792  \n",
       "17251             0             2             2        5.098878  \n",
       "17252             1             2             1        6.310782  "
      ]
     },
     "execution_count": 88,
     "metadata": {},
     "output_type": "execute_result"
    }
   ],
   "source": [
    "test.head()"
   ]
  },
  {
   "cell_type": "code",
   "execution_count": 89,
   "id": "norman-extraction",
   "metadata": {
    "execution": {
     "iopub.execute_input": "2021-04-15T16:50:15.455558Z",
     "iopub.status.busy": "2021-04-15T16:50:15.454851Z",
     "iopub.status.idle": "2021-04-15T16:50:15.461880Z",
     "shell.execute_reply": "2021-04-15T16:50:15.461117Z"
    },
    "papermill": {
     "duration": 0.18136,
     "end_time": "2021-04-15T16:50:15.462043",
     "exception": false,
     "start_time": "2021-04-15T16:50:15.280683",
     "status": "completed"
    },
    "tags": []
   },
   "outputs": [
    {
     "name": "stderr",
     "output_type": "stream",
     "text": [
      "C:\\Users\\Pavithra\\anaconda3\\envs\\myenv1\\lib\\site-packages\\pandas\\core\\frame.py:4305: SettingWithCopyWarning: \n",
      "A value is trying to be set on a copy of a slice from a DataFrame\n",
      "\n",
      "See the caveats in the documentation: https://pandas.pydata.org/pandas-docs/stable/user_guide/indexing.html#returning-a-view-versus-a-copy\n",
      "  return super().drop(\n"
     ]
    }
   ],
   "source": [
    "train = train_data[:17248]\n",
    "train.drop(labels = [\"enrollee_id\"],axis = 1, inplace = True)"
   ]
  },
  {
   "cell_type": "code",
   "execution_count": 90,
   "id": "identical-education",
   "metadata": {
    "execution": {
     "iopub.execute_input": "2021-04-15T16:50:15.824654Z",
     "iopub.status.busy": "2021-04-15T16:50:15.823903Z",
     "iopub.status.idle": "2021-04-15T16:50:15.831077Z",
     "shell.execute_reply": "2021-04-15T16:50:15.829371Z"
    },
    "papermill": {
     "duration": 0.200539,
     "end_time": "2021-04-15T16:50:15.831312",
     "exception": false,
     "start_time": "2021-04-15T16:50:15.630773",
     "status": "completed"
    },
    "tags": []
   },
   "outputs": [
    {
     "data": {
      "text/html": [
       "<div>\n",
       "<style scoped>\n",
       "    .dataframe tbody tr th:only-of-type {\n",
       "        vertical-align: middle;\n",
       "    }\n",
       "\n",
       "    .dataframe tbody tr th {\n",
       "        vertical-align: top;\n",
       "    }\n",
       "\n",
       "    .dataframe thead th {\n",
       "        text-align: right;\n",
       "    }\n",
       "</style>\n",
       "<table border=\"1\" class=\"dataframe\">\n",
       "  <thead>\n",
       "    <tr style=\"text-align: right;\">\n",
       "      <th></th>\n",
       "      <th>city</th>\n",
       "      <th>city_development_index</th>\n",
       "      <th>gender</th>\n",
       "      <th>relevent_experience</th>\n",
       "      <th>enrolled_university</th>\n",
       "      <th>education_level</th>\n",
       "      <th>major_discipline</th>\n",
       "      <th>experience</th>\n",
       "      <th>company_size</th>\n",
       "      <th>company_type</th>\n",
       "      <th>last_new_job</th>\n",
       "      <th>training_hours</th>\n",
       "      <th>target</th>\n",
       "    </tr>\n",
       "  </thead>\n",
       "  <tbody>\n",
       "    <tr>\n",
       "      <th>0</th>\n",
       "      <td>77</td>\n",
       "      <td>-0.127038</td>\n",
       "      <td>0</td>\n",
       "      <td>1</td>\n",
       "      <td>0</td>\n",
       "      <td>0</td>\n",
       "      <td>0</td>\n",
       "      <td>2</td>\n",
       "      <td>1</td>\n",
       "      <td>2</td>\n",
       "      <td>1</td>\n",
       "      <td>5.454301</td>\n",
       "      <td>0.0</td>\n",
       "    </tr>\n",
       "    <tr>\n",
       "      <th>1</th>\n",
       "      <td>64</td>\n",
       "      <td>-0.151316</td>\n",
       "      <td>0</td>\n",
       "      <td>1</td>\n",
       "      <td>1</td>\n",
       "      <td>0</td>\n",
       "      <td>0</td>\n",
       "      <td>2</td>\n",
       "      <td>1</td>\n",
       "      <td>2</td>\n",
       "      <td>0</td>\n",
       "      <td>6.610489</td>\n",
       "      <td>0.0</td>\n",
       "    </tr>\n",
       "    <tr>\n",
       "      <th>2</th>\n",
       "      <td>50</td>\n",
       "      <td>-0.129335</td>\n",
       "      <td>0</td>\n",
       "      <td>0</td>\n",
       "      <td>0</td>\n",
       "      <td>1</td>\n",
       "      <td>0</td>\n",
       "      <td>2</td>\n",
       "      <td>1</td>\n",
       "      <td>2</td>\n",
       "      <td>2</td>\n",
       "      <td>2.498590</td>\n",
       "      <td>0.0</td>\n",
       "    </tr>\n",
       "    <tr>\n",
       "      <th>3</th>\n",
       "      <td>57</td>\n",
       "      <td>-0.130070</td>\n",
       "      <td>0</td>\n",
       "      <td>0</td>\n",
       "      <td>2</td>\n",
       "      <td>0</td>\n",
       "      <td>0</td>\n",
       "      <td>1</td>\n",
       "      <td>1</td>\n",
       "      <td>2</td>\n",
       "      <td>2</td>\n",
       "      <td>4.225629</td>\n",
       "      <td>1.0</td>\n",
       "    </tr>\n",
       "    <tr>\n",
       "      <th>4</th>\n",
       "      <td>49</td>\n",
       "      <td>-0.064949</td>\n",
       "      <td>0</td>\n",
       "      <td>0</td>\n",
       "      <td>0</td>\n",
       "      <td>2</td>\n",
       "      <td>0</td>\n",
       "      <td>2</td>\n",
       "      <td>1</td>\n",
       "      <td>2</td>\n",
       "      <td>2</td>\n",
       "      <td>4.225629</td>\n",
       "      <td>0.0</td>\n",
       "    </tr>\n",
       "  </tbody>\n",
       "</table>\n",
       "</div>"
      ],
      "text/plain": [
       "   city  city_development_index  gender  relevent_experience  \\\n",
       "0    77               -0.127038       0                    1   \n",
       "1    64               -0.151316       0                    1   \n",
       "2    50               -0.129335       0                    0   \n",
       "3    57               -0.130070       0                    0   \n",
       "4    49               -0.064949       0                    0   \n",
       "\n",
       "   enrolled_university  education_level  major_discipline  experience  \\\n",
       "0                    0                0                 0           2   \n",
       "1                    1                0                 0           2   \n",
       "2                    0                1                 0           2   \n",
       "3                    2                0                 0           1   \n",
       "4                    0                2                 0           2   \n",
       "\n",
       "   company_size  company_type  last_new_job  training_hours  target  \n",
       "0             1             2             1        5.454301     0.0  \n",
       "1             1             2             0        6.610489     0.0  \n",
       "2             1             2             2        2.498590     0.0  \n",
       "3             1             2             2        4.225629     1.0  \n",
       "4             1             2             2        4.225629     0.0  "
      ]
     },
     "execution_count": 90,
     "metadata": {},
     "output_type": "execute_result"
    }
   ],
   "source": [
    "train.head()"
   ]
  },
  {
   "cell_type": "code",
   "execution_count": 91,
   "id": "hearing-minimum",
   "metadata": {
    "execution": {
     "iopub.execute_input": "2021-04-15T16:50:16.190262Z",
     "iopub.status.busy": "2021-04-15T16:50:16.189559Z",
     "iopub.status.idle": "2021-04-15T16:50:16.193890Z",
     "shell.execute_reply": "2021-04-15T16:50:16.193329Z"
    },
    "papermill": {
     "duration": 0.188808,
     "end_time": "2021-04-15T16:50:16.194037",
     "exception": false,
     "start_time": "2021-04-15T16:50:16.005229",
     "status": "completed"
    },
    "tags": []
   },
   "outputs": [],
   "source": [
    "X = train.drop(labels = \"target\", axis = 1)\n",
    "y = train[\"target\"]"
   ]
  },
  {
   "cell_type": "code",
   "execution_count": 92,
   "metadata": {
    "papermill": {
     "duration": 0.178416,
     "end_time": "2021-04-15T16:50:16.546393",
     "exception": false,
     "start_time": "2021-04-15T16:50:16.367977",
     "status": "completed"
    },
    "tags": []
   },
   "outputs": [],
   "source": [
    "# TRAIN TEST SPLIT"
   ]
  },
  {
   "cell_type": "code",
   "execution_count": 93,
   "id": "valid-seeking",
   "metadata": {
    "execution": {
     "iopub.execute_input": "2021-04-15T16:50:16.905094Z",
     "iopub.status.busy": "2021-04-15T16:50:16.904352Z",
     "iopub.status.idle": "2021-04-15T16:50:16.917961Z",
     "shell.execute_reply": "2021-04-15T16:50:16.917170Z"
    },
    "papermill": {
     "duration": 0.198605,
     "end_time": "2021-04-15T16:50:16.918117",
     "exception": false,
     "start_time": "2021-04-15T16:50:16.719512",
     "status": "completed"
    },
    "tags": []
   },
   "outputs": [
    {
     "name": "stdout",
     "output_type": "stream",
     "text": [
      "X_train 13798\n",
      "X_test 3450\n",
      "y_train 13798\n",
      "y_test 3450\n",
      "test 1930\n"
     ]
    }
   ],
   "source": [
    "X_train, X_test, y_train, y_test = train_test_split(X, y, test_size = 0.2, random_state = 2)\n",
    "print(\"X_train\",len(X_train))\n",
    "print(\"X_test\",len(X_test))\n",
    "print(\"y_train\",len(y_train))\n",
    "print(\"y_test\",len(y_test))\n",
    "print(\"test\",len(test))"
   ]
  },
  {
   "cell_type": "code",
   "execution_count": 94,
   "id": "double-crowd",
   "metadata": {
    "execution": {
     "iopub.execute_input": "2021-04-15T16:50:17.276943Z",
     "iopub.status.busy": "2021-04-15T16:50:17.276215Z",
     "iopub.status.idle": "2021-04-15T16:50:17.280802Z",
     "shell.execute_reply": "2021-04-15T16:50:17.280135Z"
    },
    "papermill": {
     "duration": 0.183521,
     "end_time": "2021-04-15T16:50:17.280951",
     "exception": false,
     "start_time": "2021-04-15T16:50:17.097430",
     "status": "completed"
    },
    "tags": []
   },
   "outputs": [],
   "source": [
    "# model accuracy\n",
    "result = []"
   ]
  },
  {
   "cell_type": "markdown",
   "metadata": {
    "papermill": {
     "duration": 0.17718,
     "end_time": "2021-04-15T16:50:17.632445",
     "exception": false,
     "start_time": "2021-04-15T16:50:17.455265",
     "status": "completed"
    },
    "tags": []
   },
   "source": [
    "# XG Boost "
   ]
  },
  {
   "cell_type": "code",
   "execution_count": 95,
   "id": "leading-correlation",
   "metadata": {
    "execution": {
     "iopub.execute_input": "2021-04-15T16:50:17.985316Z",
     "iopub.status.busy": "2021-04-15T16:50:17.984654Z",
     "iopub.status.idle": "2021-04-15T16:50:18.189949Z",
     "shell.execute_reply": "2021-04-15T16:50:18.190644Z"
    },
    "papermill": {
     "duration": 0.385563,
     "end_time": "2021-04-15T16:50:18.190826",
     "exception": false,
     "start_time": "2021-04-15T16:50:17.805263",
     "status": "completed"
    },
    "tags": []
   },
   "outputs": [
    {
     "name": "stderr",
     "output_type": "stream",
     "text": [
      "C:\\Users\\Pavithra\\anaconda3\\envs\\myenv1\\lib\\site-packages\\xgboost\\sklearn.py:1146: UserWarning: The use of label encoder in XGBClassifier is deprecated and will be removed in a future release. To remove this warning, do the following: 1) Pass option use_label_encoder=False when constructing XGBClassifier object; and 2) Encode your labels (y) as integers starting with 0, i.e. 0, 1, 2, ..., [num_class - 1].\n",
      "  warnings.warn(label_encoder_deprecation_msg, UserWarning)\n"
     ]
    },
    {
     "name": "stdout",
     "output_type": "stream",
     "text": [
      "[18:40:33] WARNING: C:/Users/Administrator/workspace/xgboost-win64_release_1.4.0/src/learner.cc:1095: Starting in XGBoost 1.3.0, the default evaluation metric used with the objective 'binary:logistic' was changed from 'error' to 'logloss'. Explicitly set eval_metric if you'd like to restore the old behavior.\n",
      "RESULT\n",
      "XGBoost Model Acc :  0.7965217391304348\n"
     ]
    },
    {
     "name": "stderr",
     "output_type": "stream",
     "text": [
      "C:\\Users\\Pavithra\\anaconda3\\envs\\myenv1\\lib\\site-packages\\xgboost\\data.py:112: UserWarning: Use subset (sliced data) of np.ndarray is not recommended because it will generate extra copies and increase memory consumption\n",
      "  warnings.warn(\n"
     ]
    }
   ],
   "source": [
    "XGB = XGBClassifier(max_depth = 1)\n",
    "XGB.fit(X_train, y_train)\n",
    "y_pred_xgb = XGB.predict(X_test)\n",
    "cm_xgb = confusion_matrix(y_pred_xgb, y_test)\n",
    "acc_xgb = accuracy_score(y_test, y_pred_xgb)\n",
    "result.append(acc_xgb)\n",
    "print(\"RESULT\")\n",
    "print(\"XGBoost Model Acc : \",acc_xgb)"
   ]
  },
  {
   "cell_type": "markdown",
   "id": "frank-antigua",
   "metadata": {
    "papermill": {
     "duration": 0.175887,
     "end_time": "2021-04-15T16:50:18.541900",
     "exception": false,
     "start_time": "2021-04-15T16:50:18.366013",
     "status": "completed"
    },
    "tags": []
   },
   "source": [
    "# Random Forest "
   ]
  },
  {
   "cell_type": "code",
   "execution_count": 96,
   "id": "closed-private",
   "metadata": {
    "execution": {
     "iopub.execute_input": "2021-04-15T16:50:18.888436Z",
     "iopub.status.busy": "2021-04-15T16:50:18.887715Z",
     "iopub.status.idle": "2021-04-15T16:50:19.712027Z",
     "shell.execute_reply": "2021-04-15T16:50:19.713135Z"
    },
    "papermill": {
     "duration": 1.00319,
     "end_time": "2021-04-15T16:50:19.713415",
     "exception": false,
     "start_time": "2021-04-15T16:50:18.710225",
     "status": "completed"
    },
    "tags": []
   },
   "outputs": [
    {
     "name": "stdout",
     "output_type": "stream",
     "text": [
      "RESULT\n",
      "Random Forest Model Acc :  0.8049275362318841\n"
     ]
    }
   ],
   "source": [
    "random_forest_model = RandomForestClassifier(max_depth=7, random_state= 59)\n",
    "random_forest_model.fit(X_train, y_train)\n",
    "y_pred_random_forest = random_forest_model.predict(X_test)\n",
    "cm_random_forest = confusion_matrix(y_pred_random_forest, y_test)\n",
    "acc_random_forest = accuracy_score(y_test, y_pred_random_forest)\n",
    "result.append(acc_random_forest)\n",
    "print(\"RESULT\")\n",
    "print(\"Random Forest Model Acc : \",acc_random_forest)\n"
   ]
  },
  {
   "cell_type": "code",
   "execution_count": null,
   "metadata": {
    "papermill": {
     "duration": 0.177034,
     "end_time": "2021-04-15T16:50:20.067721",
     "exception": false,
     "start_time": "2021-04-15T16:50:19.890687",
     "status": "completed"
    },
    "tags": []
   },
   "outputs": [],
   "source": []
  },
  {
   "cell_type": "code",
   "execution_count": null,
   "id": "disabled-characteristic",
   "metadata": {
    "execution": {
     "iopub.execute_input": "2021-04-15T16:50:20.443228Z",
     "iopub.status.busy": "2021-04-15T16:50:20.431074Z",
     "iopub.status.idle": "2021-04-15T16:50:21.278822Z",
     "shell.execute_reply": "2021-04-15T16:50:21.277929Z"
    },
    "papermill": {
     "duration": 1.036941,
     "end_time": "2021-04-15T16:50:21.278968",
     "exception": false,
     "start_time": "2021-04-15T16:50:20.242027",
     "status": "completed"
    },
    "tags": []
   },
   "outputs": [],
   "source": []
  },
  {
   "cell_type": "markdown",
   "id": "saved-martin",
   "metadata": {
    "papermill": {
     "duration": 0.195929,
     "end_time": "2021-04-15T16:50:21.671620",
     "exception": false,
     "start_time": "2021-04-15T16:50:21.475691",
     "status": "completed"
    },
    "tags": []
   },
   "source": [
    "# KNN Model"
   ]
  },
  {
   "cell_type": "code",
   "execution_count": 97,
   "id": "optimum-windows",
   "metadata": {
    "execution": {
     "iopub.execute_input": "2021-04-15T16:50:22.066166Z",
     "iopub.status.busy": "2021-04-15T16:50:22.065476Z",
     "iopub.status.idle": "2021-04-15T16:50:46.230065Z",
     "shell.execute_reply": "2021-04-15T16:50:46.230747Z"
    },
    "papermill": {
     "duration": 24.367964,
     "end_time": "2021-04-15T16:50:46.230947",
     "exception": false,
     "start_time": "2021-04-15T16:50:21.862983",
     "status": "completed"
    },
    "tags": []
   },
   "outputs": [
    {
     "name": "stdout",
     "output_type": "stream",
     "text": [
      "Fitting 10 folds for each of 40 candidates, totalling 400 fits\n",
      "RESULT\n",
      "KNN Model Acc :  0.7878260869565218\n"
     ]
    }
   ],
   "source": [
    "knn_param_grid = {\"n_neighbors\": np.linspace(1,19,10, dtype = int).tolist(),\n",
    "                 \"weights\": [\"uniform\",\"distance\"],\n",
    "                 \"metric\":[\"euclidean\",\"manhattan\"]}\n",
    "\n",
    "knn = KNeighborsClassifier()\n",
    "clf = GridSearchCV(knn, param_grid=knn_param_grid, cv = StratifiedKFold(n_splits = 10), scoring = \"accuracy\", n_jobs = -1,verbose = 1)\n",
    "clf.fit(X_train,y_train)\n",
    "y_pred_knn = clf.predict(X_test)\n",
    "cm_random_knn = confusion_matrix(y_pred_knn, y_test)\n",
    "acc_random_knn = accuracy_score(y_test, y_pred_knn)\n",
    "result.append(acc_random_knn)\n",
    "print(\"RESULT\")\n",
    "print(\"KNN Model Acc : \",acc_random_knn)"
   ]
  },
  {
   "cell_type": "markdown",
   "id": "pleasant-payment",
   "metadata": {
    "papermill": {
     "duration": 0.195785,
     "end_time": "2021-04-15T16:50:46.628069",
     "exception": false,
     "start_time": "2021-04-15T16:50:46.432284",
     "status": "completed"
    },
    "tags": []
   },
   "source": [
    "# SVM"
   ]
  },
  {
   "cell_type": "code",
   "execution_count": 98,
   "id": "gentle-bottom",
   "metadata": {
    "execution": {
     "iopub.execute_input": "2021-04-15T16:50:47.029746Z",
     "iopub.status.busy": "2021-04-15T16:50:47.029032Z",
     "iopub.status.idle": "2021-04-15T16:50:56.353951Z",
     "shell.execute_reply": "2021-04-15T16:50:56.354481Z"
    },
    "papermill": {
     "duration": 9.53311,
     "end_time": "2021-04-15T16:50:56.354672",
     "exception": false,
     "start_time": "2021-04-15T16:50:46.821562",
     "status": "completed"
    },
    "tags": []
   },
   "outputs": [
    {
     "name": "stdout",
     "output_type": "stream",
     "text": [
      "RESULT\n",
      "SVM Model Acc :  0.7634782608695653\n"
     ]
    }
   ],
   "source": [
    "svm = SVC()\n",
    "svm.fit(X_train, y_train)\n",
    "y_pred_svm = svm.predict(X_test)\n",
    "cm_svm = confusion_matrix(y_pred_svm, y_test)\n",
    "acc_svm = accuracy_score(y_test, y_pred_svm)\n",
    "result.append(acc_svm)\n",
    "print(\"RESULT\")\n",
    "print(\"SVM Model Acc : \",acc_svm)"
   ]
  },
  {
   "cell_type": "markdown",
   "id": "automated-system",
   "metadata": {
    "papermill": {
     "duration": 0.201243,
     "end_time": "2021-04-15T16:50:56.751592",
     "exception": false,
     "start_time": "2021-04-15T16:50:56.550349",
     "status": "completed"
    },
    "tags": []
   },
   "source": [
    "# Model Results"
   ]
  },
  {
   "cell_type": "code",
   "execution_count": 99,
   "id": "roman-oklahoma",
   "metadata": {
    "execution": {
     "iopub.execute_input": "2021-04-15T16:50:57.163728Z",
     "iopub.status.busy": "2021-04-15T16:50:57.162719Z",
     "iopub.status.idle": "2021-04-15T16:50:57.166734Z",
     "shell.execute_reply": "2021-04-15T16:50:57.165995Z"
    },
    "papermill": {
     "duration": 0.213722,
     "end_time": "2021-04-15T16:50:57.166895",
     "exception": false,
     "start_time": "2021-04-15T16:50:56.953173",
     "status": "completed"
    },
    "tags": []
   },
   "outputs": [],
   "source": [
    "results = pd.DataFrame({\"Model Result\":result, \n",
    "                        \"Models\":[\"XGBoost\",\n",
    "                                  \"RandomForest\",\n",
    "                                  \"KNN\", \n",
    "                                  \"SVM\"]})"
   ]
  },
  {
   "cell_type": "code",
   "execution_count": 100,
   "id": "capable-table",
   "metadata": {
    "execution": {
     "iopub.execute_input": "2021-04-15T16:50:57.559351Z",
     "iopub.status.busy": "2021-04-15T16:50:57.558321Z",
     "iopub.status.idle": "2021-04-15T16:50:57.562346Z",
     "shell.execute_reply": "2021-04-15T16:50:57.562959Z"
    },
    "papermill": {
     "duration": 0.205757,
     "end_time": "2021-04-15T16:50:57.563127",
     "exception": false,
     "start_time": "2021-04-15T16:50:57.357370",
     "status": "completed"
    },
    "tags": []
   },
   "outputs": [
    {
     "data": {
      "text/html": [
       "<div>\n",
       "<style scoped>\n",
       "    .dataframe tbody tr th:only-of-type {\n",
       "        vertical-align: middle;\n",
       "    }\n",
       "\n",
       "    .dataframe tbody tr th {\n",
       "        vertical-align: top;\n",
       "    }\n",
       "\n",
       "    .dataframe thead th {\n",
       "        text-align: right;\n",
       "    }\n",
       "</style>\n",
       "<table border=\"1\" class=\"dataframe\">\n",
       "  <thead>\n",
       "    <tr style=\"text-align: right;\">\n",
       "      <th></th>\n",
       "      <th>Model Result</th>\n",
       "      <th>Models</th>\n",
       "    </tr>\n",
       "  </thead>\n",
       "  <tbody>\n",
       "    <tr>\n",
       "      <th>0</th>\n",
       "      <td>0.796522</td>\n",
       "      <td>XGBoost</td>\n",
       "    </tr>\n",
       "    <tr>\n",
       "      <th>1</th>\n",
       "      <td>0.804928</td>\n",
       "      <td>RandomForest</td>\n",
       "    </tr>\n",
       "    <tr>\n",
       "      <th>2</th>\n",
       "      <td>0.787826</td>\n",
       "      <td>KNN</td>\n",
       "    </tr>\n",
       "    <tr>\n",
       "      <th>3</th>\n",
       "      <td>0.763478</td>\n",
       "      <td>SVM</td>\n",
       "    </tr>\n",
       "  </tbody>\n",
       "</table>\n",
       "</div>"
      ],
      "text/plain": [
       "   Model Result        Models\n",
       "0      0.796522       XGBoost\n",
       "1      0.804928  RandomForest\n",
       "2      0.787826           KNN\n",
       "3      0.763478           SVM"
      ]
     },
     "execution_count": 100,
     "metadata": {},
     "output_type": "execute_result"
    }
   ],
   "source": [
    "results"
   ]
  },
  {
   "cell_type": "code",
   "execution_count": 101,
   "id": "serious-faith",
   "metadata": {
    "execution": {
     "iopub.execute_input": "2021-04-15T16:50:57.950442Z",
     "iopub.status.busy": "2021-04-15T16:50:57.949476Z",
     "iopub.status.idle": "2021-04-15T16:50:58.119457Z",
     "shell.execute_reply": "2021-04-15T16:50:58.119944Z"
    },
    "papermill": {
     "duration": 0.365393,
     "end_time": "2021-04-15T16:50:58.120128",
     "exception": false,
     "start_time": "2021-04-15T16:50:57.754735",
     "status": "completed"
    },
    "tags": []
   },
   "outputs": [
    {
     "name": "stderr",
     "output_type": "stream",
     "text": [
      "C:\\Users\\Pavithra\\anaconda3\\envs\\myenv1\\lib\\site-packages\\seaborn\\_decorators.py:36: FutureWarning: Pass the following variables as keyword args: x, y. From version 0.12, the only valid positional argument will be `data`, and passing other arguments without an explicit keyword will result in an error or misinterpretation.\n",
      "  warnings.warn(\n"
     ]
    },
    {
     "data": {
      "image/png": "[encoded data removed]",
      "text/plain": [
       "<Figure size 432x288 with 1 Axes>"
      ]
     },
     "metadata": {
      "needs_background": "light"
     },
     "output_type": "display_data"
    }
   ],
   "source": [
    "g = sns.barplot(\"Model Result\", \"Models\", data = results)\n",
    "g.set_xlabel(\"Accuracy\")\n",
    "g.set_title(\"Models Result\", color = \"darkred\")\n",
    "plt.show()"
   ]
  },
  {
   "cell_type": "code",
   "execution_count": 119,
   "metadata": {
    "papermill": {
     "duration": 0.190634,
     "end_time": "2021-04-15T16:50:58.506044",
     "exception": false,
     "start_time": "2021-04-15T16:50:58.315410",
     "status": "completed"
    },
    "tags": []
   },
   "outputs": [],
   "source": [
    "#PREDICTION USING LOGISTIC REGRESSION"
   ]
  },
  {
   "cell_type": "code",
   "execution_count": 120,
   "metadata": {},
   "outputs": [],
   "source": [
    "logistic = LogisticRegression(random_state=0)"
   ]
  },
  {
   "cell_type": "code",
   "execution_count": 124,
   "metadata": {},
   "outputs": [
    {
     "data": {
      "text/plain": [
       "0.7782608695652173"
      ]
     },
     "execution_count": 124,
     "metadata": {},
     "output_type": "execute_result"
    }
   ],
   "source": [
    "from sklearn.preprocessing import StandardScaler\n",
    "from sklearn.pipeline import make_pipeline\n",
    "pipe = make_pipeline(StandardScaler(), LogisticRegression())\n",
    "\n",
    "\n",
    "\n",
    "pipe.fit(X_train, y_train) \n",
    "\n",
    "\n",
    "pipe.score(X_test, y_test)\n",
    "\n",
    "#pipe.predict_proba(X_test)\n",
    "#y_pred_logistic = logistic.predict(X_test)"
   ]
  },
  {
   "cell_type": "code",
   "execution_count": 122,
   "metadata": {},
   "outputs": [],
   "source": [
    "prob_arr = pipe.predict_proba(X_test)\n",
    "probabilities_of_exit = pd.DataFrame(prob_arr)"
   ]
  },
  {
   "cell_type": "code",
   "execution_count": 123,
   "metadata": {},
   "outputs": [
    {
     "data": {
      "text/html": [
       "<div>\n",
       "<style scoped>\n",
       "    .dataframe tbody tr th:only-of-type {\n",
       "        vertical-align: middle;\n",
       "    }\n",
       "\n",
       "    .dataframe tbody tr th {\n",
       "        vertical-align: top;\n",
       "    }\n",
       "\n",
       "    .dataframe thead th {\n",
       "        text-align: right;\n",
       "    }\n",
       "</style>\n",
       "<table border=\"1\" class=\"dataframe\">\n",
       "  <thead>\n",
       "    <tr style=\"text-align: right;\">\n",
       "      <th></th>\n",
       "      <th>0</th>\n",
       "      <th>1</th>\n",
       "    </tr>\n",
       "  </thead>\n",
       "  <tbody>\n",
       "    <tr>\n",
       "      <th>0</th>\n",
       "      <td>0.921169</td>\n",
       "      <td>0.078831</td>\n",
       "    </tr>\n",
       "    <tr>\n",
       "      <th>1</th>\n",
       "      <td>0.862138</td>\n",
       "      <td>0.137862</td>\n",
       "    </tr>\n",
       "    <tr>\n",
       "      <th>2</th>\n",
       "      <td>0.911158</td>\n",
       "      <td>0.088842</td>\n",
       "    </tr>\n",
       "    <tr>\n",
       "      <th>3</th>\n",
       "      <td>0.483646</td>\n",
       "      <td>0.516354</td>\n",
       "    </tr>\n",
       "    <tr>\n",
       "      <th>4</th>\n",
       "      <td>0.509347</td>\n",
       "      <td>0.490653</td>\n",
       "    </tr>\n",
       "    <tr>\n",
       "      <th>...</th>\n",
       "      <td>...</td>\n",
       "      <td>...</td>\n",
       "    </tr>\n",
       "    <tr>\n",
       "      <th>3445</th>\n",
       "      <td>0.850297</td>\n",
       "      <td>0.149703</td>\n",
       "    </tr>\n",
       "    <tr>\n",
       "      <th>3446</th>\n",
       "      <td>0.909675</td>\n",
       "      <td>0.090325</td>\n",
       "    </tr>\n",
       "    <tr>\n",
       "      <th>3447</th>\n",
       "      <td>0.610936</td>\n",
       "      <td>0.389064</td>\n",
       "    </tr>\n",
       "    <tr>\n",
       "      <th>3448</th>\n",
       "      <td>0.864240</td>\n",
       "      <td>0.135760</td>\n",
       "    </tr>\n",
       "    <tr>\n",
       "      <th>3449</th>\n",
       "      <td>0.866063</td>\n",
       "      <td>0.133937</td>\n",
       "    </tr>\n",
       "  </tbody>\n",
       "</table>\n",
       "<p>3450 rows × 2 columns</p>\n",
       "</div>"
      ],
      "text/plain": [
       "             0         1\n",
       "0     0.921169  0.078831\n",
       "1     0.862138  0.137862\n",
       "2     0.911158  0.088842\n",
       "3     0.483646  0.516354\n",
       "4     0.509347  0.490653\n",
       "...        ...       ...\n",
       "3445  0.850297  0.149703\n",
       "3446  0.909675  0.090325\n",
       "3447  0.610936  0.389064\n",
       "3448  0.864240  0.135760\n",
       "3449  0.866063  0.133937\n",
       "\n",
       "[3450 rows x 2 columns]"
      ]
     },
     "execution_count": 123,
     "metadata": {},
     "output_type": "execute_result"
    }
   ],
   "source": [
    "probabilities_of_exit"
   ]
  },
  {
   "cell_type": "code",
   "execution_count": null,
   "metadata": {},
   "outputs": [],
   "source": []
  }
 ],
 "metadata": {
  "kernelspec": {
   "display_name": "Python 3",
   "language": "python",
   "name": "python3"
  },
  "language_info": {
   "codemirror_mode": {
    "name": "ipython",
    "version": 3
   },
   "file_extension": ".py",
   "mimetype": "text/x-python",
   "name": "python",
   "nbconvert_exporter": "python",
   "pygments_lexer": "ipython3",
   "version": "3.8.5"
  },
  "papermill": {
   "default_parameters": {},
   "duration": 100.028282,
   "end_time": "2021-04-15T16:50:59.711900",
   "environment_variables": {},
   "exception": null,
   "input_path": "__notebook__.ipynb",
   "output_path": "__notebook__.ipynb",
   "parameters": {},
   "start_time": "2021-04-15T16:49:19.683618",
   "version": "2.3.2"
  },
  "widgets": {
   "application/vnd.jupyter.widget-state+json": {
    "state": {
     "43fcf3b6c6af4f93b0c96e7a70a708eb": {
      "model_module": "@jupyter-widgets/base",
      "model_module_version": "1.2.0",
      "model_name": "DOMWidgetModel",
      "state": {
       "_dom_classes": [],
       "_model_module": "@jupyter-widgets/base",
       "_model_module_version": "1.2.0",
       "_model_name": "DOMWidgetModel",
       "_view_count": null,
       "_view_module": "catboost_module",
       "_view_module_version": "",
       "_view_name": "CatboostIpythonWidgetView",
       "data": {
        "catboost_info": {
         "content": {
          "data": {
           "iterations": [
            {
             "iteration": 0,
             "learn": [
              0.7872155385,
              0.6695408458
             ],
             "passed_time": 0.06349643993,
             "remaining_time": 31.68472352,
             "test": [
              0.7976811594,
              0.6689288406
             ]
            },
            {
             "iteration": 1,
             "learn": [
              0.7871430642,
              0.6502500803
             ],
             "passed_time": 0.07268193545,
             "remaining_time": 18.09780193,
             "test": [
              0.8028985507,
              0.6488477672
             ]
            },
            {
             "iteration": 2,
             "learn": [
              0.7871430642,
              0.6320001824
             ],
             "passed_time": 0.07905822625,
             "remaining_time": 13.09731282,
             "test": [
              0.8028985507,
              0.6299090149
             ]
            },
            {
             "iteration": 3,
             "learn": [
              0.7870705899,
              0.6152796054
             ],
             "passed_time": 0.0855858148,
             "remaining_time": 10.61264104,
             "test": [
              0.8037681159,
              0.6124411867
             ]
            },
            {
             "iteration": 4,
             "learn": [
              0.787360487,
              0.6004830213
             ],
             "passed_time": 0.09228708066,
             "remaining_time": 9.136420986,
             "test": [
              0.804057971,
              0.5971215112
             ]
            },
            {
             "iteration": 5,
             "learn": [
              0.7869981157,
              0.5873346957
             ],
             "passed_time": 0.0993324218,
             "remaining_time": 8.178369395,
             "test": [
              0.8034782609,
              0.5834743688
             ]
            },
            {
             "iteration": 6,
             "learn": [
              0.7872880128,
              0.57607523
             ],
             "passed_time": 0.1061166377,
             "remaining_time": 7.473643197,
             "test": [
              0.804057971,
              0.5716673428
             ]
            },
            {
             "iteration": 7,
             "learn": [
              0.7872880128,
              0.5651971802
             ],
             "passed_time": 0.1127682615,
             "remaining_time": 6.935248084,
             "test": [
              0.8043478261,
              0.5599895062
             ]
            },
            {
             "iteration": 8,
             "learn": [
              0.7869256414,
              0.5553838503
             ],
             "passed_time": 0.1191785407,
             "remaining_time": 6.501851501,
             "test": [
              0.8037681159,
              0.5496944375
             ]
            },
            {
             "iteration": 9,
             "learn": [
              0.787360487,
              0.5475894165
             ],
             "passed_time": 0.1257965875,
             "remaining_time": 6.164032788,
             "test": [
              0.8034782609,
              0.5415502972
             ]
            },
            {
             "iteration": 10,
             "learn": [
              0.7870705899,
              0.5398528516
             ],
             "passed_time": 0.1330251267,
             "remaining_time": 5.913571543,
             "test": [
              0.8037681159,
              0.5331980382
             ]
            },
            {
             "iteration": 11,
             "learn": [
              0.7871430642,
              0.532979184
             ],
             "passed_time": 0.1396748293,
             "remaining_time": 5.680109726,
             "test": [
              0.804057971,
              0.5258136137
             ]
            },
            {
             "iteration": 12,
             "learn": [
              0.7867806929,
              0.5272406258
             ],
             "passed_time": 0.146093479,
             "remaining_time": 5.472886481,
             "test": [
              0.8031884058,
              0.5196387672
             ]
            },
            {
             "iteration": 13,
             "learn": [
              0.7869981157,
              0.5222487806
             ],
             "passed_time": 0.152745985,
             "remaining_time": 5.302467766,
             "test": [
              0.8034782609,
              0.5143196238
             ]
            },
            {
             "iteration": 14,
             "learn": [
              0.7872155385,
              0.5179426158
             ],
             "passed_time": 0.1595552489,
             "remaining_time": 5.158953049,
             "test": [
              0.8037681159,
              0.5097186638
             ]
            },
            {
             "iteration": 15,
             "learn": [
              0.7872880128,
              0.5137726052
             ],
             "passed_time": 0.1654590967,
             "remaining_time": 5.005137676,
             "test": [
              0.8034782609,
              0.5051878041
             ]
            },
            {
             "iteration": 16,
             "learn": [
              0.7872880128,
              0.5097191134
             ],
             "passed_time": 0.1729457696,
             "remaining_time": 4.913694512,
             "test": [
              0.8031884058,
              0.500791448
             ]
            },
            {
             "iteration": 17,
             "learn": [
              0.7872880128,
              0.5059646233
             ],
             "passed_time": 0.1797256575,
             "remaining_time": 4.812653719,
             "test": [
              0.8037681159,
              0.4967319719
             ]
            },
            {
             "iteration": 18,
             "learn": [
              0.7872880128,
              0.5029604504
             ],
             "passed_time": 0.187276047,
             "remaining_time": 4.74104098,
             "test": [
              0.8034782609,
              0.4934403001
             ]
            },
            {
             "iteration": 19,
             "learn": [
              0.7872155385,
              0.4997924451
             ],
             "passed_time": 0.1944608466,
             "remaining_time": 4.667060319,
             "test": [
              0.804057971,
              0.4899155583
             ]
            },
            {
             "iteration": 20,
             "learn": [
              0.7872880128,
              0.4969490903
             ],
             "passed_time": 0.201583714,
             "remaining_time": 4.598028524,
             "test": [
              0.804057971,
              0.4868567998
             ]
            },
            {
             "iteration": 21,
             "learn": [
              0.7872155385,
              0.4949054441
             ],
             "passed_time": 0.2084656918,
             "remaining_time": 4.529390939,
             "test": [
              0.8037681159,
              0.4846329295
             ]
            },
            {
             "iteration": 22,
             "learn": [
              0.7876503841,
              0.4927440564
             ],
             "passed_time": 0.2149538936,
             "remaining_time": 4.457956836,
             "test": [
              0.8037681159,
              0.4822702076
             ]
            },
            {
             "iteration": 23,
             "learn": [
              0.7875779098,
              0.4904988765
             ],
             "passed_time": 0.221410415,
             "remaining_time": 4.391306565,
             "test": [
              0.8037681159,
              0.4798169385
             ]
            },
            {
             "iteration": 24,
             "learn": [
              0.7875054356,
              0.4886594382
             ],
             "passed_time": 0.2276740149,
             "remaining_time": 4.325806282,
             "test": [
              0.804057971,
              0.4777392048
             ]
            },
            {
             "iteration": 25,
             "learn": [
              0.7877228584,
              0.4868806232
             ],
             "passed_time": 0.2342279537,
             "remaining_time": 4.27015577,
             "test": [
              0.8034782609,
              0.4757566726
             ]
            },
            {
             "iteration": 26,
             "learn": [
              0.7875054356,
              0.4853083014
             ],
             "passed_time": 0.2411976734,
             "remaining_time": 4.225425908,
             "test": [
              0.8034782609,
              0.4741113266
             ]
            },
            {
             "iteration": 27,
             "learn": [
              0.7876503841,
              0.4840583243
             ],
             "passed_time": 0.24803863,
             "remaining_time": 4.18122262,
             "test": [
              0.8034782609,
              0.4728061612
             ]
            },
            {
             "iteration": 28,
             "learn": [
              0.7876503841,
              0.4829821221
             ],
             "passed_time": 0.2544059172,
             "remaining_time": 4.131903001,
             "test": [
              0.8034782609,
              0.4716050892
             ]
            },
            {
             "iteration": 29,
             "learn": [
              0.7876503841,
              0.4818459429
             ],
             "passed_time": 0.2624368452,
             "remaining_time": 4.111510575,
             "test": [
              0.8034782609,
              0.4702725419
             ]
            },
            {
             "iteration": 30,
             "learn": [
              0.7877953327,
              0.4809069262
             ],
             "passed_time": 0.269400698,
             "remaining_time": 4.075771851,
             "test": [
              0.804057971,
              0.4691685874
             ]
            },
            {
             "iteration": 31,
             "learn": [
              0.7880852297,
              0.4798768907
             ],
             "passed_time": 0.2760034748,
             "remaining_time": 4.036550819,
             "test": [
              0.804057971,
              0.4679099139
             ]
            },
            {
             "iteration": 32,
             "learn": [
              0.7880852297,
              0.4789572653
             ],
             "passed_time": 0.283374141,
             "remaining_time": 4.010173449,
             "test": [
              0.804057971,
              0.4667595411
             ]
            },
            {
             "iteration": 33,
             "learn": [
              0.7880852297,
              0.47788599
             ],
             "passed_time": 0.2898841401,
             "remaining_time": 3.97311792,
             "test": [
              0.804057971,
              0.4656228358
             ]
            },
            {
             "iteration": 34,
             "learn": [
              0.7880852297,
              0.4771155171
             ],
             "passed_time": 0.2958782229,
             "remaining_time": 3.930953533,
             "test": [
              0.804057971,
              0.4647938882
             ]
            },
            {
             "iteration": 35,
             "learn": [
              0.7880127555,
              0.4764046458
             ],
             "passed_time": 0.3025841221,
             "remaining_time": 3.89997313,
             "test": [
              0.804057971,
              0.4639595314
             ]
            },
            {
             "iteration": 36,
             "learn": [
              0.788157704,
              0.4756888602
             ],
             "passed_time": 0.3088915898,
             "remaining_time": 3.865319083,
             "test": [
              0.804057971,
              0.4631242537
             ]
            },
            {
             "iteration": 37,
             "learn": [
              0.7882301783,
              0.4749510877
             ],
             "passed_time": 0.3161842929,
             "remaining_time": 3.844135351,
             "test": [
              0.8043478261,
              0.4623543564
             ]
            },
            {
             "iteration": 38,
             "learn": [
              0.7884476011,
              0.474509173
             ],
             "passed_time": 0.32292522,
             "remaining_time": 3.817141704,
             "test": [
              0.8043478261,
              0.4618849428
             ]
            },
            {
             "iteration": 39,
             "learn": [
              0.7884476011,
              0.4738868139
             ],
             "passed_time": 0.3287605815,
             "remaining_time": 3.780746687,
             "test": [
              0.8043478261,
              0.4611396571
             ]
            },
            {
             "iteration": 40,
             "learn": [
              0.7886650239,
              0.4733869745
             ],
             "passed_time": 0.335309736,
             "remaining_time": 3.753833386,
             "test": [
              0.8043478261,
              0.4605446708
             ]
            },
            {
             "iteration": 41,
             "learn": [
              0.7885925496,
              0.4729300364
             ],
             "passed_time": 0.3416002733,
             "remaining_time": 3.725069647,
             "test": [
              0.8043478261,
              0.4600007896
             ]
            },
            {
             "iteration": 42,
             "learn": [
              0.7887374982,
              0.4724282138
             ],
             "passed_time": 0.3482184192,
             "remaining_time": 3.700832966,
             "test": [
              0.8046376812,
              0.4593903958
             ]
            },
            {
             "iteration": 43,
             "learn": [
              0.7887374982,
              0.4720186237
             ],
             "passed_time": 0.3548190292,
             "remaining_time": 3.677215394,
             "test": [
              0.804057971,
              0.4590354026
             ]
            },
            {
             "iteration": 44,
             "learn": [
              0.7888099725,
              0.4715720977
             ],
             "passed_time": 0.3617799745,
             "remaining_time": 3.65799752,
             "test": [
              0.8049275362,
              0.4585615545
             ]
            },
            {
             "iteration": 45,
             "learn": [
              0.7888824467,
              0.4713004459
             ],
             "passed_time": 0.3686307241,
             "remaining_time": 3.638224973,
             "test": [
              0.804057971,
              0.4583003738
             ]
            },
            {
             "iteration": 46,
             "learn": [
              0.788954921,
              0.4710298611
             ],
             "passed_time": 0.3749899028,
             "remaining_time": 3.614264382,
             "test": [
              0.8043478261,
              0.4579863682
             ]
            },
            {
             "iteration": 47,
             "learn": [
              0.7890273953,
              0.4707909784
             ],
             "passed_time": 0.3814915688,
             "remaining_time": 3.59237894,
             "test": [
              0.8037681159,
              0.4577301037
             ]
            },
            {
             "iteration": 48,
             "learn": [
              0.788954921,
              0.4705677658
             ],
             "passed_time": 0.3875694811,
             "remaining_time": 3.567221143,
             "test": [
              0.8031884058,
              0.4574647355
             ]
            },
            {
             "iteration": 49,
             "learn": [
              0.7888099725,
              0.4703496256
             ],
             "passed_time": 0.3937467134,
             "remaining_time": 3.543720421,
             "test": [
              0.8034782609,
              0.4572322432
             ]
            },
            {
             "iteration": 50,
             "learn": [
              0.7886650239,
              0.4700255109
             ],
             "passed_time": 0.3998040929,
             "remaining_time": 3.519843877,
             "test": [
              0.8034782609,
              0.4569657064
             ]
            },
            {
             "iteration": 51,
             "learn": [
              0.7886650239,
              0.4698242589
             ],
             "passed_time": 0.4062428763,
             "remaining_time": 3.499938627,
             "test": [
              0.8034782609,
              0.4567633376
             ]
            },
            {
             "iteration": 52,
             "learn": [
              0.7888824467,
              0.469485757
             ],
             "passed_time": 0.4133215891,
             "remaining_time": 3.485938685,
             "test": [
              0.8037681159,
              0.4563128745
             ]
            },
            {
             "iteration": 53,
             "learn": [
              0.7888099725,
              0.4693203652
             ],
             "passed_time": 0.4198474241,
             "remaining_time": 3.467628725,
             "test": [
              0.8026086957,
              0.4560925916
             ]
            },
            {
             "iteration": 54,
             "learn": [
              0.7885200754,
              0.4690944832
             ],
             "passed_time": 0.4259516208,
             "remaining_time": 3.446335841,
             "test": [
              0.8031884058,
              0.4559027125
             ]
            },
            {
             "iteration": 55,
             "learn": [
              0.7885925496,
              0.4687925276
             ],
             "passed_time": 0.4324904977,
             "remaining_time": 3.429031803,
             "test": [
              0.8026086957,
              0.4556563835
             ]
            },
            {
             "iteration": 56,
             "learn": [
              0.7888824467,
              0.4684691742
             ],
             "passed_time": 0.4386647493,
             "remaining_time": 3.409271648,
             "test": [
              0.8026086957,
              0.455320096
             ]
            },
            {
             "iteration": 57,
             "learn": [
              0.7890998695,
              0.4682676204
             ],
             "passed_time": 0.4447485645,
             "remaining_time": 3.389290784,
             "test": [
              0.8031884058,
              0.4551621576
             ]
            },
            {
             "iteration": 58,
             "learn": [
              0.7892448181,
              0.4681092866
             ],
             "passed_time": 0.4511633289,
             "remaining_time": 3.372254712,
             "test": [
              0.8031884058,
              0.4549547367
             ]
            },
            {
             "iteration": 59,
             "learn": [
              0.7893897666,
              0.4678647778
             ],
             "passed_time": 0.4579730814,
             "remaining_time": 3.358469264,
             "test": [
              0.8031884058,
              0.4548874644
             ]
            },
            {
             "iteration": 60,
             "learn": [
              0.7896071894,
              0.4676690767
             ],
             "passed_time": 0.4641119128,
             "remaining_time": 3.340084094,
             "test": [
              0.8031884058,
              0.4547209059
             ]
            },
            {
             "iteration": 61,
             "learn": [
              0.789752138,
              0.4675075138
             ],
             "passed_time": 0.4706375333,
             "remaining_time": 3.324826445,
             "test": [
              0.8031884058,
              0.4545647405
             ]
            },
            {
             "iteration": 62,
             "learn": [
              0.789752138,
              0.467223934
             ],
             "passed_time": 0.4766791364,
             "remaining_time": 3.306488613,
             "test": [
              0.8031884058,
              0.4542917791
             ]
            },
            {
             "iteration": 63,
             "learn": [
              0.7899695608,
              0.4670680152
             ],
             "passed_time": 0.4834676502,
             "remaining_time": 3.293623367,
             "test": [
              0.8034782609,
              0.4541122456
             ]
            },
            {
             "iteration": 64,
             "learn": [
              0.7899695608,
              0.4669127195
             ],
             "passed_time": 0.4898126084,
             "remaining_time": 3.277976687,
             "test": [
              0.8034782609,
              0.4539858505
             ]
            },
            {
             "iteration": 65,
             "learn": [
              0.7899695608,
              0.4666985557
             ],
             "passed_time": 0.4961096585,
             "remaining_time": 3.262296845,
             "test": [
              0.8034782609,
              0.4537717386
             ]
            },
            {
             "iteration": 66,
             "learn": [
              0.789752138,
              0.466398851
             ],
             "passed_time": 0.5024842026,
             "remaining_time": 3.247397906,
             "test": [
              0.8028985507,
              0.4534926291
             ]
            },
            {
             "iteration": 67,
             "learn": [
              0.7894622409,
              0.4662856672
             ],
             "passed_time": 0.508863835,
             "remaining_time": 3.232782011,
             "test": [
              0.8023188406,
              0.4533849232
             ]
            },
            {
             "iteration": 68,
             "learn": [
              0.7896796637,
              0.4661228519
             ],
             "passed_time": 0.5153992631,
             "remaining_time": 3.219378006,
             "test": [
              0.8023188406,
              0.4532388702
             ]
            },
            {
             "iteration": 69,
             "learn": [
              0.7896796637,
              0.4659225129
             ],
             "passed_time": 0.5213209343,
             "remaining_time": 3.202400025,
             "test": [
              0.8020289855,
              0.4531095268
             ]
            },
            {
             "iteration": 70,
             "learn": [
              0.789752138,
              0.4657823776
             ],
             "passed_time": 0.5276571403,
             "remaining_time": 3.188238214,
             "test": [
              0.8020289855,
              0.4530107748
             ]
            },
            {
             "iteration": 71,
             "learn": [
              0.7896796637,
              0.4655697291
             ],
             "passed_time": 0.5343484149,
             "remaining_time": 3.176404466,
             "test": [
              0.8020289855,
              0.4528973563
             ]
            },
            {
             "iteration": 72,
             "learn": [
              0.7896796637,
              0.4653621735
             ],
             "passed_time": 0.5411494848,
             "remaining_time": 3.165353836,
             "test": [
              0.8020289855,
              0.4527561
             ]
            },
            {
             "iteration": 73,
             "learn": [
              0.7898970865,
              0.4652452261
             ],
             "passed_time": 0.5483497312,
             "remaining_time": 3.15671602,
             "test": [
              0.8020289855,
              0.4526789484
             ]
            },
            {
             "iteration": 74,
             "learn": [
              0.7898970865,
              0.4651033845
             ],
             "passed_time": 0.5554963103,
             "remaining_time": 3.147812425,
             "test": [
              0.8023188406,
              0.4525912199
             ]
            },
            {
             "iteration": 75,
             "learn": [
              0.789752138,
              0.4649665434
             ],
             "passed_time": 0.5620173656,
             "remaining_time": 3.135465303,
             "test": [
              0.8020289855,
              0.4524989598
             ]
            },
            {
             "iteration": 76,
             "learn": [
              0.7899695608,
              0.4647941663
             ],
             "passed_time": 0.5689035472,
             "remaining_time": 3.125275331,
             "test": [
              0.8028985507,
              0.4523639923
             ]
            },
            {
             "iteration": 77,
             "learn": [
              0.7900420351,
              0.4646530596
             ],
             "passed_time": 0.5752791722,
             "remaining_time": 3.112407829,
             "test": [
              0.8026086957,
              0.4522935401
             ]
            },
            {
             "iteration": 78,
             "learn": [
              0.7901145093,
              0.464580925
             ],
             "passed_time": 0.5817969331,
             "remaining_time": 3.100462137,
             "test": [
              0.8023188406,
              0.4522593041
             ]
            },
            {
             "iteration": 79,
             "learn": [
              0.7899695608,
              0.4644948405
             ],
             "passed_time": 0.5880229661,
             "remaining_time": 3.087120572,
             "test": [
              0.8026086957,
              0.4521670748
             ]
            },
            {
             "iteration": 80,
             "learn": [
              0.7900420351,
              0.4644072124
             ],
             "passed_time": 0.5943461292,
             "remaining_time": 3.074457137,
             "test": [
              0.8023188406,
              0.4521340393
             ]
            },
            {
             "iteration": 81,
             "learn": [
              0.7901869836,
              0.4642723712
             ],
             "passed_time": 0.6010916188,
             "remaining_time": 3.064101179,
             "test": [
              0.8026086957,
              0.4521293159
             ]
            },
            {
             "iteration": 82,
             "learn": [
              0.7901869836,
              0.4641014823
             ],
             "passed_time": 0.6073471136,
             "remaining_time": 3.051370438,
             "test": [
              0.8028985507,
              0.4519487739
             ]
            },
            {
             "iteration": 83,
             "learn": [
              0.7904768807,
              0.4639845507
             ],
             "passed_time": 0.6135737648,
             "remaining_time": 3.038651026,
             "test": [
              0.8028985507,
              0.4518982857
             ]
            },
            {
             "iteration": 84,
             "learn": [
              0.7902594579,
              0.4638947299
             ],
             "passed_time": 0.6209547758,
             "remaining_time": 3.031720376,
             "test": [
              0.8026086957,
              0.4518578298
             ]
            },
            {
             "iteration": 85,
             "learn": [
              0.7904768807,
              0.4637841003
             ],
             "passed_time": 0.6277616708,
             "remaining_time": 3.022015485,
             "test": [
              0.8028985507,
              0.4518227311
             ]
            },
            {
             "iteration": 86,
             "learn": [
              0.7904044064,
              0.4637013353
             ],
             "passed_time": 0.6337958953,
             "remaining_time": 3.00870925,
             "test": [
              0.8028985507,
              0.451831254
             ]
            },
            {
             "iteration": 87,
             "learn": [
              0.7906218293,
              0.4636229595
             ],
             "passed_time": 0.6399481595,
             "remaining_time": 2.996120929,
             "test": [
              0.8023188406,
              0.451806203
             ]
            },
            {
             "iteration": 88,
             "learn": [
              0.7906218293,
              0.4635463699
             ],
             "passed_time": 0.6464613048,
             "remaining_time": 2.985343778,
             "test": [
              0.8028985507,
              0.451736412
             ]
            },
            {
             "iteration": 89,
             "learn": [
              0.7904768807,
              0.4634213803
             ],
             "passed_time": 0.6530467554,
             "remaining_time": 2.974990774,
             "test": [
              0.8028985507,
              0.4516697511
             ]
            },
            {
             "iteration": 90,
             "learn": [
              0.7901869836,
              0.4633303818
             ],
             "passed_time": 0.659376618,
             "remaining_time": 2.963571833,
             "test": [
              0.8031884058,
              0.4515781824
             ]
            },
            {
             "iteration": 91,
             "learn": [
              0.7901869836,
              0.4632777953
             ],
             "passed_time": 0.6656151803,
             "remaining_time": 2.951858626,
             "test": [
              0.8034782609,
              0.4515728336
             ]
            },
            {
             "iteration": 92,
             "learn": [
              0.7901145093,
              0.4631942477
             ],
             "passed_time": 0.6718450726,
             "remaining_time": 2.94022521,
             "test": [
              0.8026086957,
              0.4515307942
             ]
            },
            {
             "iteration": 93,
             "learn": [
              0.7903319322,
              0.4630959951
             ],
             "passed_time": 0.6793495848,
             "remaining_time": 2.934212037,
             "test": [
              0.8026086957,
              0.4514549057
             ]
            },
            {
             "iteration": 94,
             "learn": [
              0.7904044064,
              0.4630045243
             ],
             "passed_time": 0.6858261483,
             "remaining_time": 2.923785158,
             "test": [
              0.8023188406,
              0.4514083192
             ]
            }
           ],
           "meta": {
            "iteration_count": 500,
            "launch_mode": "Train",
            "learn_metrics": [
             {
              "best_value": "Max",
              "name": "Accuracy"
             },
             {
              "best_value": "Min",
              "name": "Logloss"
             }
            ],
            "learn_sets": [
             "learn"
            ],
            "name": "experiment",
            "parameters": "",
            "test_metrics": [
             {
              "best_value": "Max",
              "name": "Accuracy"
             },
             {
              "best_value": "Min",
              "name": "Logloss"
             }
            ],
            "test_sets": [
             "test"
            ]
           }
          },
          "passed_iterations": 94,
          "total_iterations": 500
         },
         "name": "catboost_info",
         "path": "catboost_info"
        }
       },
       "layout": "IPY_MODEL_62940441b58d40ffa9c27f6f0140ee67"
      }
     },
     "62940441b58d40ffa9c27f6f0140ee67": {
      "model_module": "@jupyter-widgets/base",
      "model_module_version": "1.2.0",
      "model_name": "LayoutModel",
      "state": {
       "_model_module": "@jupyter-widgets/base",
       "_model_module_version": "1.2.0",
       "_model_name": "LayoutModel",
       "_view_count": null,
       "_view_module": "@jupyter-widgets/base",
       "_view_module_version": "1.2.0",
       "_view_name": "LayoutView",
       "align_content": null,
       "align_items": null,
       "align_self": "stretch",
       "border": null,
       "bottom": null,
       "display": null,
       "flex": null,
       "flex_flow": null,
       "grid_area": null,
       "grid_auto_columns": null,
       "grid_auto_flow": null,
       "grid_auto_rows": null,
       "grid_column": null,
       "grid_gap": null,
       "grid_row": null,
       "grid_template_areas": null,
       "grid_template_columns": null,
       "grid_template_rows": null,
       "height": "500px",
       "justify_content": null,
       "justify_items": null,
       "left": null,
       "margin": null,
       "max_height": null,
       "max_width": null,
       "min_height": null,
       "min_width": null,
       "object_fit": null,
       "object_position": null,
       "order": null,
       "overflow": null,
       "overflow_x": null,
       "overflow_y": null,
       "padding": null,
       "right": null,
       "top": null,
       "visibility": null,
       "width": null
      }
     }
    },
    "version_major": 2,
    "version_minor": 0
   }
  }
 },
 "nbformat": 4,
 "nbformat_minor": 5
}
